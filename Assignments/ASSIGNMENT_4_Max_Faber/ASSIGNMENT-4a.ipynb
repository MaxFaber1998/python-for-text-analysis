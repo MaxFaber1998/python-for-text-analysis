{
 "cells": [
  {
   "cell_type": "markdown",
   "metadata": {
    "pycharm": {
     "name": "#%% md\n"
    }
   },
   "source": [
    "# Assignment 4a: Data structures (CSV/TSV and JSON)\n",
    "\n",
    "**Deadline for Assignment 4a+b: Friday, October 14, 2022 (5pm) via Canvas (Assignment 4)** \n",
    "\n",
    "* Please name your notebook with the following naming convention: \n",
    "  ASSIGNMENT_4a_FIRSTNAME_LASTNAME.ipynb \n",
    "* Please submit your complete assignment (4a + 4b) by compressing all your material into **a single .zip file** following this naming convention: ASSIGNMENT_4_FIRSTNAME_LASTNAME.zip.  \n",
    "\n",
    "## Please note that there is a BA and an MA version of Assignment 4b\n",
    "\n",
    "In case you are not sure about creating a zip file from a folder, please refer to [this guide](https://fossbytes.com/how-to-zip-file-in-windows-mac/) (or any other guide you find online).\n",
    "\n",
    "\n",
    "\n",
    "If you have **questions** about this chapter, please contact us at cltl.python.course@gmail.com. Questions and answers will be collected in [this Q&A document](https://docs.google.com/document/d/1ynQAqPa2CGB02okyyE4F1StytDqpyRoBqUpWfeBqI_Y/edit?usp=sharing), so please check if your question has already been answered. \n",
    "\n",
    "In this block, we covered the following chapters about data formats:\n",
    "\n",
    "- Chapter 16 - Data Formats I (CSV/TSV)\n",
    "- Chapter 17 - Data Formats II (JSON)\n",
    "- Chapter 18 - Data Formats III (XML) *only for master-level course*\n",
    "\n",
    "In this assignment, you will also have to apply your knowledge about containers. If you get stuck, you are likely to find solutions in the chapters about containers (Block 2). \n",
    "\n",
    "\n",
    "**Tip**:\n",
    "\n",
    "It could happen that your code throws a unicode error when you're trying to open one of the files used in this assignment. If this is the case, you can probably solve if by specifying the encoding when reading in the file:\n",
    "\n",
    "```python\n",
    "with open(your/file/path, 'r', encoding = 'utf-8') as infile:\n",
    "    #your code\n",
    "```\n"
   ]
  },
  {
   "cell_type": "markdown",
   "metadata": {
    "pycharm": {
     "name": "#%% md\n"
    }
   },
   "source": [
    "## Exercise 1: Trump's Facebook Status Updates (CSV/TSV)\n",
    "\n",
    "In the folder `../Data/csv_data` there is a TSV file called `trump_facebook.tsv` that contains Facebook status updates posted by Donald Trump. It was downloaded from [here](https://www.reddit.com/r/datasets/comments/581hqm/all_of_donald_trumps_facebook_statuses_reaction). Follow the instructions below to read the file and find specific status updates.\n"
   ]
  },
  {
   "cell_type": "markdown",
   "metadata": {
    "pycharm": {
     "name": "#%% md\n"
    }
   },
   "source": [
    "### 1a. Write your own function for reading CSV\n",
    "Write a function called `read_csv()` that has two parameters: \n",
    "\n",
    "* **`input_file`** (positional parameter) and \n",
    "* **`delimiter`** (keyword parameter with default string `\",\"`). \n",
    "\n",
    "The function should read the file and return `status_updates` which contains the content of the file as a 'list of dicts'. When tested on `../Data/Trump-Facebook/FacebookStatuses.tsv` the first two status updates should thus be represented as follows:\n",
    "\n",
    "```\n",
    "[{'link_name': 'Timeline Photos',\n",
    "  'num_angrys': '7',\n",
    "  'num_comments': '543',\n",
    "  'num_hahas': '17',\n",
    "  'num_likes': '6178',\n",
    "  'num_loves': '572',\n",
    "  'num_reactions': '6813',\n",
    "  'num_sads': '0',\n",
    "  'num_shares': '359',\n",
    "  'num_wows': '39',\n",
    "  'status_id': '153080620724_10157915294545725',\n",
    "  'status_link': 'https://www.facebook.com/DonaldTrump/photos/a.488852220724.393301.153080620724/10157915294545725/?type=3',\n",
    "  'status_message': 'Beautiful evening in Wisconsin- THANK YOU for your incredible support tonight! Everyone get out on November 8th - and VOTE! LETS MAKE AMERICA GREAT AGAIN! -DJT',\n",
    "  'status_published': '10/17/2016 20:56:51',\n",
    "  'status_type': 'photo'},\n",
    " {'link_name': '',\n",
    "  'num_angrys': '5211',\n",
    "  'num_comments': '3644',\n",
    "  'num_hahas': '75',\n",
    "  'num_likes': '26649',\n",
    "  'num_loves': '487',\n",
    "  'num_reactions': '33768',\n",
    "  'num_sads': '191',\n",
    "  'num_shares': '17653',\n",
    "  'num_wows': '1155',\n",
    "  'status_id': '153080620724_10157914483265725',\n",
    "  'status_link': 'https://www.facebook.com/DonaldTrump/videos/10157914483265725/',\n",
    "  'status_message': \"The State Department's quid pro quo scheme proves how CORRUPT our system is. Attempting to protect Crooked Hillary, NOT our American service members or national security information, is absolutely DISGRACEFUL. The American people deserve so much better. On November 8th, we will END this RIGGED system once and for all!\",\n",
    "  'status_published': '10/17/2016 18:00:41',\n",
    "  'status_type': 'video'}]\n",
    "```\n",
    "\n",
    "**DO NOT USE THE CSV MODULE FOR THIS EXERCISE!**"
   ]
  },
  {
   "cell_type": "markdown",
   "metadata": {
    "pycharm": {
     "name": "#%% md\n"
    }
   },
   "source": [
    "In case you didn't manage to create the `read_csv()` function, run the following code using the `DictReader()` method from the `csv` module to get the data in the right format for the following exercises:"
   ]
  },
  {
   "cell_type": "code",
   "execution_count": 2,
   "outputs": [
    {
     "data": {
      "text/plain": "[{'status_id': '153080620724_10157915294545725',\n  'status_message': 'Beautiful evening in Wisconsin- THANK YOU for your incredible support tonight! Everyone get out on November 8th - and VOTE! LETS MAKE AMERICA GREAT AGAIN! -DJT',\n  'link_name': 'Timeline Photos',\n  'status_type': 'photo',\n  'status_link': 'https://www.facebook.com/DonaldTrump/photos/a.488852220724.393301.153080620724/10157915294545725/?type=3',\n  'status_published': '10/17/2016 20:56:51',\n  'num_reactions': '6813',\n  'num_comments': '543',\n  'num_shares': '359',\n  'num_likes': '6178',\n  'num_loves': '572',\n  'num_wows': '39',\n  'num_hahas': '17',\n  'num_sads': '0',\n  'num_angrys': '7'},\n {'status_id': '153080620724_10157914483265725',\n  'status_message': \"The State Department's quid pro quo scheme proves how CORRUPT our system is. Attempting to protect Crooked Hillary, NOT our American service members or national security information, is absolutely DISGRACEFUL. The American people deserve so much better. On November 8th, we will END this RIGGED system once and for all!\",\n  'link_name': '',\n  'status_type': 'video',\n  'status_link': 'https://www.facebook.com/DonaldTrump/videos/10157914483265725/',\n  'status_published': '10/17/2016 18:00:41',\n  'num_reactions': '33768',\n  'num_comments': '3644',\n  'num_shares': '17653',\n  'num_likes': '26649',\n  'num_loves': '487',\n  'num_wows': '1155',\n  'num_hahas': '75',\n  'num_sads': '191',\n  'num_angrys': '5211'}]"
     },
     "execution_count": 2,
     "metadata": {},
     "output_type": "execute_result"
    }
   ],
   "source": [
    "def read_csv(input_file, delimiter=\",\"):\n",
    "    \"\"\"\n",
    "    Reads a CSV file and returns it in a list of dictionaries\n",
    "    :param input_file: Path to the CSV to be read\n",
    "    :param delimiter: Delimiter to split the contents of the file on\n",
    "    :return: A list of dictionaries which contains the contents of the CSV\n",
    "    \"\"\"\n",
    "    status_updates_list = []\n",
    "\n",
    "    # Open the file and store the contents in a variable\n",
    "    with open(input_file, 'r', encoding='utf-8') as file_reader:\n",
    "        csv_data = file_reader.read()\n",
    "    # Split the data on a newline character so that every row is stored separately in a list\n",
    "    csv_data = csv_data.split('\\n')\n",
    "    # The first row contains the column names, which we split based on the given delimiter\n",
    "    column_names = csv_data[0].split(delimiter)\n",
    "    # The rest of the rows contain the actual values\n",
    "    rows = csv_data[1:]\n",
    "    # Process the values in the rows iteratively\n",
    "    for row in rows:\n",
    "        status_update_dict = dict()\n",
    "        # Same principle as splitting the column names\n",
    "        row_values = row.split(delimiter)\n",
    "\n",
    "        # Iterate over the row values and column names, which are lists in the same order.\n",
    "        # So it's safe to use zip()\n",
    "        for value, id in zip(row_values, column_names):\n",
    "            # Update the current dictionary\n",
    "            status_update_dict[id] = value\n",
    "        # Add the constructed dictionary to the list of dictionaries\n",
    "        status_updates_list.append(status_update_dict)\n",
    "    return status_updates_list\n",
    "\n",
    "\n",
    "# test your function here\n",
    "filename = \"../Data/csv_data/trump_facebook.tsv\"\n",
    "status_updates = read_csv(filename, delimiter=\"\\t\")\n",
    "status_updates[0:2]"
   ],
   "metadata": {
    "collapsed": false,
    "pycharm": {
     "name": "#%%\n"
    }
   }
  },
  {
   "cell_type": "code",
   "execution_count": 3,
   "metadata": {
    "pycharm": {
     "name": "#%%\n"
    }
   },
   "outputs": [],
   "source": [
    "# Not going to use this one as the self-written function works accordingly\n",
    "\n",
    "# import csv\n",
    "#\n",
    "# filename = \"../Data/csv_data/trump_facebook.tsv\"\n",
    "# with open(filename, \"r\") as infile:\n",
    "#     status_updates = []\n",
    "#     csv_reader = csv.DictReader(infile, delimiter='\\t')\n",
    "#     for row in csv_reader:\n",
    "#         status_updates.append(row)"
   ]
  },
  {
   "cell_type": "markdown",
   "metadata": {
    "pycharm": {
     "name": "#%% md\n"
    }
   },
   "source": [
    "### 1b. Find the status updates with the most responses\n",
    "\n",
    "Define a function called **`get_update_most_responded_to()`** that has the following parameters: \n",
    "* **`status_updates`** (positional parameter) \n",
    "* **`response_type`** (keyword parameter with default string `\"likes\"`) \n",
    "\n",
    "The fuction should find the status update that received the highest number of possible reactions to a Facebook status (emoji such as 'angrys', 'comments', 'hahas', etc. - anything that starts with 'num_'). It should return three strings: the **`status_message`**, the **`status_type`** and the **`status_link`** of this particular status update.\n"
   ]
  },
  {
   "cell_type": "code",
   "execution_count": 4,
   "metadata": {
    "pycharm": {
     "name": "#%%\n"
    }
   },
   "outputs": [
    {
     "name": "stdout",
     "output_type": "stream",
     "text": [
      "status_message: Stop congratulating Obama for killing Bin Laden. The Navy Seals killed Bin Laden.\n",
      "status_type: status\n",
      "status_link: \n"
     ]
    }
   ],
   "source": [
    "def get_update_most_responded_to(status_updates, response_type='likes'):\n",
    "    \"\"\"\n",
    "    Gets the message, type and link of a status update with the highest no. responses\n",
    "    :param status_updates: The status updates to search through\n",
    "    :param response_type: The response type to search the highest number of\n",
    "    :return: Tuple containing the message, type and link\n",
    "    \"\"\"\n",
    "    # Current maximum of responses is set to minus infinity as this comes in handy\n",
    "    # A smaller number simply isn't possible\n",
    "    max_responses = float('-inf')\n",
    "    # Tuple which is going to store the current status with the greatest no. responses\n",
    "    selected_status = ('', '', '')\n",
    "\n",
    "    for status_update in status_updates:\n",
    "        # Convert the current no. responses in a variable (and cast to an integer as it's still a string)\n",
    "        num_responses = int(status_update[f'num_{response_type}'])\n",
    "\n",
    "        # Check if the selected no. responses is greater than the current maximum no. responses\n",
    "        if num_responses > max_responses:\n",
    "            # Store the status_message, status_type and status_link of the current status update in the selected_status tuple\n",
    "            selected_status = (status_update['status_message'], status_update['status_type'], status_update['status_link'])\n",
    "            # Update the new maximum no. responses\n",
    "            max_responses = num_responses\n",
    "    return selected_status\n",
    "\n",
    "# Get the status_message, status_type and status_link of the status update with the highest no. reactions\n",
    "# Disclaimer: some fields might be empty (this means these fields are also empty in the original dataset)\n",
    "status_message, status_type, status_link = get_update_most_responded_to(status_updates, response_type='reactions')\n",
    "print(f'status_message: {status_message}')\n",
    "print(f'status_type: {status_type}')\n",
    "print(f'status_link: {status_link}')"
   ]
  },
  {
   "cell_type": "markdown",
   "metadata": {
    "pycharm": {
     "name": "#%% md\n"
    }
   },
   "source": [
    "### 1c. Find the longest status updates\n",
    "\n",
    "Define a function called **`get_longest_update()`** that has the following parameters: \n",
    "* **`status_updates`** (positional parameter) \n",
    "* **`length_type`** (keyword parameter with default string `\"tokens\"`). \n",
    "\n",
    "The function should find the longest update. By default, the fuction should find the status update that is the longest in terms of number of tokens. Also implement the options to find the longst status update in terms of characters or sentences in the message. These options should be carried out when `length_type` is changed to `\"sentences\"` or `\"characters\"` \n",
    "\n",
    "The function should return the status message (called `'status_message'` in the data structure) of the longest update as a string. \n",
    "\n",
    "**Attention**: It is recommended to use NLTK for this exercise. \n"
   ]
  },
  {
   "cell_type": "code",
   "execution_count": 7,
   "metadata": {
    "pycharm": {
     "name": "#%%\n"
    }
   },
   "outputs": [
    {
     "name": "stderr",
     "output_type": "stream",
     "text": [
      "[nltk_data] Downloading package punkt to /Users/maxfaber/nltk_data...\n",
      "[nltk_data]   Unzipping tokenizers/punkt.zip.\n"
     ]
    },
    {
     "name": "stdout",
     "output_type": "stream",
     "text": [
      "Longest update based on the number of tokens: ***Message from Eric Trump*** Before my father takes the stage to face Hillary Clinton, I'll be giving him a list of supporters who made a contribution just before the big debate.   Add your name to the list: http://bit.ly/2duCRlw   Please contribute $100, $65, $35, $20, $15, or even $3 before 8pm ET tonight to get your name on the list of supporters I give him before he takes the stage.  Get on the list here: http://bit.ly/2duCRlw Paula P. James N. Kathy W. Erick M. Curt C. Mark C. Nancy  L. Barbara S. David L. Roy B. Kris M. Daniel S. Daniel D. Eugene L. Caihua W. Ken M. Tommy H. Bill S. Thomas O. Christine W. Dennis J. Erin C. Chad M. Rachel T. Carolyn G. William J. Cindy C. Eugene L. Judy F. Manny C. Edward R. Garry L. Grace B. Boris V. Chris  L. William J. Steven  T. Joann M. Paul S. James E. John P. Marc S. Jim B. Melynda S. Richard S. Jonathan J. Craig O. Ed K. Eileen M. Carmen M. Sherry P. Daniel Mabrey T. Chad B. Ellen  R. Scott P. Keith T. Steven W. Alan A. Don L. Vickie S. Celina F. Joan  T. Michael  R. Joni F. Caryn M. Jada H. Michael S. Stephen C. Laura H. Richard  S. Bonnie H. Kathryn Y. Donna C. Ted B. Gail P. Rich W. Deborah C. Eva  S. Sharon G. Donald B. Mike B. Randall M. Anthony M. Red G. Linda H. Janis M. Carol H. Tom M. Cindy T. Crystal T. Tony C. Robert H. John R. Mieszko S. Brian  C. Levin Q. James P. Lee W. Aaron R. Jean D. Danielle E. Linda  F. Steven B. Russell S. Ronald C. James F. Kelly S. Chad B. Rob S. Alan C. Tracy J. Gregory P. Peggy L. Thomas S. Jeffrey M. Lorin H. Anthony N. Zack S. Kay M. Virginia S. Toula B. Jason H. Steve C. Jeff C. Derek T. Denise G. Nancy  B. Brian  S. Anthony G. Thomas F. Brunell M. Kimberley H. David R. Dawn L. Martha S. Kara M. Andrew G. Karl S. Robin  M. Joseph M. Andrew H. Douglas L. Maria F. Justin  S. Sally N. Dawn M. Peter S. Joseph C. Daniel L. Raymond H. Gianni  S. Anthony M. Joe C. Steve B. Arlene  G. Christopher H. Laura L. Amy  J. Roseanne B. Colleen K. Dolly D. Dana M. Steven S. Sandra F. Shannon  S. Joy F. Karrie F. Virginia S. Christine  L. Rebecca L. Sandra B. Charles C. Paul G. Victor L. Andrii M. Phyllis O. Paula B. Joanne D. Duranne M. Matthew L. Erin L. Sandra P. John W. James S. Tammy P. Colleen L. Bruce C. Derrick  C. Joshua C. Frank B. Steve B. Lauren C. Alan D B. Sandy  R. Barry S. John S. Jonathan O. Lance B. Joseph B. Charles L. Michael V. Paul E. Dennis F. Ryan K. Kimberley  L. Lillibeth G. Grace D. John P. Sherwin  T. Christopher M. Zella C. Robert F. Anthony S. Jerrell D. Michael B. Arlis V. Nancy C. Richard S. Terry T. Benjamin M. Greg E. Ellen B. Frank A. Rafael  C. Shirl S. Sheila T. Glenn B. Megan T. Karen D. Barbara B. Kerry M. Jack E. Forrest J. Todd R. Lynn W. Michael Z. Lisa M. Sutooda N. Jeremy S. Dan G. Abbey M. Mort S. Laurie P. Robyn W. Allen D. Ricardo  M. Kathee W. Lynn P. Jonathan B. Angela J. Dan B. Richard J. Genevieve B. David M. John A. Kathleen H. Martha H. Debra J. Steve J. Stephen R. Vaughn M. Gary H. Tommy W. Bambi  M. Lorraine S. Jacqueline H. Timothy N. Valerie B. Randal  S. Mike O. Brian D. Lu D. Edith R. Wendy B. Robert L. Amar & Angela S. Mark Y. Eddie B. Jeffrey S. Diane A. Alexander D. Patty K. Cathy H. Lescoe F. Frank A. Colin H. Paul M. Timothy S. Marilyn G. Jeff M. Candi B. Antonio J. John P. Clarice B. John M. James C. Andrew K. Terri E. Rick W. Will M. John M. Gregory M. Kenny T. Kenneth V. Robert C. Linda L. Sandy S. Robert G. Jimmy  D. Shirley S. Grant S. Jonathan  S. Julie G. William  M. Richard B. Debra C. Carol D. Pat M. Dawn E. Marvin F. Frances C. Elaine P. Marsha R. Robert P. Kiri M. Colleen L. Julie F. Rob A. Natalie E. Darrell V. Beverly  C. Kristie K. Aurelia K. Mike C. Justin  D. Matthew H. Stephen S. Tommy S. Kendra M. Kathi H. Yolanda D. Rob S. Lee J. Maureen  W. Patrick  H. Melissa M. Marty K. Stuart H. Chandler G. David S. Joseph L. Wayne S. Janie W. Harold L. Larry B. Suzanne  C. Demar S. Dana W. Suzette W. Karen  D. Deborah V. David M. Dan T. James S. Jose S. Janet W. Josh G. Lynn F. Hunter L. Marcia J. Jeremy A. Anthony M. Stephen S. Mihaela S. Thomas N. Cynthia  P. Yoav W. Steve C. Marti R. Angie C. Simon L. Rich O. Michael W. Barbara D. Michael O. Clyde P. Kelly H. Laurella  H. Cheryl  G. Shelly F. Ryan A. Michael  T. Mollie R. Michael H. Mark T. Michael S. Lynn M. Rita C. Sue S. Peter H. Paula R. Wayne D. Justin G. Glenda L R. James B. Kathy T. Susan W. Michael C. Roxanne  R. Jeremy H. Patrick  O. Derek J. Juan R. Alice J. Isaac C. Doyle M. Jeffrey F. Adam B. Scott B. Linda C. Kris B. Joe S. Rick W. Ross H. Kathleen G. William S. Joseph H. Lane M. Troy H. David R. Larry K. Rotha B. Linda G. Erin  R. John K. Haig D. Frank G. Patti C. Kelly E. Terry T. Jean S. Sarah R. Kay  W. John M. Roy B. Debbi  H. Cory C. Rosemary A. Jay H. Kevin G. Shelia W. Erin G. Victoria R. Michelle M. Ronald N. Rosemarie C. Jeffrey T. Timothy F. William  C. Glenn E. Matt K. Scott B. Vicki M. Mathew F. Ricardo A. Angel S. Walter L. Sandra N. Brenda R. Tonya T. John  S. Janet E. Daniel G. Cameron F. Bryan V. Donna P B. Gretchen P. Kenneth S. Marie G. Carol P. Edith W. Marian K. David J H. David R. Sheila E. Richard H. Carole W. Diane C. Clinton A. John J. Christina B. Darlene S. Christopher A. Deborah  D. Ruth F. Glen L. Paul H. Deitra W. Mike R. Anne Marie  V. Sue A B. Ronald W. Beverly G. David P. Pamela B. Brandon M. Paul K. Robert  V. Matthew Y. Harold C. Harold C. Michelle  H. Bonnie J. Glenn J. Melissa  M. Ashley G. Dell R. Thomas C. Paul F. David C. Donald H. Nancy S. Arik B. Michael L. Shawn L. Paul K. Dianne P. Ron  H. Raymond N. Willie M S. Joseph  R. Marleny H. Celeste R. Janet K. Rebecca B. Richard S. Joe C. Paul M. Maria  P. R D S. Nate K. David R. David C. Donna B. Charles B. Jill D. Delinda S. Jerry  B. Sandra D. Lucas L. Paul G. Rosa S. Ben R. Lars M. Brandon  K. Jimmy H. Nishant K. Shawn S. James D. Annamarie B. Eric K. Anthony N. Robert J. Gerard O. William W. Jesus C. Donald R. Michelle G. Rebecca L. Rose Mary  C. Cornell O. Marvin S. David S. Richard K. Chris T. Ginni C. Tommy P. Vincent M. Jeff C. Terrie T. Michele A. Angelique M. Jessica P. Ronda G. Jeanie D. Michelle U. Harold L. Krystene H. Deborah M. Diane A. Katherine F. Christopher J. Roy D. Roman P. Nathan E. Amy L. Cindy A. Jeff H. Jessica N. E. P. Alexander Z. Dar S. Justin P. Anita H. Hank A. Mary J. Anthony  B. Javier G. Ramon M. Jutta  N. Patrick R. Tara C. Henry G. Angel L. Peter P. Darin A. Mary K. Audrey K. Geoff C. James P. John B. Tracy H. Robin M. Karl S. Scott L. Raymond S. Mark S. John  S. Amrom  L. Fernando C. Georgene  T. Richard S. Darlene W. Brian  W. Bruce S. Christopher K. Charles T. Bill C. Lisa S. Bruce & Kathy S. Kurt S. Judy F. Ricky P. Andrew W. Jorge A. Ernest R. Janice J. Eddie P. Kevin S. Vincent V. Bretlin M. Belton H. James G. Patrick A. Debbie W. James  D. Ciecie K. Annette L. Alan S. Gordon O. Erin O. Benjamin  H. William S. Timothy F. Everett G. Linda R. Sarah B. Taylor S. Ryan M. David M. Chris  F. Ken O. David M. Matthew J. Larry T. Jon B. Kevin T. Mary Margaret O. William K. Kimberley M. David W. Geoff M. Leslee J. Dave F. Ernest F. Michael K. Earl P. Linda S. Micki P. David B. Carrie  M. Michael S. Gary S. Thomas T. Joyce M. Harry B. Miranda W. Michael N. Brian M. Joseph B. Howard R. Kit  C. Barry C. Rita  D. Dale G. David V. Jeremy R. Vanessa H. Joseph Peter D. Peter C. Frank E. Mary Ann C. Mark  G. John C. Larry D. Joshua L. Cindy C. Vickie D. Chris  J. Beatriz W. Robert K. Erick F. Jean M. Roy C. Jan B. Victor R. Kalyan M. Josh C. Howard R. Sharon H. Okey  A. Ted N. Shawn M. William L. Kevin R. Jonathan H. J L. Johanes S. Michael G. William M. Christine  H. Paul C. Ann F. Robert W. David J  M. Gary W. Deb H. Robert E. John S. Anthony J. Carl  N. Casey F. Linda C. Chadwick H. Brianna D. Richard S. Guy H. William B. Laurell A. Peter R. James W. Ralph V. Patrick C. James W. Maher E. Melanie B. Susan H. Marilyn Z. Lawrence  T. Steven M. Douglas H. Robert S. Deborah H. Robert S. James R. Linda V. Lucas L. Toney H. Thomas K. Thomas C. Joshua B. Josiah B. Denise R. Jeanne R. Linda F. James C. Travis K. Michael S. Melony N. Adam W. Jeff O. Eric C. Michael M. Pascal P. Harold J. Dustin S. Stephanie A. Gary N. Gene H. Jennifer C. Rodney S. Simona      L. Kristi  S. Laurie K. Claesen W. Cynthia D. Carolyn S C. Cynthia  E. Ann O. Nancy R. Steven B. Dale S. Snejana S. Judy J. Mary M. C. Lemuel  O. Donna S. Tim L. Deana H. Christopher J. Chris Z. Robert  S. Carol B. Cathy M. Sean C. Damien G. Rich T. Irene M. George F. Jane M. Brad K. Raggy J. Harold   S. William  L. David A W. Kellie M. Brock D. Robert W. Wiley H. Janet O. Eugene J. Larry P. Scott  S. Wayne B. Joe B. Beverly B. Russell B. Sal M. Barbara S. Debbie R. Jared L. Linda M. Jon M. Rodney O. Emanuel F. Nicholas M. Aaron O. Kristi A. Ben R. Brian B. Mark C. Iouri M. Joan Y. Gina E. Linda C. William  H. Diana Dove  F. Karen B. Jorge I. Mark N. Lisa M. Christopher S. Stacey W. Rebecca D. Frank K. George M. Adaline S. Robert C. Louis G. Robert G. Keegan  A. Nathan B. Richard R. Patricia  H. Harriet M. Catherine U. Mark R. Jeff M. Dale F. Philip R. Ann B. Leslie J M. Cheryl A. Terrance H. Jack W. William  M. Tim K. Cindy M. Thomas G. John  S. Kelley E. Debra F. Ruth H. Connie W. Gary L. Tom S. Daryl S. Maurice J. Kenneth W. Raymond B. Dakotah C. Janice B. Gina P. David V. Craig M. Thomas  B. Perla A. Alan Rodney T. Kevin T. William B. Mandy E. Charles L. Lawrence C. Richard V. Laurie M. Jamie G. Miriam V. Eric K. Valerie  S. Nicole  F. Joanna S. Gene L. Amy D. Steven T. Darren B. Suzanne D. Miguel E. Deanna D. Michael B. Jonathan H. Marialena F. Hal D. Gordon L. James S. James  H. Rhonda L. Julie B. Catherine B. Kathy M. Melissa S. Charlie M. Cole B. Ron David J. Richard A. Bart M. Steven K. Neit N. Nancy C. Ed R. Chris S. Edward V. Mary Ellen D. Paul T. Glenda  K. Eileen P. Stephen  S. Ryan G. Michael R. Alfredo C. Dawn B. Brad S. Caroline W. Debra B. Thomas J. Kevin A. Raina S. Gary C. Melissa P. James S. James J. Crystal G. Carrie B. Alan K. Michael H. Michelle L. Paul K. Glenn W. Heather R. Sonnie H. Mark N. David Y. Ronald W. Todd H. Donald C. Calum D. Stacey B. Marie  S. Kimberly  G. Randy P. Jack P. Joel A. Lana D. Ladonna F. Gilbert D. Nora D. Michael J. Brooke W. Rod R. Caroline B. David B. Marian R. Janet B. Paul F. Terri S. Ruben G. Anita M. David P. Loretta S. Ovidiu M. Thomas Y. Catherine F. Randall M. Eric D. Ileana B. Joseph  M. Philip C. Kurt R. Benjamin L. Darren G. Ruth A. Manuel L. Gary W. Barry E. Michael F. Cathleen R. Anthony M. Ernie K. Frank N. Nicholas S. Ralph H. Garrett Y. Kay B. Caren C. Kenneth M. Clayton  U. Jackie P. Pamela W. Clayton G. Lisa P. John G. Patrick K. Cliff L. Brian P. Ski B. Sharon  B. John A. Christi T. Ward G. Jakob B. Matthew J. Joan H. Kathleen S. Heather B. John D. Michael M. K W. Michele  C. Kim  Q. Ronnie G. Tammy B. James C. Debra  C. James W. Thomas S. Adrian B. Jeffrey J. Scott H. Nicholas J. Derek G. Thomas T. Deborah  H. Todd L. Aneta P. Janet  S. Jennifer B. Alan R. Michele T. Michael V. Concepcion D. Dawn K. David S. John D. Ricki T. Michael P. James G. Mary R. Brendan H. Joseph M. Timothy E. Michael A. Teresa C. Paul G. Channa Sumedha D. Les K. Jenae D. Jeffrey M. Robert B. Niles  H. Justin S. Chad M. Lazaro P. Sonya S. Mark P. Victoria M. Peggy S. Eric W. Lisa S. Joseph  P. Dina C. David S. Nick F. Jay A. Satoshi N. Melinda S. Denise B. Beth L. Bob & Laurie A. John E. Keith  B. Patricia H. Carole H. Donns W. Susan B. Brian H. Kathryn B. Nicholas F. Timothy R. Michelle D. Phyllis E. Charlie B. Whitney K. Alison S. Rebecca  B. Gwynn J. Frankie  P. William B. Mark  P. Joyce D. Ellie C. Chris  L. Lori R. Craig K. Patrick B. Jerome C. Joanie S. Desmond M. Stephen H. Damiano D. Peter M. David B. Michael M. Becky R. Joseph C. Brandon C. Loren C W. Brandon R. Cory R. Rick B. Andrew P. Julianne E. Leslie H. Susan L. Justin W. Mark E. Jeffery P. Nick R. Carol S. Victoria D. Bill L. Piotr S. Filippa Marie B. Intak O. Jason S. Alex W. Ruben R. Judy B. Randy Y. Jeffrey P. Michael N. Kyle B. Monic S. Joan T. Tommy A. Gilberto D. Jason A. Molly M. Brandon H. Aaron L. Nathan C. James H. Ricky G. Linda K. Richard G. Nicholas D. Fleming W. Marcos R. Harry L. Linda H. Mark  Y. Jose S. Paul W. Mary M M. Michael D. Susan S. Theresa E. Elgin R. Jeffrey S. Steve C. Harley W. Bob S. Blaine L. Natalya  O. Patrick F. Patricia C. Nancy M. William G. Pete  A. Kym B. Jeannette D. Theodore M. Thomas H. William W. Jennifer S. Gloria S. Francis M. Alan P. Mike V. David  D. Wilhelm B. Jeffrey H. Wayne M. James K. William B. Christopher  F. Garrett G. Svetlana O. Luigi P. Barbara W. Kevin  M. Vicki R. Theodore W. Brian K. Richard S. George W. Taylor A. Laurie H. Jim  S. Daniel  L. Jason M. Steve D. David D. Scott C. Steven C. James R. Brad M. Andrew H. Benjamin V. Rozalind H. John D. Timothy S. Mark  H. Mac C. Elizabeth K. Reginald G. Stephanie B. Ann S. Cynthia C. Ian M. Nathan B. Gary S. Art   K. Steven H. Eugene S. Elizabeth Anne J. Lee T. Thomas M. Franklin J. Ken  W. Jay B. Dawn L. Robin M. Jennifer J. Dustin L. Craig N. Norm B. Hilda W. Liam M. Maggie  M. Scott L. Daniel K. Linda G. Seamus B. Barbara C. Heather R. Ricky S. Lawrence T. Carol B. Sherri K. Gus M. Geralynn B. Darla H. James K. Hanie B. Tracy T. Thaddeus G. Jeremy L. Donald H. Ronald L. David N. Daniel B. Daniel T. John C. Brett B. Randy M. Jerry B. Candace M. Tammy J. Jesse P. Sallyann B. Karin B. Bren F. Judi B. Ronald K. Adam M. Richard F. Yanet G. Scott C. Tasha S. Debra M. Deborah  G. Cindy M. James D. Lisa W. Myriam  V. Blane A. Aaron G. Thomas T. Chad S. Marsha J. Michelle M. Guy A. Jason E. Ann M. Rio M. Tommy B. Maryann C. Melissa K. David W. William H. Roger W. Anna E. Pat D. Vicky  W. John J. Margaret  N. Matt M. Brian R. Sean C. Steven B. Yvette F. Ahmed A. Gregory M. Paul H. Jade C. Carolyn S. Kelly W. Ray F. Laura M. Keith K. Carol C. Anthony  R. Robert W. Jonathan C. Marci R. Jeremiah L. Joseph A. Todd K. Guy R. Ken Z. Wesley W. Yvonne B. Michael D. Ricardo  M. Kriss K. Dave B. John  S. Colton  P. Julie L. Jeanne B. Kathy C. David  D. Peter H. David  C. Howard S. Cindy K. Lan L. Jamie M. Amie L. Christopher S. Amy H. Jesse G. Timothy R. Larry . Jerrie C. Jeffrey C. Stephen M. Steven R. Michael M. Tara T. Charles  L. James  W. Karen P. Laurence R. Robin N. Mark A. Robert T. Charles R. Michael T. Jan C. Terri G. Vikki S. Bill M. Mary Anne W. Betty G. Lt. James F. Dominick  B. Brad N. Stephen C. John B. Virginia S. Gary  N. David F. John L. Tammy B. Richard R. Lester B. Melissa  A. Tom Y. Rick P. Donna K. Cynthia T. Linda B. Robert H. Janice W. Peter B. Michael  Z. Terry K. Billy T. Kathleen B. Betty C. Karin  G. Gigi C. Victoria G. Alexander D. Charles K. Dale M B. Kevin O. Charlene M. Cheri V. Julie C. Jonathon  H. Teri W. Sheri D. Deborah L M. Leonard H. John A. Jack G. Greg S. Mike S. Seth A. Sandralea J. Don A. Renee P. Roger S. Tony  W. Anthony O. James R. Judy D. Lisa B. Ronna B. Janna N. Robert K. Jeffrey C. Matt J. Mike T. Rik A. John E. David K. Sylvia W. Debora H. Ryan B. Matt W. Louise D. Paula D. Beth P. Ann Laurie  F. Scott W. Stephen K. Margaret S. Mark G. Jennifer D. Miguel O. Jon W. Jon B. Robert B. L B. John P. Sheila P. Barry M. Marilyn O. Melanie D. Jomar V. Lora  G. George L. Christian K. Paul  L. Deborah M. Morgan P. Carl M. William G. Liz C. Deniese C. Victor V. Michael F. Robin T. Beth S. Trudy L. Patricia W. Joe S. Matthew L. Jerry F. Vitaliy N. Nabil G. Roseann E. Josh C. Yinan L. Sue C. Bruce B. Dallas C. Jason M. Sandra  B. Liston E. Christine R. Albert T. Joshua D. Patty L. Susan C. Dennis R. Victoria  L. Vicki A. Mark C. Kurt P. Joseph T. Andrew A. Rebecca  M. Jeanette M. Tracie B. Debra M. Debbie  Z. Elias P. Michael W. James P. Lazer  M. Michael K. Mike S. Randall  O. Barry H. Timothy  R. Daniel C. William R. Camille S. Beverly W. Jay L. Ruth V. Patrick  P. Donna B. Michael A. Vicki S. Kim D. Michael M. Pamela S. Nicole W. Mary Beth M. Shirley  H. Gary  S. Loranna N. Tom  D. Brad B. Cherie V. Anthony T. Jim S. Peter B. Kenneth P. Connie T. Scotti B. Jane H. George B. Jessica M. Herbert S. Maria B. Brian M. Alexander H. G.P.Self O. Graham G. Jacob V. Linda M. Wanda T. Carol C. Bradley A. Steve R. Leslye M. Ryan  D. Michael N. Marlene  F. Robert H. John  B. Bryse D. Jim F. Chad K. David M. Shaun  M. Dj  M. Angie D. Jason M. Tonya L. Michael  S. Michael M. Brett B. Randy W. Robert  W. John L. Theresa A. Harold  D. Dawn P. John C. David B. Kristopher M. Jason Z. John B. Kathleen W. John K. James G. Alastair S. John H. Chris G. Georgia L. Javier H. Scott B. Charles B. Kim P. Helen T. Karen C. Lori W. George B. Jacqueline B. Cason B. Jimmie C. Diana G. Carole L. Sue A. Janet F. Michael K. Michael J. Brian V. Stephen B. Annette I. Diana U. Terry A. Sheryl  S. Andrea O. Bridget O. Kim M. Andrew  P. Sam D. James F. Virginia Y. Steve M. Stephanie A. Grace M. John R. Adam G. Diane P. Jane F. James H. Timothy W. Danielle J. Gary B. Shawn B. Caris R. Linda H. Daniel  I. Robert R. Christopher R. Brian S. Howard T. Mark F. Jim Webster  W. Tina W. Christian G. Grace R. Logan B. Alvah C. Chase L. Sandra P. Michael O. Kristen G. Chad G. Marshall F. Guy E C. Louis S. Robert C. Joseph M. Rosemary Y. Craton H. Andrew  G. Ben T. Graham C. David J. Kimberly  B. Doug F. Charles W. Gene W. Thomas A. Douglas  M. Wade B. Teresa G. Richard M. Jackie B. Brian K. Joyce P. Mary N. Mary B. Patrick M. Vance M. Craig D. Lynne P. Bo D. Daniel F. Thomas  G. Gloria H. Jared N. Jeannette A. Linda B. Rindy M. Julia Y. Toni K. Roger B. Alex R. Robert B. Randy R. Sam P. Sharon D T. Isaac S. Joao B. Kevin R. James A. Linda B. Alex C. Jonathan T. Amy  P. Edward M. Nathan H. Ray T. Nancy S. Thomas H. Chris C. Amanda  M. Belinda P. Angie B. Anthony C. Carol R. Deborah W. Anne M. William R. William F. Rob C. Cesar  R. Rebecca F. Phillip L. Shannon  M. Noelle C. Andrew L. Michael F. Terry M. Melinda L. Mark J. Nancy R. Dave  B. Ron B. Fatima M. Angela C. Elaine J. Dirk V. Steven T. Brian S. Liza R. Pauline L. Susan F. David F. Mick A. Rita  M. Leah G. Steven S. Randy M. Rafael I. Carla S. Kelli P. Daniel J. James D. Linda B. Jared M. John W. Bruce F. Michelle T. Maudie  P. Richard P. Gina T. Donald  J. Thomas M. Jeffrey S. Dianne S. Todd U. Barbara P. Robert E. Michelle  M. Mel E. John B. Daniel  S. Patrick Y. Linda D. Bernard S. Giovanni  V. E S. Robert A. P. Kenneth S. Thomas  J. Dorene C. Ryan  S. Timothy I. Beverly A. Beth T. Kyle B. David N. Brent  A. Michael W. Carol  G. Craig K. Trevor R. Dana M. Anthony C. Thomas L. Melissa J. B. Pius  G. Dani D. Thomas M. Nicholas  D. Wanda A. Guillermo D. Jerome L. Bobby B. Thomas W. Mark V. Robert C. Demetrius F. Shawn L. Andrew  N. Donna F. Matt B. Laura S. Charles S. Jay V. Sharon  P. Randy M. Lars F. Gabrielle H. David E. Centeno J. Dan W. Andy D. Randy W. Louis  B. Julianne W. Jeffrey S. Thomas K. Bonnie P. Jenny  C. Krista  E. Deborah  R. Thomas H. Shirley L. David  D. Michael C. Philip W. Charles S. Jeanne G. Wilkerson G. Richard R. Rekha K. Ken O. Dawn L. Jan V. Jesse  T. Christopher  R. Teri K. Derrick  G. Vicki H. Woodrow V. Eleanor E. Alexis G. Jerry  M. Nicholas M. Edward G. Darrell D. Bobby  L. Rachelle C. Ryan B. Eric  E. John C. David E. Carolyn C. Denise W. Sandra H. Warren R. Steven K. Charles R. Jeffrey A. Leslie O. Elizabeth  V. Rebecca S. Jeffrey  K. Deborah O. Mike K. Diana Z. Tierney  P. Nelson M. Carole C. Orlando  D. Kelly M. Timothy B. Ray C. Garrett B. Richard M. Adam S. Keoni B. Timothy  R. Laura S. Thomas T. Ashley K. Zac R. Terri G. Alfred P. Alex B. Susan  H. Diana  R. Brian F. Dan S. Carolyn  B. Julian  A. Michael  O. George F. Mary  R. Cathy B. Curtis H. David E. Jingxiao C. Paul  W. Cyndi K. Nicole & Mark K. Kim L. Selma  S. Aaron H. Charles N. Rex H. Richard J. Robin F. Jane B. Rudy Ceniceros I. Daniel  C. Doris F. Jacqueline J. Sisto M. Christopher F. Ral F. Blake K. Dan R. Robert H. James H. Dennis H. Dolores  T. Frank L. Xiao Z. George S. Steven D. Michael  F. Kelly T. James C. Ray K. James  M. Jeff M. Janna M. Roger G. John M. Krista T. Kristopher L. John D. Gino B. Brian D. Garrison D. Ryan E. Sean O. Michael J. Corey B. Ashleigh  S. Brian S. Natalie P. Matt S. Stephen C. Ryan O. Deborah K. Dot K. Brenda C. Judi B. Eric D. David B B. Cyndi H. Randy F. Michael L. Barbara M. Cindy C. Joe P. Carl S. Danid H. Carmen S. Brandon M. Anna  H. Lafate D. James H. Kenneth M. Garry M. Mike D. Jack C. Janis B. Mary Ann V. Donald M. Richard A. Selena  S. Dean S. Kathryn S. Michael C. Mary T. Robert P. Darlene R. Lynda S. Paul K. Elaine P. Matthew B. Fiona M. Alex M. Pamela B. Rosa M. Kay H. Charles S. Dee R. Jana C. Sheridon S. Mark M. Donald D. Derrick W. Pramod S. Peter D. Chrissy M. Michael J. Vickie W. Ethan S. Jay P. Charles H. Robert C. Irene E. Martin Z. Christina B. Harriet R. John H. Patrick C. Brady G. Russell F. Robert H. Diane D. Ann'   G. John S. Norka M. Scott P. Carol D. Alexander M. Norm M. John M. Terry B. Janet N. Phillip  G. Evelyn S. Brandon S. Cheryl A. Mary M. Shelley B. Seth  H. Rhea S. Roxie B. Richard H. William P. Jeffrey C. Michael B. Jacquelyn B. James G. Trey O. Michael  G. Laura M. Dorothy W. Michelle  E. Mark S. Tory M. Charles S. William A. Michael B. Brenda R. Andrew J. Jennifer  H. Robert  C. Joseph F. Jesse D. Frank K. Lj B. Sebastian  A. Daniel B. Audrey B. Dawn D. Kelly S. Dennis  M. Michael  A. Anita P. Douglas W. James B. Jaime A. Carol B. Betty  A. Larry G. Diana S. Wayne G. Gretchen H. Mark Z. Duane H. Robert  M. Laurie R. Rebecca  A. Nancy B. Ronald W. Larry C. Austin  V. Mary H. Bill F. Alan B. Michael G. Kristal R. Charles&Diane L. Briar Adam F. Gett B. Kathleen S. Drexel C. Carolyn L. Barbara W. Frank M. Linda L. Sherri B. Alberto A. John S. Kyle K. Larry D. Jonathan  R. Danette T. Troy S. John A. Andrea W. Pat F. Todd R. Robert J. Jd D. Gene B. Logan C. Kimberly Z. Elijah P. Denise N. Chadwick H. Karen H. Gary D. Patricia S. Betsy D. Natalia L. Martin S. Spencer F. Diane B M. Alma C. Patricia M. Lisa  W. Beverly C. Paulette R. Michelle R. Mallea J. Edmund W. Stacy S. Teresa W. Andrew A. Bruno B. Brandon T. James A. Susan B. Michael B. Michael K. Clyde M. Jerilyn E. Susan J. Zachary H. Kenneth H. Charles W. Nita Maria E. Virginia M. Lothar T. Tim R. John Q. Althea H. Cory L. Matt J. Geoffrey B. Max L. Pamela B. Kimberly M. Bernadette F. Mackenzie B. Paul C. Marc M. Robert F. Nicholas C. Steve  I. Richard V. Raymond R. Stephen L. Carol W. Chris C. Julie L. Carolyn  L. Claro F. Lidia R. Timothy G. Lesley A. Troyce W. Nick P. Josef K. David L. Rick K. Alan P. Tricia  M. Marsha T. James F. Linda M. Elizabeth W. David  M. Jodylynn S. George C. Stewart F. Amy M. Daryl D. Michael D. Joseph F. Dale G. Matthew S. Doug B. Stephen  H. Melissa H. Frank P. Kathryn D. Vivian H. Carrie S. Michael P. Bret B. Trent M. Walker S. Beth P. Richard R. Karen P. Predrag L. John M. Dave C. Cheryl B. Donald M. Patricia D. Frank  H. Tanya R. Phillip T. Tracy B. Carolyn C. Robin P. Frank N. Tim M. Nathan M. Mark S. Ted C. Brian S. Mary P. Gavin  N. Sue R. Loray C. Robert. S. . Alexander B. Daniel V. Cathy Marie R. Levi R. Timothy S. Serh S. Robert Z. Sebastian V. Frank  M. Nicholas D. Martin J. Raphael  P. Donna C. James M. Kristen S. James L. Stephen H. Anthony C. Loren H. William R. Michael W. Wendi H. Joyce F. Mary E. Richard C. Brad C. Ruben A R. Gregory O. David O. Sharon R. Sara T. Wesley H. N. Jorge S. Rose D. Cynthia K. Karen D. Karen L G. Shawn H. Michael L. Barry G. Dale B. Jeffrey C. Della W. Katherine B. Tammy B. Kimberly H. Thomas S. Joyce B. Eric R. Chris O. Thomas M. Manasse C. Timothy E. Caroline J. Charles H. Paul D. Liam T. Connie S. H H. Christopher P. Nan H. Ricky C. Joe R. Elizaberh K. Mindy H. James F. Matthew M. Denise M. Charme O. Amanda S. James W. James . George S. George H. Dayle B. Kimberly  T. Anthony  F. Shirley C. Jonathan B. Doug E. Paul O. John H. Dennis M. Keith N. Kevin S. Todd N. Edward G. Linda F. William T. Jeremy H. Brad F. Mike W. Stephanie R. Patricia F. Frank O. Samuel G. Christopher  L. Anthony A. Nancy O. Bill P. Mark M. Christopher H. Sandy A. Craig K. Dustin C. Kurt W. Gina S. Michael  G. Loretta N. Mary R. William  J. Ross A. Sarah P. Beau C. Stanley S. Deb R. Daniel  R. Brook T. Julia R. Shawn M. Charles & Angela S. Cameron B. Gary G. Kathy A. Steve G. Curtis K. Elizabeth M. Marcia C. Dennis L. John R. Paul P. Anne S. Charles  R. Tiffany S. Deborah  A. Chris L. Pamela R. Chris M. Barbara M. Richard E. David G. Cody P. Susan G. Rose I. Rebecca B. Ernest K. Sharon H. Chris S. Alan P. Mario O. James K. Rodney L. Jean C. Johnsy A. Robert L. Joyce  E. Adrian Z. Glenn A. Joseph F. Bruce V. Michael B. Walter L. Stanley  J. Marie M. Robert Wayne S. Joan C. Michael P. Ray F. Scot  F. Lucia R. James M. Julie V. Timothy C. Jeff R. James J. Eric L. David J. Janet F. Victor C. Luis  M. Robbi H. Rose  S. Vito C. James K. Guy H. Anthony C. Maureen C. Karen H. Cheryl B. Ruthanne E. Debbie S. Brenda S. Susan W. Paul M. Jerry  D. Ricard D. Kathy S. Cynthia L. David F. Belinda S. Joseph L. Suzanne H. Paul P. Leif M. Jorge R. Jeff J. James T. Mariane R. Heidi B. Chad F. Leslie N. Lou K. Robert M. Beverly G. Michael S. Joshua B. Juliano P. Patricia O. Jeremy N. David S. Keith P. Rodney H. Ethan F. Dan C. Linda T. Benjamin  L. Linds M. Lynn G. Enrique C. Kathy J. Brian M. Andrew S. John B. Joseph B. Raymond G. Marcus  H. James S. Joe R. Peter L. Gary M. Barbara P. Julie L. Cheryl M. Ron L. Loren S. Sam B. Kris H. Lynette J. Wayne M. Mark M. Wayne  L. Bernie H. Katie H. Cornelia C. Mary S. Jason T. Kim M. Jacqueline W. Paul C. Valerie G. Lance S. Atwill M. Maxwell L. Richard  A. Perri M. Cindy R. John S. James T. Edward O. Bill R. Benjamin H. Steven W. Grant E. George H. Dr Stephen L. Douglas S. Brian D. Monica B. Brian K. Brian R. Sue V. Dave C. Michele W. William C. Kristine P. Robert C. Amber E. David P. Tom G. Gail E S. Allen B. David V. Christine L. Sally P. Paul G. Charles M. Vi L. Robert W D. John C. James L. Gary B. Richard C. Harold H. Christopher W. Alexander W. Talat M. David M. Robert M. James M. Bob D. Tracy R. Jody C. Bradley S. Elizabeth O. Curtis R. Tiffany T. Michael L. Robert G. Lisa B. Michael I. Kathleen H. John C. Marleen P. Barry L. Richard W. David S. Anand K. Aileen H. Dylan A. Richard R. Patrick  M. John G. Richard R. John H. Susan  H. Linda H. Diane C. Joseph P. Catherine A  L. Christine B. Jason M. Richie D. Randy A. John P. Linda H. Brian W. Margaret  P. Julie M. David O. George  J. Luke K. Frank W. Angelica  R. Kenly R. Donna P. Tim F. John  H. Dino B. Homer R. Anthony B. William B. Phyllis W. Karen S. Garrett H. Gene K. Jeannette I. Michael B. Jesus  C. Ken K. Jonathan A. Susan W. Keith E. Ward G. Michael B. Rose K. Donna N. William I. Susan  L. Stephen V. Paul C. Nancy N. Taylor E. Keith H. Will C. Bob G. Andrew M. Brad E. Robin G. Michele V. Christina G. Cynthia M. Eryika T. Stephen L. Renee  L. Brandon D. Dena B. Scott B. Michael S. Gregory R. James L. Shon M. Larry T. Michael T. Susan C. Jerrier A. Gene R. Mark T. Scott G. Teddy S. Pete M. Cheri W. Mark P. Donna W. Delwin  L. Brian C. Joseph P. Vinny M. Stephan C. Kris M. Joey S. Christopher K. Duane  P. Mary Ann M. Stefani M. Maggie T. Christopher S. Phil L. Hector S. Ricci F. Michael M. Brittany S. Joel P. Russ E. Benjamin J S. Angela S. Michael G. Jane  D. Andrew T. Linda F. Jo  A. Eric  B. Katherine M. Marc A. John H. Donna K. Chris E. Sean K. Lonnie H. Fred S. Bonnie M. Debra G. Edwin J.  T. Sherry C. Georgia S. Brad S. Jason B. Thad L. Rosa N. Kuan D. William R. Jorge P. John K. Eric C. W P M. Richard M. Gwyn M. Zachary H. Todd S. Fausto L. Bonita S. Edward B. Chris H. Daniel F. Jacob  F. Gerald S. Doug D. Daniel S. Charles M. Carl M. Ronnie P. Joanie P. Angela P. Mary H. Theresa R. Tammy P. Michael I. Kevin  D. Colin T. John M. Wanda H. Tracy A. Erric  T. Samuel  G. Kirk B. Cody S. Brando B. Mary  H. Maximino  A. Tony Z. Bobbi B. Mark B. Boyd B. Cortney  K. Dwight J W. Mark S. Gabriel C. Alex B. Annemarie R. Mike O. Tom G. Keaton  L. Joseph K. David  L. Charley V. Tamela J. Joseph B. Marie S. Shawntell M. John P. Claudia S. Ron F. Danny C. Lawrence M. Sherry E. Cassandra  B. Isidro G. Dennis S. Colin B. Pam P. Charles R. Norberto L. Steve Z. Pramod Y. Dan C. Tito D. Kenneth  S. Nathan M. Jesse S. Richard G. Billy H. Cecelia G. Larry M. Jane W. John V. Michael G. Candi H. Patti  J. David W. Susan M. Kathleen B. Keith G. Kevin W. David W. Claude S. Stephen E. Jason  O. Lisa C. Jason G. Phillip B. Charles  H. Harlyne C. Stephen S. Thomas W. Steve  C. Jeff B. Dale L. Kyle  J. Claire E. Gregory R. Joe S. Larry M. Nash P. Gaye Lynn B. Pat Henry B. Eric A. Ashley G. Timothy B. Maria R. Brandi L. Joanne P. Rob H. Raleigh A. Michelle  Y. Dorothy C. Mark D. Diame K. Yvonne W. Stephanie M. Jerell M. Franklin P. Sara D. Pam A. Leonard F B. Jonnie S. Travis M. Eric R. Richard D. Angela D. Stacy W. John M. Vickie  W. Erich  E. Jim  H. Scott L. Joseph  P. Andrew B. Tony S. Alisa A. Jennifer B. Andrea K. Isireli Q. James B. Kate L. Edith C. Forrest T. Leon L. Christine L. Matthew  H. John E. Joe  D. Bianca J. Karen B. Tammy L. Charles T. Jeff B. Bruce N. Thomas A. Jim W. Maryjane S. John K. Margaret D. James G. Suzanne  B. Carl F. Mary B. Richard  H. Tim B. Thomas B. Michelle M. Scott  R. Charles M. Dennis F. Richard N. Stephen H. Leona K. Steve K. Kim T. Florence T. Anthony R. Jill M. La Vonda H. Jacob C. Lei W. Thomas T. Enrico P. Diana D. Steven S. Erin P. Timothy V. Katie K. Jeff G. Scott V. Kenneth B. Peter S. Shelley C. Michelle  D. Gary B. Natalia I. Elaine A. Roseanne F. Carol C. Daisy B. Cheryl  M. Brent R. Janie  L. Sheyla F. Edward H. M. John Paul V. Walter S. Robin D. Larry B. Ashok S. Don T. Lucas B. Sylvia M. Doug C. Nick I. Carol R. Judy F. Kelly  M. Scott  W. Alfred W. Steve W. Raymond H. Wanda S. Yun W. Mitchell R. Kaylene E. Wiliam L. Franny T. Sarah C. John C. Nicole M. Randy O. Travis  J. Kimberley  D. Jake F. Laura S. Susan W. Rhett P. Matthew M. Robert R. Scott I. Michael B. Eric B. Paula H. Linda W. Glen H. Richard  V. Barbara D. Jeff B. Robert M. Cheryl W. Frank Z. Starr B. Rhonda  M. Mary Jane S. Douglas  K. Martin O. Stephen W. Lena D. Margie  G. Stephen  T. Travis N. Patrice C. Veronica S. Carol B. Jason  S. Cathy C. Michael S. James H. Daniel B. Deborah F. Keith T. Tim F. Louis S. Robin D. Verna W. Jim B. Dean M. Erik P. Shawn F. Julie B. Carlos H. Kenneth F. Eva K. Doug H. Tammy S. Inna G. Jeff V. Peter B. Curtis L. Elizabeth B. Cathy S. Heidi W. Aaron C. Eric B. Thomas K. Beau D. Sharon V. Steven M. Sean  H. Linda O. Martin  G. Chris E. Kevin B. Jesse M. Harold D. Dan P. Paul S. Dennis  K. Jarrod T. Phyllis G. Daniel C. Kevin V. Dana F. Jerry  M. Bennie Renee M. Robert G. Vickie A. Gerald K. Pamela B. Charlene  H. Daniel R. Michael L. Neal P. Steven C. Brenda C. Jennifer  M. James B. Jackie O. Michael L. Keil B. Helen E. Larry P. Raphael W. Barbara B. Edward  G. Beatriz L. Jerri K. Joshua A. Donald B. Jonathan R. Jennifer W. Andre W. Tommy W. Trucking  I. Kathryn K. Anne B. Joe S. Arnold Z. Laurita M. Alishia P. Michael C. Vickie E. William B. Scott T. Bryan J. Diana H. Sophie  K. Nathan C. Robert L. Victoria R. Cherryl B. Paul S. Jared H. Robert B. Kent K. Michael L. Duane K. Raymond  O. Lachricia D. Linda P. Vicky S. Robert S. David B. Dennis S. Nicole R. Beth H. Sarah D. Vicky Z. Schneur G. Todd A. Bobi H. Alina B. Sonja E. Nadine B. Taftford C. Derek D. Stephanie O. Thomas P. Glenda H. Michele  H. Laura K. Jon Z. Robert W. Henry S. Kyle B. Debra J. William D. Jeffrey G. Kathleen J. Elaine P. Dave R. Laurel M. Deslynn  A. Elliot K. Robert  S. Kathey D. Melisa P. Kevin O. Mary D. Delia  V. Barb K. Andrew L. Jeanne P. Angela O. Deborah H. Malka W. Spencer M. Mary J. Brent R. Kaila M. David H. Kevin  B. Alexander B. Alan B. Denise B. Richard S. Kati P. Rubina B. Tracy G. Thomas B. John S. Mandy V. Katherine K. David F. Lu E. Jacob A. Colleen S. Jordan M. Daniella A. Heather P. Candace M. Richard P. Nan T. Scot D. Diane L. Ross C. Bayne S. Justin C. Andres M. Jennifer G. Vincent  C. Jon C. Maureen C. Jesse M. Juel R. Wayne M. Thomas T. Kenneth G. Mary Jo T. Kraig F. Laura P. Steve B. Dianne L. Jennifer N. Jacob M. Herb H. H Scott  B. Kurt W. David M. Jo-Ann A. Tim B. Sarah Jean H. Kenneth E. Roger B. Kenneth G. Glen M. Scott  J. Sharon B. Isaac P. Sylvia P. Donna D. Elaine Cipolla M. Sean H. Scott H. Richard B. Inez  Q. Thomas A. Bill M. Marilyn B. Marta H. Kathy H. John G. Richard S. Lee S. Miss Katherine H. Yvonne C. Kenneth H. Steve P. Paul M. Vickie Lynn F. Amy M. Dexter A. Fan  Y. Ronda  F. Judy K. Amy H. Lana H. Lori B. Lou W. Jerome H. Patricia G. Joe S. Chris S. Branden K. Dan  C. Charles B. Boris M. Lorraine H. Kristy S. Brandon B. Andree R. E G. Betty A. Mary Ann B. Sher V. Emily M. Chris D. Marcia S. Carol E. Karl M. Pamela P. Raymond R. Hollie B. Rick G. Neil J. Lisa M. Daniel S. Matthew P. Isaac B. Mary M. Connie C. Stephen P. Katherine E. Donna B. Raymond H. Kevin B. Kristen A. Gary N. Mark F. Andrew R. Tyler C. Terrisia S. Melody M. Kazim M. Gary G. Adelina G. Lisa B. Leslie P. Brian F. Richard B. Michele B. William  S. Alan P. Thomas F. Patrick  M. Mark R. Brandon E. Noland S. Michelle R. Debbie M. Carol B. Janet B. Shelva W. Franklin K. Tracy  C. Joseph H. Tolliver G. Steven H. Philip R. Yvonne S. Joshua F. Laurence M. Joy W. Janet K. Davd A. Matan B. Jim B. Konrad K. Paul N. Matt E. Rodolfo F. Nathan P. Thomas C. Anthony B. Sandra R. Sandy B. Michael M. Jeff R. Linda S. Keli G. Scott A. Bill & Fran S. Joseph P. David W. Gary  Z. Suzanne C. Tatia A. Phyllis  W. Stacey K. Peter M. Scott S. William V. Adam N. D J M. Chris C. Leslie S. Neil M. Pam H. John K. Gary H. Keith G. Dylan J. Kathleen W. Isac S. Skip W. Dawn S. Kathleen  O. Ronald R. Derrick C. Kimmy G. Carlos M. Jacqueline  N. Tom A. Matthew M. C. Eileen M. Barbara J C. Kevin D. Lou  B. Mark C. Michelle B. Ronnie B. Karl G. Frank L. Linda V. Stephen  S. Mary N. Angela B. Mark M. Debra C. Kevin D. Diana C. Jerry V. Jarrod P. George K. Gary C. Gerald K. Brad G. Sofia P. Roger F. Barry M. Christine F. James M. Vincent W. Robert B. Avery A. Terry W. David J. Jacob  C. Amanda O. David F. Alfredo P. Melinda F. Kenneth H. Kenneth T. John K. Cara R. Jill A. Dan P. Gary R. Darren D. Lauren B. Ken T. Linda S. Randy And Jan Z. Fengbo H. Dean A. Jeanette U. Joyce  M. William  H. Anette  P. Greg S. Annemarie J. Thomas K. Nick D. Kimberly  C. Jack F. Danny C. Kenneth & Stacy D. Lea T. Chris M. Ben M. Lydia V. Joan L. Irene K. James  B. Jim R. Howard H. Sue P. Devon M. Mary K. Laura J. Samuel M. Rick C. Debbie R. John  C. Pincus S. Karen S. James L. Michele V. Roger K. Edwin B. Dominic R. Vincent  C. Turner Q. Jarrod M. Jaime M. Gary  O. Jimmy  H. Sally A W. Rick W. Theresa  C. Nick T. Robert D. Callie M. Austin C. Mary Jo P. Scott  D. Tammy Y. Lucian G. Brian Q. William G. Dan I. Kevin H. Darryl P. Caleb R. Judy C. Reed R. Dan H. Gil F. Mike S. Joachim  K. Kathy S. Everette P. Anita S. Linda  P. Lisa W. Keith L. Joseph R. Bill S. Thomas  P. Dolores B. Theresa J. Carl R. Doreen C. Robin H. Dena B. Darlene B. Dave K. Ryan M. Laura T. Helen S. Louis P. Elizabeth  S. Charles M. Olley C. Angela M. Ilene M. Oscar C. Diane C. Amy T. Marie H. Ginger H. Stephen M. Lee D. Dan F. Mary L. Albert L. Carolyn C. Patsy B. Robin N. Jenise W. Lynne L. Jessie F. Andrea H. John F. Cindy G. David G. Pat B. William  E. Audrey H  G. David J. Robert K. Daniel H. John C. Loren M. Troy R. Ted T. Steve D. Kaarina D. Delores H. Paris S. Blanca P. Michael T. Suzanne B. Grace A. Timothy M. Loren B. Jerry  D. Gina C. Theresa D. Susan A. Eric R. Cheryl D. Tom P. William H. David W. Mark G. S.M. D. Allan U. David A. Joyce  W. Gloria W. Mary W. Eric G. Michael B. Tami G. Phillip B. Maria  A. Billie M. Joseph A. Charles H. Robert B L. James R. Keenan C. Anthony  H. Jeffrey D. Marisol  A. Ronald G. Robbie Y. Sebastian P. Scott F. Stephanie M. Edy V. Austin A. Robert  B. Jennifer S. Bryan S. Tim K. Christi A. Sharon B. William R. William M. Susan  C. Michael H. Caleb W. Zhanwu L. Judy H. Karen M. Matt M. Brian H. Robert  J. Jennifer  F. Verdia W. Paul S. Dena G. Deanna M. Patrick  S. Birdie H. Patricia M. Monica L H. G.H. G. Steven T. Theresa T. Annette M. Lisa P. Steve R. Nancy D. Kimberly  B. Stanley  L. Patricia M. Gary W. Kathy R. Tom B. Faye M. Justin K. Irene E. Lee A. Tom  K. Kay W. Add your name to the list: http://bit.ly/2duCRlw\n",
      "\n",
      "Longest update based on the number of sentences: Beautiful evening in Wisconsin- THANK YOU for your incredible support tonight! Everyone get out on November 8th - and VOTE! LETS MAKE AMERICA GREAT AGAIN! -DJT\n",
      "\n",
      "Longest update based on the number of characters: ***Message from Eric Trump*** Before my father takes the stage to face Hillary Clinton, I'll be giving him a list of supporters who made a contribution just before the big debate.   Add your name to the list: http://bit.ly/2duCRlw   Please contribute $100, $65, $35, $20, $15, or even $3 before 8pm ET tonight to get your name on the list of supporters I give him before he takes the stage.  Get on the list here: http://bit.ly/2duCRlw Paula P. James N. Kathy W. Erick M. Curt C. Mark C. Nancy  L. Barbara S. David L. Roy B. Kris M. Daniel S. Daniel D. Eugene L. Caihua W. Ken M. Tommy H. Bill S. Thomas O. Christine W. Dennis J. Erin C. Chad M. Rachel T. Carolyn G. William J. Cindy C. Eugene L. Judy F. Manny C. Edward R. Garry L. Grace B. Boris V. Chris  L. William J. Steven  T. Joann M. Paul S. James E. John P. Marc S. Jim B. Melynda S. Richard S. Jonathan J. Craig O. Ed K. Eileen M. Carmen M. Sherry P. Daniel Mabrey T. Chad B. Ellen  R. Scott P. Keith T. Steven W. Alan A. Don L. Vickie S. Celina F. Joan  T. Michael  R. Joni F. Caryn M. Jada H. Michael S. Stephen C. Laura H. Richard  S. Bonnie H. Kathryn Y. Donna C. Ted B. Gail P. Rich W. Deborah C. Eva  S. Sharon G. Donald B. Mike B. Randall M. Anthony M. Red G. Linda H. Janis M. Carol H. Tom M. Cindy T. Crystal T. Tony C. Robert H. John R. Mieszko S. Brian  C. Levin Q. James P. Lee W. Aaron R. Jean D. Danielle E. Linda  F. Steven B. Russell S. Ronald C. James F. Kelly S. Chad B. Rob S. Alan C. Tracy J. Gregory P. Peggy L. Thomas S. Jeffrey M. Lorin H. Anthony N. Zack S. Kay M. Virginia S. Toula B. Jason H. Steve C. Jeff C. Derek T. Denise G. Nancy  B. Brian  S. Anthony G. Thomas F. Brunell M. Kimberley H. David R. Dawn L. Martha S. Kara M. Andrew G. Karl S. Robin  M. Joseph M. Andrew H. Douglas L. Maria F. Justin  S. Sally N. Dawn M. Peter S. Joseph C. Daniel L. Raymond H. Gianni  S. Anthony M. Joe C. Steve B. Arlene  G. Christopher H. Laura L. Amy  J. Roseanne B. Colleen K. Dolly D. Dana M. Steven S. Sandra F. Shannon  S. Joy F. Karrie F. Virginia S. Christine  L. Rebecca L. Sandra B. Charles C. Paul G. Victor L. Andrii M. Phyllis O. Paula B. Joanne D. Duranne M. Matthew L. Erin L. Sandra P. John W. James S. Tammy P. Colleen L. Bruce C. Derrick  C. Joshua C. Frank B. Steve B. Lauren C. Alan D B. Sandy  R. Barry S. John S. Jonathan O. Lance B. Joseph B. Charles L. Michael V. Paul E. Dennis F. Ryan K. Kimberley  L. Lillibeth G. Grace D. John P. Sherwin  T. Christopher M. Zella C. Robert F. Anthony S. Jerrell D. Michael B. Arlis V. Nancy C. Richard S. Terry T. Benjamin M. Greg E. Ellen B. Frank A. Rafael  C. Shirl S. Sheila T. Glenn B. Megan T. Karen D. Barbara B. Kerry M. Jack E. Forrest J. Todd R. Lynn W. Michael Z. Lisa M. Sutooda N. Jeremy S. Dan G. Abbey M. Mort S. Laurie P. Robyn W. Allen D. Ricardo  M. Kathee W. Lynn P. Jonathan B. Angela J. Dan B. Richard J. Genevieve B. David M. John A. Kathleen H. Martha H. Debra J. Steve J. Stephen R. Vaughn M. Gary H. Tommy W. Bambi  M. Lorraine S. Jacqueline H. Timothy N. Valerie B. Randal  S. Mike O. Brian D. Lu D. Edith R. Wendy B. Robert L. Amar & Angela S. Mark Y. Eddie B. Jeffrey S. Diane A. Alexander D. Patty K. Cathy H. Lescoe F. Frank A. Colin H. Paul M. Timothy S. Marilyn G. Jeff M. Candi B. Antonio J. John P. Clarice B. John M. James C. Andrew K. Terri E. Rick W. Will M. John M. Gregory M. Kenny T. Kenneth V. Robert C. Linda L. Sandy S. Robert G. Jimmy  D. Shirley S. Grant S. Jonathan  S. Julie G. William  M. Richard B. Debra C. Carol D. Pat M. Dawn E. Marvin F. Frances C. Elaine P. Marsha R. Robert P. Kiri M. Colleen L. Julie F. Rob A. Natalie E. Darrell V. Beverly  C. Kristie K. Aurelia K. Mike C. Justin  D. Matthew H. Stephen S. Tommy S. Kendra M. Kathi H. Yolanda D. Rob S. Lee J. Maureen  W. Patrick  H. Melissa M. Marty K. Stuart H. Chandler G. David S. Joseph L. Wayne S. Janie W. Harold L. Larry B. Suzanne  C. Demar S. Dana W. Suzette W. Karen  D. Deborah V. David M. Dan T. James S. Jose S. Janet W. Josh G. Lynn F. Hunter L. Marcia J. Jeremy A. Anthony M. Stephen S. Mihaela S. Thomas N. Cynthia  P. Yoav W. Steve C. Marti R. Angie C. Simon L. Rich O. Michael W. Barbara D. Michael O. Clyde P. Kelly H. Laurella  H. Cheryl  G. Shelly F. Ryan A. Michael  T. Mollie R. Michael H. Mark T. Michael S. Lynn M. Rita C. Sue S. Peter H. Paula R. Wayne D. Justin G. Glenda L R. James B. Kathy T. Susan W. Michael C. Roxanne  R. Jeremy H. Patrick  O. Derek J. Juan R. Alice J. Isaac C. Doyle M. Jeffrey F. Adam B. Scott B. Linda C. Kris B. Joe S. Rick W. Ross H. Kathleen G. William S. Joseph H. Lane M. Troy H. David R. Larry K. Rotha B. Linda G. Erin  R. John K. Haig D. Frank G. Patti C. Kelly E. Terry T. Jean S. Sarah R. Kay  W. John M. Roy B. Debbi  H. Cory C. Rosemary A. Jay H. Kevin G. Shelia W. Erin G. Victoria R. Michelle M. Ronald N. Rosemarie C. Jeffrey T. Timothy F. William  C. Glenn E. Matt K. Scott B. Vicki M. Mathew F. Ricardo A. Angel S. Walter L. Sandra N. Brenda R. Tonya T. John  S. Janet E. Daniel G. Cameron F. Bryan V. Donna P B. Gretchen P. Kenneth S. Marie G. Carol P. Edith W. Marian K. David J H. David R. Sheila E. Richard H. Carole W. Diane C. Clinton A. John J. Christina B. Darlene S. Christopher A. Deborah  D. Ruth F. Glen L. Paul H. Deitra W. Mike R. Anne Marie  V. Sue A B. Ronald W. Beverly G. David P. Pamela B. Brandon M. Paul K. Robert  V. Matthew Y. Harold C. Harold C. Michelle  H. Bonnie J. Glenn J. Melissa  M. Ashley G. Dell R. Thomas C. Paul F. David C. Donald H. Nancy S. Arik B. Michael L. Shawn L. Paul K. Dianne P. Ron  H. Raymond N. Willie M S. Joseph  R. Marleny H. Celeste R. Janet K. Rebecca B. Richard S. Joe C. Paul M. Maria  P. R D S. Nate K. David R. David C. Donna B. Charles B. Jill D. Delinda S. Jerry  B. Sandra D. Lucas L. Paul G. Rosa S. Ben R. Lars M. Brandon  K. Jimmy H. Nishant K. Shawn S. James D. Annamarie B. Eric K. Anthony N. Robert J. Gerard O. William W. Jesus C. Donald R. Michelle G. Rebecca L. Rose Mary  C. Cornell O. Marvin S. David S. Richard K. Chris T. Ginni C. Tommy P. Vincent M. Jeff C. Terrie T. Michele A. Angelique M. Jessica P. Ronda G. Jeanie D. Michelle U. Harold L. Krystene H. Deborah M. Diane A. Katherine F. Christopher J. Roy D. Roman P. Nathan E. Amy L. Cindy A. Jeff H. Jessica N. E. P. Alexander Z. Dar S. Justin P. Anita H. Hank A. Mary J. Anthony  B. Javier G. Ramon M. Jutta  N. Patrick R. Tara C. Henry G. Angel L. Peter P. Darin A. Mary K. Audrey K. Geoff C. James P. John B. Tracy H. Robin M. Karl S. Scott L. Raymond S. Mark S. John  S. Amrom  L. Fernando C. Georgene  T. Richard S. Darlene W. Brian  W. Bruce S. Christopher K. Charles T. Bill C. Lisa S. Bruce & Kathy S. Kurt S. Judy F. Ricky P. Andrew W. Jorge A. Ernest R. Janice J. Eddie P. Kevin S. Vincent V. Bretlin M. Belton H. James G. Patrick A. Debbie W. James  D. Ciecie K. Annette L. Alan S. Gordon O. Erin O. Benjamin  H. William S. Timothy F. Everett G. Linda R. Sarah B. Taylor S. Ryan M. David M. Chris  F. Ken O. David M. Matthew J. Larry T. Jon B. Kevin T. Mary Margaret O. William K. Kimberley M. David W. Geoff M. Leslee J. Dave F. Ernest F. Michael K. Earl P. Linda S. Micki P. David B. Carrie  M. Michael S. Gary S. Thomas T. Joyce M. Harry B. Miranda W. Michael N. Brian M. Joseph B. Howard R. Kit  C. Barry C. Rita  D. Dale G. David V. Jeremy R. Vanessa H. Joseph Peter D. Peter C. Frank E. Mary Ann C. Mark  G. John C. Larry D. Joshua L. Cindy C. Vickie D. Chris  J. Beatriz W. Robert K. Erick F. Jean M. Roy C. Jan B. Victor R. Kalyan M. Josh C. Howard R. Sharon H. Okey  A. Ted N. Shawn M. William L. Kevin R. Jonathan H. J L. Johanes S. Michael G. William M. Christine  H. Paul C. Ann F. Robert W. David J  M. Gary W. Deb H. Robert E. John S. Anthony J. Carl  N. Casey F. Linda C. Chadwick H. Brianna D. Richard S. Guy H. William B. Laurell A. Peter R. James W. Ralph V. Patrick C. James W. Maher E. Melanie B. Susan H. Marilyn Z. Lawrence  T. Steven M. Douglas H. Robert S. Deborah H. Robert S. James R. Linda V. Lucas L. Toney H. Thomas K. Thomas C. Joshua B. Josiah B. Denise R. Jeanne R. Linda F. James C. Travis K. Michael S. Melony N. Adam W. Jeff O. Eric C. Michael M. Pascal P. Harold J. Dustin S. Stephanie A. Gary N. Gene H. Jennifer C. Rodney S. Simona      L. Kristi  S. Laurie K. Claesen W. Cynthia D. Carolyn S C. Cynthia  E. Ann O. Nancy R. Steven B. Dale S. Snejana S. Judy J. Mary M. C. Lemuel  O. Donna S. Tim L. Deana H. Christopher J. Chris Z. Robert  S. Carol B. Cathy M. Sean C. Damien G. Rich T. Irene M. George F. Jane M. Brad K. Raggy J. Harold   S. William  L. David A W. Kellie M. Brock D. Robert W. Wiley H. Janet O. Eugene J. Larry P. Scott  S. Wayne B. Joe B. Beverly B. Russell B. Sal M. Barbara S. Debbie R. Jared L. Linda M. Jon M. Rodney O. Emanuel F. Nicholas M. Aaron O. Kristi A. Ben R. Brian B. Mark C. Iouri M. Joan Y. Gina E. Linda C. William  H. Diana Dove  F. Karen B. Jorge I. Mark N. Lisa M. Christopher S. Stacey W. Rebecca D. Frank K. George M. Adaline S. Robert C. Louis G. Robert G. Keegan  A. Nathan B. Richard R. Patricia  H. Harriet M. Catherine U. Mark R. Jeff M. Dale F. Philip R. Ann B. Leslie J M. Cheryl A. Terrance H. Jack W. William  M. Tim K. Cindy M. Thomas G. John  S. Kelley E. Debra F. Ruth H. Connie W. Gary L. Tom S. Daryl S. Maurice J. Kenneth W. Raymond B. Dakotah C. Janice B. Gina P. David V. Craig M. Thomas  B. Perla A. Alan Rodney T. Kevin T. William B. Mandy E. Charles L. Lawrence C. Richard V. Laurie M. Jamie G. Miriam V. Eric K. Valerie  S. Nicole  F. Joanna S. Gene L. Amy D. Steven T. Darren B. Suzanne D. Miguel E. Deanna D. Michael B. Jonathan H. Marialena F. Hal D. Gordon L. James S. James  H. Rhonda L. Julie B. Catherine B. Kathy M. Melissa S. Charlie M. Cole B. Ron David J. Richard A. Bart M. Steven K. Neit N. Nancy C. Ed R. Chris S. Edward V. Mary Ellen D. Paul T. Glenda  K. Eileen P. Stephen  S. Ryan G. Michael R. Alfredo C. Dawn B. Brad S. Caroline W. Debra B. Thomas J. Kevin A. Raina S. Gary C. Melissa P. James S. James J. Crystal G. Carrie B. Alan K. Michael H. Michelle L. Paul K. Glenn W. Heather R. Sonnie H. Mark N. David Y. Ronald W. Todd H. Donald C. Calum D. Stacey B. Marie  S. Kimberly  G. Randy P. Jack P. Joel A. Lana D. Ladonna F. Gilbert D. Nora D. Michael J. Brooke W. Rod R. Caroline B. David B. Marian R. Janet B. Paul F. Terri S. Ruben G. Anita M. David P. Loretta S. Ovidiu M. Thomas Y. Catherine F. Randall M. Eric D. Ileana B. Joseph  M. Philip C. Kurt R. Benjamin L. Darren G. Ruth A. Manuel L. Gary W. Barry E. Michael F. Cathleen R. Anthony M. Ernie K. Frank N. Nicholas S. Ralph H. Garrett Y. Kay B. Caren C. Kenneth M. Clayton  U. Jackie P. Pamela W. Clayton G. Lisa P. John G. Patrick K. Cliff L. Brian P. Ski B. Sharon  B. John A. Christi T. Ward G. Jakob B. Matthew J. Joan H. Kathleen S. Heather B. John D. Michael M. K W. Michele  C. Kim  Q. Ronnie G. Tammy B. James C. Debra  C. James W. Thomas S. Adrian B. Jeffrey J. Scott H. Nicholas J. Derek G. Thomas T. Deborah  H. Todd L. Aneta P. Janet  S. Jennifer B. Alan R. Michele T. Michael V. Concepcion D. Dawn K. David S. John D. Ricki T. Michael P. James G. Mary R. Brendan H. Joseph M. Timothy E. Michael A. Teresa C. Paul G. Channa Sumedha D. Les K. Jenae D. Jeffrey M. Robert B. Niles  H. Justin S. Chad M. Lazaro P. Sonya S. Mark P. Victoria M. Peggy S. Eric W. Lisa S. Joseph  P. Dina C. David S. Nick F. Jay A. Satoshi N. Melinda S. Denise B. Beth L. Bob & Laurie A. John E. Keith  B. Patricia H. Carole H. Donns W. Susan B. Brian H. Kathryn B. Nicholas F. Timothy R. Michelle D. Phyllis E. Charlie B. Whitney K. Alison S. Rebecca  B. Gwynn J. Frankie  P. William B. Mark  P. Joyce D. Ellie C. Chris  L. Lori R. Craig K. Patrick B. Jerome C. Joanie S. Desmond M. Stephen H. Damiano D. Peter M. David B. Michael M. Becky R. Joseph C. Brandon C. Loren C W. Brandon R. Cory R. Rick B. Andrew P. Julianne E. Leslie H. Susan L. Justin W. Mark E. Jeffery P. Nick R. Carol S. Victoria D. Bill L. Piotr S. Filippa Marie B. Intak O. Jason S. Alex W. Ruben R. Judy B. Randy Y. Jeffrey P. Michael N. Kyle B. Monic S. Joan T. Tommy A. Gilberto D. Jason A. Molly M. Brandon H. Aaron L. Nathan C. James H. Ricky G. Linda K. Richard G. Nicholas D. Fleming W. Marcos R. Harry L. Linda H. Mark  Y. Jose S. Paul W. Mary M M. Michael D. Susan S. Theresa E. Elgin R. Jeffrey S. Steve C. Harley W. Bob S. Blaine L. Natalya  O. Patrick F. Patricia C. Nancy M. William G. Pete  A. Kym B. Jeannette D. Theodore M. Thomas H. William W. Jennifer S. Gloria S. Francis M. Alan P. Mike V. David  D. Wilhelm B. Jeffrey H. Wayne M. James K. William B. Christopher  F. Garrett G. Svetlana O. Luigi P. Barbara W. Kevin  M. Vicki R. Theodore W. Brian K. Richard S. George W. Taylor A. Laurie H. Jim  S. Daniel  L. Jason M. Steve D. David D. Scott C. Steven C. James R. Brad M. Andrew H. Benjamin V. Rozalind H. John D. Timothy S. Mark  H. Mac C. Elizabeth K. Reginald G. Stephanie B. Ann S. Cynthia C. Ian M. Nathan B. Gary S. Art   K. Steven H. Eugene S. Elizabeth Anne J. Lee T. Thomas M. Franklin J. Ken  W. Jay B. Dawn L. Robin M. Jennifer J. Dustin L. Craig N. Norm B. Hilda W. Liam M. Maggie  M. Scott L. Daniel K. Linda G. Seamus B. Barbara C. Heather R. Ricky S. Lawrence T. Carol B. Sherri K. Gus M. Geralynn B. Darla H. James K. Hanie B. Tracy T. Thaddeus G. Jeremy L. Donald H. Ronald L. David N. Daniel B. Daniel T. John C. Brett B. Randy M. Jerry B. Candace M. Tammy J. Jesse P. Sallyann B. Karin B. Bren F. Judi B. Ronald K. Adam M. Richard F. Yanet G. Scott C. Tasha S. Debra M. Deborah  G. Cindy M. James D. Lisa W. Myriam  V. Blane A. Aaron G. Thomas T. Chad S. Marsha J. Michelle M. Guy A. Jason E. Ann M. Rio M. Tommy B. Maryann C. Melissa K. David W. William H. Roger W. Anna E. Pat D. Vicky  W. John J. Margaret  N. Matt M. Brian R. Sean C. Steven B. Yvette F. Ahmed A. Gregory M. Paul H. Jade C. Carolyn S. Kelly W. Ray F. Laura M. Keith K. Carol C. Anthony  R. Robert W. Jonathan C. Marci R. Jeremiah L. Joseph A. Todd K. Guy R. Ken Z. Wesley W. Yvonne B. Michael D. Ricardo  M. Kriss K. Dave B. John  S. Colton  P. Julie L. Jeanne B. Kathy C. David  D. Peter H. David  C. Howard S. Cindy K. Lan L. Jamie M. Amie L. Christopher S. Amy H. Jesse G. Timothy R. Larry . Jerrie C. Jeffrey C. Stephen M. Steven R. Michael M. Tara T. Charles  L. James  W. Karen P. Laurence R. Robin N. Mark A. Robert T. Charles R. Michael T. Jan C. Terri G. Vikki S. Bill M. Mary Anne W. Betty G. Lt. James F. Dominick  B. Brad N. Stephen C. John B. Virginia S. Gary  N. David F. John L. Tammy B. Richard R. Lester B. Melissa  A. Tom Y. Rick P. Donna K. Cynthia T. Linda B. Robert H. Janice W. Peter B. Michael  Z. Terry K. Billy T. Kathleen B. Betty C. Karin  G. Gigi C. Victoria G. Alexander D. Charles K. Dale M B. Kevin O. Charlene M. Cheri V. Julie C. Jonathon  H. Teri W. Sheri D. Deborah L M. Leonard H. John A. Jack G. Greg S. Mike S. Seth A. Sandralea J. Don A. Renee P. Roger S. Tony  W. Anthony O. James R. Judy D. Lisa B. Ronna B. Janna N. Robert K. Jeffrey C. Matt J. Mike T. Rik A. John E. David K. Sylvia W. Debora H. Ryan B. Matt W. Louise D. Paula D. Beth P. Ann Laurie  F. Scott W. Stephen K. Margaret S. Mark G. Jennifer D. Miguel O. Jon W. Jon B. Robert B. L B. John P. Sheila P. Barry M. Marilyn O. Melanie D. Jomar V. Lora  G. George L. Christian K. Paul  L. Deborah M. Morgan P. Carl M. William G. Liz C. Deniese C. Victor V. Michael F. Robin T. Beth S. Trudy L. Patricia W. Joe S. Matthew L. Jerry F. Vitaliy N. Nabil G. Roseann E. Josh C. Yinan L. Sue C. Bruce B. Dallas C. Jason M. Sandra  B. Liston E. Christine R. Albert T. Joshua D. Patty L. Susan C. Dennis R. Victoria  L. Vicki A. Mark C. Kurt P. Joseph T. Andrew A. Rebecca  M. Jeanette M. Tracie B. Debra M. Debbie  Z. Elias P. Michael W. James P. Lazer  M. Michael K. Mike S. Randall  O. Barry H. Timothy  R. Daniel C. William R. Camille S. Beverly W. Jay L. Ruth V. Patrick  P. Donna B. Michael A. Vicki S. Kim D. Michael M. Pamela S. Nicole W. Mary Beth M. Shirley  H. Gary  S. Loranna N. Tom  D. Brad B. Cherie V. Anthony T. Jim S. Peter B. Kenneth P. Connie T. Scotti B. Jane H. George B. Jessica M. Herbert S. Maria B. Brian M. Alexander H. G.P.Self O. Graham G. Jacob V. Linda M. Wanda T. Carol C. Bradley A. Steve R. Leslye M. Ryan  D. Michael N. Marlene  F. Robert H. John  B. Bryse D. Jim F. Chad K. David M. Shaun  M. Dj  M. Angie D. Jason M. Tonya L. Michael  S. Michael M. Brett B. Randy W. Robert  W. John L. Theresa A. Harold  D. Dawn P. John C. David B. Kristopher M. Jason Z. John B. Kathleen W. John K. James G. Alastair S. John H. Chris G. Georgia L. Javier H. Scott B. Charles B. Kim P. Helen T. Karen C. Lori W. George B. Jacqueline B. Cason B. Jimmie C. Diana G. Carole L. Sue A. Janet F. Michael K. Michael J. Brian V. Stephen B. Annette I. Diana U. Terry A. Sheryl  S. Andrea O. Bridget O. Kim M. Andrew  P. Sam D. James F. Virginia Y. Steve M. Stephanie A. Grace M. John R. Adam G. Diane P. Jane F. James H. Timothy W. Danielle J. Gary B. Shawn B. Caris R. Linda H. Daniel  I. Robert R. Christopher R. Brian S. Howard T. Mark F. Jim Webster  W. Tina W. Christian G. Grace R. Logan B. Alvah C. Chase L. Sandra P. Michael O. Kristen G. Chad G. Marshall F. Guy E C. Louis S. Robert C. Joseph M. Rosemary Y. Craton H. Andrew  G. Ben T. Graham C. David J. Kimberly  B. Doug F. Charles W. Gene W. Thomas A. Douglas  M. Wade B. Teresa G. Richard M. Jackie B. Brian K. Joyce P. Mary N. Mary B. Patrick M. Vance M. Craig D. Lynne P. Bo D. Daniel F. Thomas  G. Gloria H. Jared N. Jeannette A. Linda B. Rindy M. Julia Y. Toni K. Roger B. Alex R. Robert B. Randy R. Sam P. Sharon D T. Isaac S. Joao B. Kevin R. James A. Linda B. Alex C. Jonathan T. Amy  P. Edward M. Nathan H. Ray T. Nancy S. Thomas H. Chris C. Amanda  M. Belinda P. Angie B. Anthony C. Carol R. Deborah W. Anne M. William R. William F. Rob C. Cesar  R. Rebecca F. Phillip L. Shannon  M. Noelle C. Andrew L. Michael F. Terry M. Melinda L. Mark J. Nancy R. Dave  B. Ron B. Fatima M. Angela C. Elaine J. Dirk V. Steven T. Brian S. Liza R. Pauline L. Susan F. David F. Mick A. Rita  M. Leah G. Steven S. Randy M. Rafael I. Carla S. Kelli P. Daniel J. James D. Linda B. Jared M. John W. Bruce F. Michelle T. Maudie  P. Richard P. Gina T. Donald  J. Thomas M. Jeffrey S. Dianne S. Todd U. Barbara P. Robert E. Michelle  M. Mel E. John B. Daniel  S. Patrick Y. Linda D. Bernard S. Giovanni  V. E S. Robert A. P. Kenneth S. Thomas  J. Dorene C. Ryan  S. Timothy I. Beverly A. Beth T. Kyle B. David N. Brent  A. Michael W. Carol  G. Craig K. Trevor R. Dana M. Anthony C. Thomas L. Melissa J. B. Pius  G. Dani D. Thomas M. Nicholas  D. Wanda A. Guillermo D. Jerome L. Bobby B. Thomas W. Mark V. Robert C. Demetrius F. Shawn L. Andrew  N. Donna F. Matt B. Laura S. Charles S. Jay V. Sharon  P. Randy M. Lars F. Gabrielle H. David E. Centeno J. Dan W. Andy D. Randy W. Louis  B. Julianne W. Jeffrey S. Thomas K. Bonnie P. Jenny  C. Krista  E. Deborah  R. Thomas H. Shirley L. David  D. Michael C. Philip W. Charles S. Jeanne G. Wilkerson G. Richard R. Rekha K. Ken O. Dawn L. Jan V. Jesse  T. Christopher  R. Teri K. Derrick  G. Vicki H. Woodrow V. Eleanor E. Alexis G. Jerry  M. Nicholas M. Edward G. Darrell D. Bobby  L. Rachelle C. Ryan B. Eric  E. John C. David E. Carolyn C. Denise W. Sandra H. Warren R. Steven K. Charles R. Jeffrey A. Leslie O. Elizabeth  V. Rebecca S. Jeffrey  K. Deborah O. Mike K. Diana Z. Tierney  P. Nelson M. Carole C. Orlando  D. Kelly M. Timothy B. Ray C. Garrett B. Richard M. Adam S. Keoni B. Timothy  R. Laura S. Thomas T. Ashley K. Zac R. Terri G. Alfred P. Alex B. Susan  H. Diana  R. Brian F. Dan S. Carolyn  B. Julian  A. Michael  O. George F. Mary  R. Cathy B. Curtis H. David E. Jingxiao C. Paul  W. Cyndi K. Nicole & Mark K. Kim L. Selma  S. Aaron H. Charles N. Rex H. Richard J. Robin F. Jane B. Rudy Ceniceros I. Daniel  C. Doris F. Jacqueline J. Sisto M. Christopher F. Ral F. Blake K. Dan R. Robert H. James H. Dennis H. Dolores  T. Frank L. Xiao Z. George S. Steven D. Michael  F. Kelly T. James C. Ray K. James  M. Jeff M. Janna M. Roger G. John M. Krista T. Kristopher L. John D. Gino B. Brian D. Garrison D. Ryan E. Sean O. Michael J. Corey B. Ashleigh  S. Brian S. Natalie P. Matt S. Stephen C. Ryan O. Deborah K. Dot K. Brenda C. Judi B. Eric D. David B B. Cyndi H. Randy F. Michael L. Barbara M. Cindy C. Joe P. Carl S. Danid H. Carmen S. Brandon M. Anna  H. Lafate D. James H. Kenneth M. Garry M. Mike D. Jack C. Janis B. Mary Ann V. Donald M. Richard A. Selena  S. Dean S. Kathryn S. Michael C. Mary T. Robert P. Darlene R. Lynda S. Paul K. Elaine P. Matthew B. Fiona M. Alex M. Pamela B. Rosa M. Kay H. Charles S. Dee R. Jana C. Sheridon S. Mark M. Donald D. Derrick W. Pramod S. Peter D. Chrissy M. Michael J. Vickie W. Ethan S. Jay P. Charles H. Robert C. Irene E. Martin Z. Christina B. Harriet R. John H. Patrick C. Brady G. Russell F. Robert H. Diane D. Ann'   G. John S. Norka M. Scott P. Carol D. Alexander M. Norm M. John M. Terry B. Janet N. Phillip  G. Evelyn S. Brandon S. Cheryl A. Mary M. Shelley B. Seth  H. Rhea S. Roxie B. Richard H. William P. Jeffrey C. Michael B. Jacquelyn B. James G. Trey O. Michael  G. Laura M. Dorothy W. Michelle  E. Mark S. Tory M. Charles S. William A. Michael B. Brenda R. Andrew J. Jennifer  H. Robert  C. Joseph F. Jesse D. Frank K. Lj B. Sebastian  A. Daniel B. Audrey B. Dawn D. Kelly S. Dennis  M. Michael  A. Anita P. Douglas W. James B. Jaime A. Carol B. Betty  A. Larry G. Diana S. Wayne G. Gretchen H. Mark Z. Duane H. Robert  M. Laurie R. Rebecca  A. Nancy B. Ronald W. Larry C. Austin  V. Mary H. Bill F. Alan B. Michael G. Kristal R. Charles&Diane L. Briar Adam F. Gett B. Kathleen S. Drexel C. Carolyn L. Barbara W. Frank M. Linda L. Sherri B. Alberto A. John S. Kyle K. Larry D. Jonathan  R. Danette T. Troy S. John A. Andrea W. Pat F. Todd R. Robert J. Jd D. Gene B. Logan C. Kimberly Z. Elijah P. Denise N. Chadwick H. Karen H. Gary D. Patricia S. Betsy D. Natalia L. Martin S. Spencer F. Diane B M. Alma C. Patricia M. Lisa  W. Beverly C. Paulette R. Michelle R. Mallea J. Edmund W. Stacy S. Teresa W. Andrew A. Bruno B. Brandon T. James A. Susan B. Michael B. Michael K. Clyde M. Jerilyn E. Susan J. Zachary H. Kenneth H. Charles W. Nita Maria E. Virginia M. Lothar T. Tim R. John Q. Althea H. Cory L. Matt J. Geoffrey B. Max L. Pamela B. Kimberly M. Bernadette F. Mackenzie B. Paul C. Marc M. Robert F. Nicholas C. Steve  I. Richard V. Raymond R. Stephen L. Carol W. Chris C. Julie L. Carolyn  L. Claro F. Lidia R. Timothy G. Lesley A. Troyce W. Nick P. Josef K. David L. Rick K. Alan P. Tricia  M. Marsha T. James F. Linda M. Elizabeth W. David  M. Jodylynn S. George C. Stewart F. Amy M. Daryl D. Michael D. Joseph F. Dale G. Matthew S. Doug B. Stephen  H. Melissa H. Frank P. Kathryn D. Vivian H. Carrie S. Michael P. Bret B. Trent M. Walker S. Beth P. Richard R. Karen P. Predrag L. John M. Dave C. Cheryl B. Donald M. Patricia D. Frank  H. Tanya R. Phillip T. Tracy B. Carolyn C. Robin P. Frank N. Tim M. Nathan M. Mark S. Ted C. Brian S. Mary P. Gavin  N. Sue R. Loray C. Robert. S. . Alexander B. Daniel V. Cathy Marie R. Levi R. Timothy S. Serh S. Robert Z. Sebastian V. Frank  M. Nicholas D. Martin J. Raphael  P. Donna C. James M. Kristen S. James L. Stephen H. Anthony C. Loren H. William R. Michael W. Wendi H. Joyce F. Mary E. Richard C. Brad C. Ruben A R. Gregory O. David O. Sharon R. Sara T. Wesley H. N. Jorge S. Rose D. Cynthia K. Karen D. Karen L G. Shawn H. Michael L. Barry G. Dale B. Jeffrey C. Della W. Katherine B. Tammy B. Kimberly H. Thomas S. Joyce B. Eric R. Chris O. Thomas M. Manasse C. Timothy E. Caroline J. Charles H. Paul D. Liam T. Connie S. H H. Christopher P. Nan H. Ricky C. Joe R. Elizaberh K. Mindy H. James F. Matthew M. Denise M. Charme O. Amanda S. James W. James . George S. George H. Dayle B. Kimberly  T. Anthony  F. Shirley C. Jonathan B. Doug E. Paul O. John H. Dennis M. Keith N. Kevin S. Todd N. Edward G. Linda F. William T. Jeremy H. Brad F. Mike W. Stephanie R. Patricia F. Frank O. Samuel G. Christopher  L. Anthony A. Nancy O. Bill P. Mark M. Christopher H. Sandy A. Craig K. Dustin C. Kurt W. Gina S. Michael  G. Loretta N. Mary R. William  J. Ross A. Sarah P. Beau C. Stanley S. Deb R. Daniel  R. Brook T. Julia R. Shawn M. Charles & Angela S. Cameron B. Gary G. Kathy A. Steve G. Curtis K. Elizabeth M. Marcia C. Dennis L. John R. Paul P. Anne S. Charles  R. Tiffany S. Deborah  A. Chris L. Pamela R. Chris M. Barbara M. Richard E. David G. Cody P. Susan G. Rose I. Rebecca B. Ernest K. Sharon H. Chris S. Alan P. Mario O. James K. Rodney L. Jean C. Johnsy A. Robert L. Joyce  E. Adrian Z. Glenn A. Joseph F. Bruce V. Michael B. Walter L. Stanley  J. Marie M. Robert Wayne S. Joan C. Michael P. Ray F. Scot  F. Lucia R. James M. Julie V. Timothy C. Jeff R. James J. Eric L. David J. Janet F. Victor C. Luis  M. Robbi H. Rose  S. Vito C. James K. Guy H. Anthony C. Maureen C. Karen H. Cheryl B. Ruthanne E. Debbie S. Brenda S. Susan W. Paul M. Jerry  D. Ricard D. Kathy S. Cynthia L. David F. Belinda S. Joseph L. Suzanne H. Paul P. Leif M. Jorge R. Jeff J. James T. Mariane R. Heidi B. Chad F. Leslie N. Lou K. Robert M. Beverly G. Michael S. Joshua B. Juliano P. Patricia O. Jeremy N. David S. Keith P. Rodney H. Ethan F. Dan C. Linda T. Benjamin  L. Linds M. Lynn G. Enrique C. Kathy J. Brian M. Andrew S. John B. Joseph B. Raymond G. Marcus  H. James S. Joe R. Peter L. Gary M. Barbara P. Julie L. Cheryl M. Ron L. Loren S. Sam B. Kris H. Lynette J. Wayne M. Mark M. Wayne  L. Bernie H. Katie H. Cornelia C. Mary S. Jason T. Kim M. Jacqueline W. Paul C. Valerie G. Lance S. Atwill M. Maxwell L. Richard  A. Perri M. Cindy R. John S. James T. Edward O. Bill R. Benjamin H. Steven W. Grant E. George H. Dr Stephen L. Douglas S. Brian D. Monica B. Brian K. Brian R. Sue V. Dave C. Michele W. William C. Kristine P. Robert C. Amber E. David P. Tom G. Gail E S. Allen B. David V. Christine L. Sally P. Paul G. Charles M. Vi L. Robert W D. John C. James L. Gary B. Richard C. Harold H. Christopher W. Alexander W. Talat M. David M. Robert M. James M. Bob D. Tracy R. Jody C. Bradley S. Elizabeth O. Curtis R. Tiffany T. Michael L. Robert G. Lisa B. Michael I. Kathleen H. John C. Marleen P. Barry L. Richard W. David S. Anand K. Aileen H. Dylan A. Richard R. Patrick  M. John G. Richard R. John H. Susan  H. Linda H. Diane C. Joseph P. Catherine A  L. Christine B. Jason M. Richie D. Randy A. John P. Linda H. Brian W. Margaret  P. Julie M. David O. George  J. Luke K. Frank W. Angelica  R. Kenly R. Donna P. Tim F. John  H. Dino B. Homer R. Anthony B. William B. Phyllis W. Karen S. Garrett H. Gene K. Jeannette I. Michael B. Jesus  C. Ken K. Jonathan A. Susan W. Keith E. Ward G. Michael B. Rose K. Donna N. William I. Susan  L. Stephen V. Paul C. Nancy N. Taylor E. Keith H. Will C. Bob G. Andrew M. Brad E. Robin G. Michele V. Christina G. Cynthia M. Eryika T. Stephen L. Renee  L. Brandon D. Dena B. Scott B. Michael S. Gregory R. James L. Shon M. Larry T. Michael T. Susan C. Jerrier A. Gene R. Mark T. Scott G. Teddy S. Pete M. Cheri W. Mark P. Donna W. Delwin  L. Brian C. Joseph P. Vinny M. Stephan C. Kris M. Joey S. Christopher K. Duane  P. Mary Ann M. Stefani M. Maggie T. Christopher S. Phil L. Hector S. Ricci F. Michael M. Brittany S. Joel P. Russ E. Benjamin J S. Angela S. Michael G. Jane  D. Andrew T. Linda F. Jo  A. Eric  B. Katherine M. Marc A. John H. Donna K. Chris E. Sean K. Lonnie H. Fred S. Bonnie M. Debra G. Edwin J.  T. Sherry C. Georgia S. Brad S. Jason B. Thad L. Rosa N. Kuan D. William R. Jorge P. John K. Eric C. W P M. Richard M. Gwyn M. Zachary H. Todd S. Fausto L. Bonita S. Edward B. Chris H. Daniel F. Jacob  F. Gerald S. Doug D. Daniel S. Charles M. Carl M. Ronnie P. Joanie P. Angela P. Mary H. Theresa R. Tammy P. Michael I. Kevin  D. Colin T. John M. Wanda H. Tracy A. Erric  T. Samuel  G. Kirk B. Cody S. Brando B. Mary  H. Maximino  A. Tony Z. Bobbi B. Mark B. Boyd B. Cortney  K. Dwight J W. Mark S. Gabriel C. Alex B. Annemarie R. Mike O. Tom G. Keaton  L. Joseph K. David  L. Charley V. Tamela J. Joseph B. Marie S. Shawntell M. John P. Claudia S. Ron F. Danny C. Lawrence M. Sherry E. Cassandra  B. Isidro G. Dennis S. Colin B. Pam P. Charles R. Norberto L. Steve Z. Pramod Y. Dan C. Tito D. Kenneth  S. Nathan M. Jesse S. Richard G. Billy H. Cecelia G. Larry M. Jane W. John V. Michael G. Candi H. Patti  J. David W. Susan M. Kathleen B. Keith G. Kevin W. David W. Claude S. Stephen E. Jason  O. Lisa C. Jason G. Phillip B. Charles  H. Harlyne C. Stephen S. Thomas W. Steve  C. Jeff B. Dale L. Kyle  J. Claire E. Gregory R. Joe S. Larry M. Nash P. Gaye Lynn B. Pat Henry B. Eric A. Ashley G. Timothy B. Maria R. Brandi L. Joanne P. Rob H. Raleigh A. Michelle  Y. Dorothy C. Mark D. Diame K. Yvonne W. Stephanie M. Jerell M. Franklin P. Sara D. Pam A. Leonard F B. Jonnie S. Travis M. Eric R. Richard D. Angela D. Stacy W. John M. Vickie  W. Erich  E. Jim  H. Scott L. Joseph  P. Andrew B. Tony S. Alisa A. Jennifer B. Andrea K. Isireli Q. James B. Kate L. Edith C. Forrest T. Leon L. Christine L. Matthew  H. John E. Joe  D. Bianca J. Karen B. Tammy L. Charles T. Jeff B. Bruce N. Thomas A. Jim W. Maryjane S. John K. Margaret D. James G. Suzanne  B. Carl F. Mary B. Richard  H. Tim B. Thomas B. Michelle M. Scott  R. Charles M. Dennis F. Richard N. Stephen H. Leona K. Steve K. Kim T. Florence T. Anthony R. Jill M. La Vonda H. Jacob C. Lei W. Thomas T. Enrico P. Diana D. Steven S. Erin P. Timothy V. Katie K. Jeff G. Scott V. Kenneth B. Peter S. Shelley C. Michelle  D. Gary B. Natalia I. Elaine A. Roseanne F. Carol C. Daisy B. Cheryl  M. Brent R. Janie  L. Sheyla F. Edward H. M. John Paul V. Walter S. Robin D. Larry B. Ashok S. Don T. Lucas B. Sylvia M. Doug C. Nick I. Carol R. Judy F. Kelly  M. Scott  W. Alfred W. Steve W. Raymond H. Wanda S. Yun W. Mitchell R. Kaylene E. Wiliam L. Franny T. Sarah C. John C. Nicole M. Randy O. Travis  J. Kimberley  D. Jake F. Laura S. Susan W. Rhett P. Matthew M. Robert R. Scott I. Michael B. Eric B. Paula H. Linda W. Glen H. Richard  V. Barbara D. Jeff B. Robert M. Cheryl W. Frank Z. Starr B. Rhonda  M. Mary Jane S. Douglas  K. Martin O. Stephen W. Lena D. Margie  G. Stephen  T. Travis N. Patrice C. Veronica S. Carol B. Jason  S. Cathy C. Michael S. James H. Daniel B. Deborah F. Keith T. Tim F. Louis S. Robin D. Verna W. Jim B. Dean M. Erik P. Shawn F. Julie B. Carlos H. Kenneth F. Eva K. Doug H. Tammy S. Inna G. Jeff V. Peter B. Curtis L. Elizabeth B. Cathy S. Heidi W. Aaron C. Eric B. Thomas K. Beau D. Sharon V. Steven M. Sean  H. Linda O. Martin  G. Chris E. Kevin B. Jesse M. Harold D. Dan P. Paul S. Dennis  K. Jarrod T. Phyllis G. Daniel C. Kevin V. Dana F. Jerry  M. Bennie Renee M. Robert G. Vickie A. Gerald K. Pamela B. Charlene  H. Daniel R. Michael L. Neal P. Steven C. Brenda C. Jennifer  M. James B. Jackie O. Michael L. Keil B. Helen E. Larry P. Raphael W. Barbara B. Edward  G. Beatriz L. Jerri K. Joshua A. Donald B. Jonathan R. Jennifer W. Andre W. Tommy W. Trucking  I. Kathryn K. Anne B. Joe S. Arnold Z. Laurita M. Alishia P. Michael C. Vickie E. William B. Scott T. Bryan J. Diana H. Sophie  K. Nathan C. Robert L. Victoria R. Cherryl B. Paul S. Jared H. Robert B. Kent K. Michael L. Duane K. Raymond  O. Lachricia D. Linda P. Vicky S. Robert S. David B. Dennis S. Nicole R. Beth H. Sarah D. Vicky Z. Schneur G. Todd A. Bobi H. Alina B. Sonja E. Nadine B. Taftford C. Derek D. Stephanie O. Thomas P. Glenda H. Michele  H. Laura K. Jon Z. Robert W. Henry S. Kyle B. Debra J. William D. Jeffrey G. Kathleen J. Elaine P. Dave R. Laurel M. Deslynn  A. Elliot K. Robert  S. Kathey D. Melisa P. Kevin O. Mary D. Delia  V. Barb K. Andrew L. Jeanne P. Angela O. Deborah H. Malka W. Spencer M. Mary J. Brent R. Kaila M. David H. Kevin  B. Alexander B. Alan B. Denise B. Richard S. Kati P. Rubina B. Tracy G. Thomas B. John S. Mandy V. Katherine K. David F. Lu E. Jacob A. Colleen S. Jordan M. Daniella A. Heather P. Candace M. Richard P. Nan T. Scot D. Diane L. Ross C. Bayne S. Justin C. Andres M. Jennifer G. Vincent  C. Jon C. Maureen C. Jesse M. Juel R. Wayne M. Thomas T. Kenneth G. Mary Jo T. Kraig F. Laura P. Steve B. Dianne L. Jennifer N. Jacob M. Herb H. H Scott  B. Kurt W. David M. Jo-Ann A. Tim B. Sarah Jean H. Kenneth E. Roger B. Kenneth G. Glen M. Scott  J. Sharon B. Isaac P. Sylvia P. Donna D. Elaine Cipolla M. Sean H. Scott H. Richard B. Inez  Q. Thomas A. Bill M. Marilyn B. Marta H. Kathy H. John G. Richard S. Lee S. Miss Katherine H. Yvonne C. Kenneth H. Steve P. Paul M. Vickie Lynn F. Amy M. Dexter A. Fan  Y. Ronda  F. Judy K. Amy H. Lana H. Lori B. Lou W. Jerome H. Patricia G. Joe S. Chris S. Branden K. Dan  C. Charles B. Boris M. Lorraine H. Kristy S. Brandon B. Andree R. E G. Betty A. Mary Ann B. Sher V. Emily M. Chris D. Marcia S. Carol E. Karl M. Pamela P. Raymond R. Hollie B. Rick G. Neil J. Lisa M. Daniel S. Matthew P. Isaac B. Mary M. Connie C. Stephen P. Katherine E. Donna B. Raymond H. Kevin B. Kristen A. Gary N. Mark F. Andrew R. Tyler C. Terrisia S. Melody M. Kazim M. Gary G. Adelina G. Lisa B. Leslie P. Brian F. Richard B. Michele B. William  S. Alan P. Thomas F. Patrick  M. Mark R. Brandon E. Noland S. Michelle R. Debbie M. Carol B. Janet B. Shelva W. Franklin K. Tracy  C. Joseph H. Tolliver G. Steven H. Philip R. Yvonne S. Joshua F. Laurence M. Joy W. Janet K. Davd A. Matan B. Jim B. Konrad K. Paul N. Matt E. Rodolfo F. Nathan P. Thomas C. Anthony B. Sandra R. Sandy B. Michael M. Jeff R. Linda S. Keli G. Scott A. Bill & Fran S. Joseph P. David W. Gary  Z. Suzanne C. Tatia A. Phyllis  W. Stacey K. Peter M. Scott S. William V. Adam N. D J M. Chris C. Leslie S. Neil M. Pam H. John K. Gary H. Keith G. Dylan J. Kathleen W. Isac S. Skip W. Dawn S. Kathleen  O. Ronald R. Derrick C. Kimmy G. Carlos M. Jacqueline  N. Tom A. Matthew M. C. Eileen M. Barbara J C. Kevin D. Lou  B. Mark C. Michelle B. Ronnie B. Karl G. Frank L. Linda V. Stephen  S. Mary N. Angela B. Mark M. Debra C. Kevin D. Diana C. Jerry V. Jarrod P. George K. Gary C. Gerald K. Brad G. Sofia P. Roger F. Barry M. Christine F. James M. Vincent W. Robert B. Avery A. Terry W. David J. Jacob  C. Amanda O. David F. Alfredo P. Melinda F. Kenneth H. Kenneth T. John K. Cara R. Jill A. Dan P. Gary R. Darren D. Lauren B. Ken T. Linda S. Randy And Jan Z. Fengbo H. Dean A. Jeanette U. Joyce  M. William  H. Anette  P. Greg S. Annemarie J. Thomas K. Nick D. Kimberly  C. Jack F. Danny C. Kenneth & Stacy D. Lea T. Chris M. Ben M. Lydia V. Joan L. Irene K. James  B. Jim R. Howard H. Sue P. Devon M. Mary K. Laura J. Samuel M. Rick C. Debbie R. John  C. Pincus S. Karen S. James L. Michele V. Roger K. Edwin B. Dominic R. Vincent  C. Turner Q. Jarrod M. Jaime M. Gary  O. Jimmy  H. Sally A W. Rick W. Theresa  C. Nick T. Robert D. Callie M. Austin C. Mary Jo P. Scott  D. Tammy Y. Lucian G. Brian Q. William G. Dan I. Kevin H. Darryl P. Caleb R. Judy C. Reed R. Dan H. Gil F. Mike S. Joachim  K. Kathy S. Everette P. Anita S. Linda  P. Lisa W. Keith L. Joseph R. Bill S. Thomas  P. Dolores B. Theresa J. Carl R. Doreen C. Robin H. Dena B. Darlene B. Dave K. Ryan M. Laura T. Helen S. Louis P. Elizabeth  S. Charles M. Olley C. Angela M. Ilene M. Oscar C. Diane C. Amy T. Marie H. Ginger H. Stephen M. Lee D. Dan F. Mary L. Albert L. Carolyn C. Patsy B. Robin N. Jenise W. Lynne L. Jessie F. Andrea H. John F. Cindy G. David G. Pat B. William  E. Audrey H  G. David J. Robert K. Daniel H. John C. Loren M. Troy R. Ted T. Steve D. Kaarina D. Delores H. Paris S. Blanca P. Michael T. Suzanne B. Grace A. Timothy M. Loren B. Jerry  D. Gina C. Theresa D. Susan A. Eric R. Cheryl D. Tom P. William H. David W. Mark G. S.M. D. Allan U. David A. Joyce  W. Gloria W. Mary W. Eric G. Michael B. Tami G. Phillip B. Maria  A. Billie M. Joseph A. Charles H. Robert B L. James R. Keenan C. Anthony  H. Jeffrey D. Marisol  A. Ronald G. Robbie Y. Sebastian P. Scott F. Stephanie M. Edy V. Austin A. Robert  B. Jennifer S. Bryan S. Tim K. Christi A. Sharon B. William R. William M. Susan  C. Michael H. Caleb W. Zhanwu L. Judy H. Karen M. Matt M. Brian H. Robert  J. Jennifer  F. Verdia W. Paul S. Dena G. Deanna M. Patrick  S. Birdie H. Patricia M. Monica L H. G.H. G. Steven T. Theresa T. Annette M. Lisa P. Steve R. Nancy D. Kimberly  B. Stanley  L. Patricia M. Gary W. Kathy R. Tom B. Faye M. Justin K. Irene E. Lee A. Tom  K. Kay W. Add your name to the list: http://bit.ly/2duCRlw\n"
     ]
    },
    {
     "ename": "AssertionError",
     "evalue": "The given length_type 'words' is not found! Possible options are 'tokens', 'sentences' and 'characters'",
     "output_type": "error",
     "traceback": [
      "\u001B[0;31m---------------------------------------------------------------------------\u001B[0m",
      "\u001B[0;31mAssertionError\u001B[0m                            Traceback (most recent call last)",
      "Cell \u001B[0;32mIn [7], line 58\u001B[0m\n\u001B[1;32m     56\u001B[0m \u001B[38;5;28mprint\u001B[39m()\n\u001B[1;32m     57\u001B[0m \u001B[38;5;28mprint\u001B[39m(\u001B[38;5;124mf\u001B[39m\u001B[38;5;124m\"\u001B[39m\u001B[38;5;124mLongest update based on the number of characters: \u001B[39m\u001B[38;5;132;01m{\u001B[39;00mget_longest_update(status_updates, length_type\u001B[38;5;241m=\u001B[39m\u001B[38;5;124m'\u001B[39m\u001B[38;5;124mcharacters\u001B[39m\u001B[38;5;124m'\u001B[39m)\u001B[38;5;132;01m}\u001B[39;00m\u001B[38;5;124m\"\u001B[39m)\n\u001B[0;32m---> 58\u001B[0m \u001B[38;5;28mprint\u001B[39m(\u001B[38;5;124mf\u001B[39m\u001B[38;5;124m\"\u001B[39m\u001B[38;5;124mCalling get_longest_update() this way should raise an error (which is intentional): \u001B[39m\u001B[38;5;132;01m{\u001B[39;00mget_longest_update(status_updates, length_type\u001B[38;5;241m=\u001B[39m\u001B[38;5;124m'\u001B[39m\u001B[38;5;124mwords\u001B[39m\u001B[38;5;124m'\u001B[39m)\u001B[38;5;132;01m}\u001B[39;00m\u001B[38;5;124m\"\u001B[39m)\n",
      "Cell \u001B[0;32mIn [7], line 21\u001B[0m, in \u001B[0;36mget_longest_update\u001B[0;34m(status_updates, length_type)\u001B[0m\n\u001B[1;32m     18\u001B[0m length_type_characters \u001B[38;5;241m=\u001B[39m \u001B[38;5;124m'\u001B[39m\u001B[38;5;124mcharacters\u001B[39m\u001B[38;5;124m'\u001B[39m\n\u001B[1;32m     20\u001B[0m \u001B[38;5;66;03m# Check if the given length_type is known and thus can be handled by this function\u001B[39;00m\n\u001B[0;32m---> 21\u001B[0m \u001B[38;5;28;01massert\u001B[39;00m length_type \u001B[38;5;129;01min\u001B[39;00m [length_type_tokens, length_type_sentences, length_type_characters], \\\n\u001B[1;32m     22\u001B[0m     \u001B[38;5;124mf\u001B[39m\u001B[38;5;124m\"\u001B[39m\u001B[38;5;124mThe given length_type \u001B[39m\u001B[38;5;124m'\u001B[39m\u001B[38;5;132;01m{\u001B[39;00mlength_type\u001B[38;5;132;01m}\u001B[39;00m\u001B[38;5;124m'\u001B[39m\u001B[38;5;124m is not found! \u001B[39m\u001B[38;5;124m\"\u001B[39m \\\n\u001B[1;32m     23\u001B[0m     \u001B[38;5;124mf\u001B[39m\u001B[38;5;124m\"\u001B[39m\u001B[38;5;124mPossible options are \u001B[39m\u001B[38;5;124m'\u001B[39m\u001B[38;5;132;01m{\u001B[39;00mlength_type_tokens\u001B[38;5;132;01m}\u001B[39;00m\u001B[38;5;124m'\u001B[39m\u001B[38;5;124m, \u001B[39m\u001B[38;5;124m'\u001B[39m\u001B[38;5;132;01m{\u001B[39;00mlength_type_sentences\u001B[38;5;132;01m}\u001B[39;00m\u001B[38;5;124m'\u001B[39m\u001B[38;5;124m and \u001B[39m\u001B[38;5;124m'\u001B[39m\u001B[38;5;132;01m{\u001B[39;00mlength_type_characters\u001B[38;5;132;01m}\u001B[39;00m\u001B[38;5;124m'\u001B[39m\u001B[38;5;124m\"\u001B[39m\n\u001B[1;32m     25\u001B[0m \u001B[38;5;28;01mfor\u001B[39;00m status_update \u001B[38;5;129;01min\u001B[39;00m status_updates:\n\u001B[1;32m     26\u001B[0m     \u001B[38;5;66;03m# Store the status message in a variable\u001B[39;00m\n\u001B[1;32m     27\u001B[0m     status_message \u001B[38;5;241m=\u001B[39m status_update[\u001B[38;5;124m'\u001B[39m\u001B[38;5;124mstatus_message\u001B[39m\u001B[38;5;124m'\u001B[39m]\n",
      "\u001B[0;31mAssertionError\u001B[0m: The given length_type 'words' is not found! Possible options are 'tokens', 'sentences' and 'characters'"
     ]
    }
   ],
   "source": [
    "import nltk\n",
    "\n",
    "nltk.download('punkt')\n",
    "\n",
    "def get_longest_update(status_updates, length_type='tokens'):\n",
    "    \"\"\"\n",
    "    Gets a status message with the most no. tokens, sentences or characters\n",
    "    :param status_updates: The status updates to search through\n",
    "    :param length_type: The type to check on\n",
    "    :return: A status message (string)\n",
    "    \"\"\"\n",
    "    # Variable which stores the current longest update\n",
    "    current_longest_update = ''\n",
    "    current_longest_length = float('-inf')\n",
    "    # Definition of the possible length types\n",
    "    length_type_tokens = 'tokens'\n",
    "    length_type_sentences = 'sentences'\n",
    "    length_type_characters = 'characters'\n",
    "\n",
    "    # Check if the given length_type is known and thus can be handled by this function\n",
    "    assert length_type in [length_type_tokens, length_type_sentences, length_type_characters], \\\n",
    "        f\"The given length_type '{length_type}' is not found! \" \\\n",
    "        f\"Possible options are '{length_type_tokens}', '{length_type_sentences}' and '{length_type_characters}'\"\n",
    "\n",
    "    for status_update in status_updates:\n",
    "        # Store the status message in a variable\n",
    "        status_message = status_update['status_message']\n",
    "        update_length = -1\n",
    "\n",
    "        # Check what kind of length type we're dealing with\n",
    "        if length_type == 'tokens':\n",
    "            # Tokenize the current status message\n",
    "            tokens = nltk.word_tokenize(status_message)\n",
    "            # Get the no. tokens\n",
    "            update_length = len(tokens)\n",
    "        elif length_type == 'sentences':\n",
    "            # Get the sentences by splitting on the newline character\n",
    "            sentences = status_message.split('\\n')\n",
    "            # Get the no. sentences\n",
    "            update_length = len(sentences)\n",
    "        elif length_type == 'characters':\n",
    "            # Get the no. characters\n",
    "            update_length = len(status_message)\n",
    "\n",
    "        # Check if the current length is longer than the previously longer length\n",
    "        if update_length > current_longest_length:\n",
    "            # Update the new\n",
    "            current_longest_length = update_length\n",
    "            current_longest_update = status_message\n",
    "    return current_longest_update\n",
    "\n",
    "\n",
    "print(f\"Longest update based on the number of tokens: {get_longest_update(status_updates, length_type='tokens')}\")\n",
    "print()\n",
    "print(f\"Longest update based on the number of sentences: {get_longest_update(status_updates, length_type='sentences')}\")\n",
    "print()\n",
    "print(f\"Longest update based on the number of characters: {get_longest_update(status_updates, length_type='characters')}\")\n",
    "print(f\"Calling get_longest_update() this way should raise an error (which is intentional): {get_longest_update(status_updates, length_type='words')}\")"
   ]
  },
  {
   "cell_type": "markdown",
   "metadata": {
    "pycharm": {
     "name": "#%% md\n"
    }
   },
   "source": [
    "### 1d. Find the status updates containing specific keywords\n",
    "\n",
    "Define a function called **`get_updates_with_keywords()`** that takes three input arguments: \n",
    "\n",
    "* **`status_updates`** (mandatory positional argument) \n",
    "* **`keywords`** (mandatory positional argument) \n",
    "* **`case_sensitive`** (keyword argument with default `False`)\n",
    "\n",
    "The fuction should find the status updates that contain **any of the keywords**. The parameter `case_sensitive` should specify whether uppercase and lowercase characters must be treated as distinct. \n",
    "\n",
    "The function should return **`filtered_status_updates`**, which is a list of dictioaries with all information about the status updates (same format as the input argument `'status_updates'`). \n",
    "\n",
    "**Attention**: It is highly recommended to use NLTK for this exercise. Make sure that you **tokenize** the messages before you look for keywords. "
   ]
  },
  {
   "cell_type": "code",
   "execution_count": 17,
   "metadata": {
    "pycharm": {
     "name": "#%%\n"
    }
   },
   "outputs": [
    {
     "data": {
      "text/plain": "False"
     },
     "execution_count": 17,
     "metadata": {},
     "output_type": "execute_result"
    }
   ],
   "source": [
    "import nltk\n",
    "\n",
    "def get_update_with_keywords(status_updates, keywords, case_sensitive=False):\n",
    "    \"\"\"\n",
    "\n",
    "    :param status_updates:\n",
    "    :param keywords:\n",
    "    :param case_sensitive:\n",
    "    :return:\n",
    "    \"\"\"\n",
    "    status_updates_with_keywords = []\n",
    "\n",
    "    for status_update in status_updates:\n",
    "        message = status_update['status_message']\n",
    "        contains_keyword = False\n",
    "\n",
    "        tokens = nltk.word_tokenize(message)\n",
    "        for keyword in keywords:\n",
    "            if contains_keyword:\n",
    "                break\n",
    "            if not case_sensitive:\n",
    "                keyword = keyword.lower()\n",
    "            for token in tokens:\n",
    "                if not case_sensitive:\n",
    "                    token = token.lower()\n",
    "                if keyword == token:\n",
    "                    status_updates_with_keywords.append(status_update)\n",
    "                    contains_keyword = True\n",
    "                    break\n",
    "    return status_updates_with_keywords\n",
    "\n",
    "keywords = [\"clinton\", \"obama\"] # test with these keywords; also experiment with other keywords\n",
    "updates_with_keywords = get_update_with_keywords(status_updates, keywords)\n",
    "len(updates_with_keywords) == len(set([x['status_message'] for x in updates_with_keywords]))"
   ]
  },
  {
   "cell_type": "markdown",
   "metadata": {
    "pycharm": {
     "name": "#%% md\n"
    }
   },
   "source": [
    "## Exercise 2: Nobel Prize Winners (JSON)"
   ]
  },
  {
   "cell_type": "markdown",
   "metadata": {
    "pycharm": {
     "name": "#%% md\n"
    }
   },
   "source": [
    "There is a lot of interesting data online. For example, the [Nobel Prize Organisaton](https://www.nobelprize.org) provides the [Nobel Prize API](https://nobelprize.readme.io) that allows you to download information about the prizes, the laureates and the countries. \n",
    "\n",
    "The information is formatted in JSON. Have a look at the following URLs:\n",
    "- http://api.nobelprize.org/v1/prize.json\n",
    "- http://api.nobelprize.org/v1/laureate.json\n",
    "- http://api.nobelprize.org/v1/country.json\n",
    "\n",
    "For this exercise, we will only look at the prizes and the laureates. \n",
    "\n",
    "We can download the data using the `requests` module. How this works is shown below."
   ]
  },
  {
   "cell_type": "code",
   "execution_count": null,
   "metadata": {
    "pycharm": {
     "name": "#%%\n"
    }
   },
   "outputs": [],
   "source": [
    "import requests"
   ]
  },
  {
   "cell_type": "code",
   "execution_count": null,
   "metadata": {
    "pycharm": {
     "name": "#%%\n"
    }
   },
   "outputs": [],
   "source": [
    "# Download data on prizes\n",
    "api_url = \"http://api.nobelprize.org/v1/prize.json\"\n",
    "r = requests.get(api_url)\n",
    "dict_prizes = r.json()\n",
    "# uncomment the line below if you'd like to see what's inside dict_prizes\n",
    "#dict_prizes "
   ]
  },
  {
   "cell_type": "code",
   "execution_count": null,
   "metadata": {
    "pycharm": {
     "name": "#%%\n"
    }
   },
   "outputs": [],
   "source": [
    "# Download data on laureates\n",
    "api_url = \"http://api.nobelprize.org/v1/laureate.json\"\n",
    "r = requests.get(api_url)\n",
    "dict_laureates = r.json()\n",
    "# uncomment the line below if you'd like to see what's inside dict_prizes\n",
    "#dict_laureates "
   ]
  },
  {
   "cell_type": "markdown",
   "metadata": {
    "pycharm": {
     "name": "#%% md\n"
    }
   },
   "source": [
    "### 2a. Read the JSON files\n",
    "\n",
    "We have already stored the data as the JSON files `laureate.json` and `prize.json` in the folder `../Data/json_data/NobelPrize`. Open these JSON files and load them as the Python dictionaries `dict_laureates` and `dict_prizes`."
   ]
  },
  {
   "cell_type": "code",
   "execution_count": null,
   "metadata": {
    "pycharm": {
     "name": "#%%\n"
    }
   },
   "outputs": [],
   "source": [
    "# load laureates.json and prize.json here"
   ]
  },
  {
   "cell_type": "markdown",
   "metadata": {
    "pycharm": {
     "name": "#%% md\n"
    }
   },
   "source": [
    "### 2b. Get all laureates from year and category\n",
    "\n",
    "Create a function called **`get_laureates()`** that thas three parameters: \n",
    "\n",
    "* **`dict_prizes`** (positional parameter) \n",
    "* **`year`** (keyword parameter with default `None`) \n",
    "* **`category`** (keyword parameter with default `None`) \n",
    "\n",
    "The function should find all laureates that received the Nobel Prize, optionally in a specific year and/or category (specified using the keywords `year` and `category`). It should return a list of the full names of the laureates.\n",
    "\n",
    "For example, for the year 2018 and category \"peace\" it should return the list `['Denis Mukwege', 'Nadia Murad']`."
   ]
  },
  {
   "cell_type": "code",
   "execution_count": null,
   "metadata": {
    "pycharm": {
     "name": "#%%\n"
    }
   },
   "outputs": [],
   "source": [
    "def get_laureates():\n",
    "    # your code here                     \n",
    "\n",
    "\n",
    "year = 2018\n",
    "category = \"peace\"\n",
    "# test your function here"
   ]
  },
  {
   "cell_type": "markdown",
   "metadata": {
    "pycharm": {
     "name": "#%% md\n"
    }
   },
   "source": [
    "### 2c. Get all prizes from affiliations\n",
    "\n",
    "Create a function called **`get_affiliation_prizes()`** that takes one input parameters: \n",
    "\n",
    "* **`dict_laureates`** (positional parameter) \n",
    "\n",
    "The function should find all affiliations that were involved in winning the Nobel Prize and provide information on the category and year of those Nobel Prizes. It should return a nested dictionary of the following format:\n",
    "\n",
    "```\n",
    "{\n",
    "    \"A.F. Ioffe Physico-Technical Institute\": [\n",
    "        {\"category\": \"physics\", \"year\": \"2000\"}\n",
    "    ],\n",
    "    \"Aarhus University\": [\n",
    "        {\"category\": \"chemistry\", \"year\": \"1997\"},\n",
    "        {\"category\": \"economics\",\"year\": \"2010\"}\n",
    "    ]\n",
    "}\n",
    "```\n",
    "\n",
    "**Tip:** some of the entries will lack information (for example, there is no associated affiliation). Use `if-statements` to check if essential information is present. \n",
    "\n",
    "**General tip for working with data**: If your code breaks, check whether your assumptions about the data hold (very often, they unfortunatelydo not). For instance, a dictionary key you thought was always present is missing from a couple of dictionaries, etc. "
   ]
  },
  {
   "cell_type": "code",
   "execution_count": null,
   "metadata": {
    "pycharm": {
     "name": "#%%\n"
    }
   },
   "outputs": [],
   "source": [
    "def get_affiliation_prizes():\n",
    "    # your code here\n",
    "\n",
    "# test your function here"
   ]
  },
  {
   "cell_type": "markdown",
   "metadata": {
    "pycharm": {
     "name": "#%% md\n"
    }
   },
   "source": [
    "### 2d. Write to JSON\n",
    "\n",
    "Next, write the dictionary created in the previous exercise to a JSON file using the following path: \n",
    "\n",
    "`../Data/json_data/NobelPrize/nobel_prizes_affiliations.json`."
   ]
  },
  {
   "cell_type": "code",
   "execution_count": null,
   "metadata": {
    "pycharm": {
     "name": "#%%\n"
    }
   },
   "outputs": [],
   "source": [
    "# write the resulting dictionary to 'json_file'"
   ]
  }
 ],
 "metadata": {
  "kernelspec": {
   "display_name": "Python 3",
   "language": "python",
   "name": "python3"
  },
  "language_info": {
   "codemirror_mode": {
    "name": "ipython",
    "version": 3
   },
   "file_extension": ".py",
   "mimetype": "text/x-python",
   "name": "python",
   "nbconvert_exporter": "python",
   "pygments_lexer": "ipython3",
   "version": "3.8.3"
  }
 },
 "nbformat": 4,
 "nbformat_minor": 4
}