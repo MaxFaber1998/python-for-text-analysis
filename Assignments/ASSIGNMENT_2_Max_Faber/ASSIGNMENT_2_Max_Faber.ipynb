{
 "cells": [
  {
   "cell_type": "markdown",
   "metadata": {
    "pycharm": {
     "name": "#%% md\n"
    }
   },
   "source": [
    "# Assignment 2: Containers\n",
    "\n",
    "**Deadline: Tuesday, September 20, 2022 before 17:00** \n",
    "\n",
    "- Please name your files:\n",
    "    * ASSIGNMENT_2_FIRSTNAME_LASTNAME.ipynb \n",
    "    * assignment2_utils.py\n",
    "- Please store the two files in a folder called ASSIGNMENT_2_FIRSTNAME_LASTNAME\n",
    "- Please zip your folder and please follow the following naming convention for the zip file: ASSIGNMENT_2_FIRSTNAME_LASTNAME.zip\n",
    "- Please submit your assignment on Canvas: Assignment 2\n",
    "- If you have **questions** about this topic, please contact us **(cltl.python.course@gmail.com)**. Questions and answers will be collected on Piazza, so please check if your question has already been answered first.\n",
    "\n",
    "In this block, we covered the following chapters:\n",
    "- Chapter 05 - Core concepts of containers\n",
    "- Chapter 06 - Lists\n",
    "- Chapter 07 - Sets\n",
    "- Chapter 08 - Comparison of lists and sets\n",
    "- Chapter 09 - Looping over containers.\n",
    "- Chapter 10 - Dictionaries\n",
    "- Chapter 11 - Functions and scope\n",
    "\n",
    "In this assignment, you will be asked to show what you have learned from the topics above! \n",
    "\n",
    "**Finding solutions online**\n",
    "\n",
    "Very often, you can find good solutions online. We encourage you to use online resources when you get stuck. However, please always try to understand the code you find and indicate that it is not your own. Use the following format to mark code written by someone else:\n",
    "\n",
    "###Taken from [link] [date]\n",
    "\n",
    "[code]\n",
    "\n",
    "\\###\n",
    "\n",
    "Please use a similar format to indicate that you have worked with a classmate (e.g. mention the name instead of the link). \n",
    "\n",
    "*Please stick to this strategy for all course assignments.*"
   ]
  },
  {
   "cell_type": "markdown",
   "metadata": {
    "pycharm": {
     "name": "#%% md\n"
    }
   },
   "source": [
    "## Exercise 1: Beersong\n",
    "*99 Bottles of Beer* is a traditional song in the United States and Canada. Write a python program that generates the lyrics to the song."
   ]
  },
  {
   "cell_type": "markdown",
   "metadata": {
    "pycharm": {
     "name": "#%% md\n"
    }
   },
   "source": [
    "The song's simple lyrics are as follows:\n",
    "\n",
    "    99 bottles of beer on the wall,\n",
    "    99 bottles of beer.\n",
    "    Take one down, pass it around,\n",
    "    98 bottles of beer on the wall.\n",
    "\n",
    "The same verse is repeated, each time with one fewer bottle. The song\n",
    "is completed when the singer or singers reach zero. After the last bottle\n",
    "is taken down and passed around, there is a special verse:\n",
    "\n",
    "    No more bottles of beer on the wall,\n",
    "    no more bottles of beer.\n",
    "    Go to the store and buy some more,\n",
    "    99 bottles of beer on the wall."
   ]
  },
  {
   "cell_type": "markdown",
   "metadata": {
    "pycharm": {
     "name": "#%% md\n"
    }
   },
   "source": [
    "Notes:\n",
    "\n",
    "* Leave a blank line between verses.\n",
    "* Make sure that you print the singular form of \"bottles\" when the counter is at one."
   ]
  },
  {
   "cell_type": "markdown",
   "metadata": {
    "pycharm": {
     "name": "#%% md\n"
    }
   },
   "source": [
    "Hint:\n",
    "\n",
    "* While debugging the program, start from a small number, and\n",
    "change it to 100 when you are done (as shown below).\n",
    "* Use variables to prevent code repetition\n",
    "\n",
    "You can use the following code snippet as a start:"
   ]
  },
  {
   "cell_type": "code",
   "execution_count": 15,
   "metadata": {
    "pycharm": {
     "name": "#%%\n"
    }
   },
   "outputs": [
    {
     "name": "stdout",
     "output_type": "stream",
     "text": [
      "99 bottles of beer on the wall,\n",
      "99 bottles of beer.\n",
      "Take one down, pass it around,\n",
      "98 bottles of beer on the wall\n",
      "\n",
      "98 bottles of beer on the wall,\n",
      "98 bottles of beer.\n",
      "Take one down, pass it around,\n",
      "97 bottles of beer on the wall\n",
      "\n",
      "97 bottles of beer on the wall,\n",
      "97 bottles of beer.\n",
      "Take one down, pass it around,\n",
      "96 bottles of beer on the wall\n",
      "\n",
      "96 bottles of beer on the wall,\n",
      "96 bottles of beer.\n",
      "Take one down, pass it around,\n",
      "95 bottles of beer on the wall\n",
      "\n",
      "95 bottles of beer on the wall,\n",
      "95 bottles of beer.\n",
      "Take one down, pass it around,\n",
      "94 bottles of beer on the wall\n",
      "\n",
      "94 bottles of beer on the wall,\n",
      "94 bottles of beer.\n",
      "Take one down, pass it around,\n",
      "93 bottles of beer on the wall\n",
      "\n",
      "93 bottles of beer on the wall,\n",
      "93 bottles of beer.\n",
      "Take one down, pass it around,\n",
      "92 bottles of beer on the wall\n",
      "\n",
      "92 bottles of beer on the wall,\n",
      "92 bottles of beer.\n",
      "Take one down, pass it around,\n",
      "91 bottles of beer on the wall\n",
      "\n",
      "91 bottles of beer on the wall,\n",
      "91 bottles of beer.\n",
      "Take one down, pass it around,\n",
      "90 bottles of beer on the wall\n",
      "\n",
      "90 bottles of beer on the wall,\n",
      "90 bottles of beer.\n",
      "Take one down, pass it around,\n",
      "89 bottles of beer on the wall\n",
      "\n",
      "89 bottles of beer on the wall,\n",
      "89 bottles of beer.\n",
      "Take one down, pass it around,\n",
      "88 bottles of beer on the wall\n",
      "\n",
      "88 bottles of beer on the wall,\n",
      "88 bottles of beer.\n",
      "Take one down, pass it around,\n",
      "87 bottles of beer on the wall\n",
      "\n",
      "87 bottles of beer on the wall,\n",
      "87 bottles of beer.\n",
      "Take one down, pass it around,\n",
      "86 bottles of beer on the wall\n",
      "\n",
      "86 bottles of beer on the wall,\n",
      "86 bottles of beer.\n",
      "Take one down, pass it around,\n",
      "85 bottles of beer on the wall\n",
      "\n",
      "85 bottles of beer on the wall,\n",
      "85 bottles of beer.\n",
      "Take one down, pass it around,\n",
      "84 bottles of beer on the wall\n",
      "\n",
      "84 bottles of beer on the wall,\n",
      "84 bottles of beer.\n",
      "Take one down, pass it around,\n",
      "83 bottles of beer on the wall\n",
      "\n",
      "83 bottles of beer on the wall,\n",
      "83 bottles of beer.\n",
      "Take one down, pass it around,\n",
      "82 bottles of beer on the wall\n",
      "\n",
      "82 bottles of beer on the wall,\n",
      "82 bottles of beer.\n",
      "Take one down, pass it around,\n",
      "81 bottles of beer on the wall\n",
      "\n",
      "81 bottles of beer on the wall,\n",
      "81 bottles of beer.\n",
      "Take one down, pass it around,\n",
      "80 bottles of beer on the wall\n",
      "\n",
      "80 bottles of beer on the wall,\n",
      "80 bottles of beer.\n",
      "Take one down, pass it around,\n",
      "79 bottles of beer on the wall\n",
      "\n",
      "79 bottles of beer on the wall,\n",
      "79 bottles of beer.\n",
      "Take one down, pass it around,\n",
      "78 bottles of beer on the wall\n",
      "\n",
      "78 bottles of beer on the wall,\n",
      "78 bottles of beer.\n",
      "Take one down, pass it around,\n",
      "77 bottles of beer on the wall\n",
      "\n",
      "77 bottles of beer on the wall,\n",
      "77 bottles of beer.\n",
      "Take one down, pass it around,\n",
      "76 bottles of beer on the wall\n",
      "\n",
      "76 bottles of beer on the wall,\n",
      "76 bottles of beer.\n",
      "Take one down, pass it around,\n",
      "75 bottles of beer on the wall\n",
      "\n",
      "75 bottles of beer on the wall,\n",
      "75 bottles of beer.\n",
      "Take one down, pass it around,\n",
      "74 bottles of beer on the wall\n",
      "\n",
      "74 bottles of beer on the wall,\n",
      "74 bottles of beer.\n",
      "Take one down, pass it around,\n",
      "73 bottles of beer on the wall\n",
      "\n",
      "73 bottles of beer on the wall,\n",
      "73 bottles of beer.\n",
      "Take one down, pass it around,\n",
      "72 bottles of beer on the wall\n",
      "\n",
      "72 bottles of beer on the wall,\n",
      "72 bottles of beer.\n",
      "Take one down, pass it around,\n",
      "71 bottles of beer on the wall\n",
      "\n",
      "71 bottles of beer on the wall,\n",
      "71 bottles of beer.\n",
      "Take one down, pass it around,\n",
      "70 bottles of beer on the wall\n",
      "\n",
      "70 bottles of beer on the wall,\n",
      "70 bottles of beer.\n",
      "Take one down, pass it around,\n",
      "69 bottles of beer on the wall\n",
      "\n",
      "69 bottles of beer on the wall,\n",
      "69 bottles of beer.\n",
      "Take one down, pass it around,\n",
      "68 bottles of beer on the wall\n",
      "\n",
      "68 bottles of beer on the wall,\n",
      "68 bottles of beer.\n",
      "Take one down, pass it around,\n",
      "67 bottles of beer on the wall\n",
      "\n",
      "67 bottles of beer on the wall,\n",
      "67 bottles of beer.\n",
      "Take one down, pass it around,\n",
      "66 bottles of beer on the wall\n",
      "\n",
      "66 bottles of beer on the wall,\n",
      "66 bottles of beer.\n",
      "Take one down, pass it around,\n",
      "65 bottles of beer on the wall\n",
      "\n",
      "65 bottles of beer on the wall,\n",
      "65 bottles of beer.\n",
      "Take one down, pass it around,\n",
      "64 bottles of beer on the wall\n",
      "\n",
      "64 bottles of beer on the wall,\n",
      "64 bottles of beer.\n",
      "Take one down, pass it around,\n",
      "63 bottles of beer on the wall\n",
      "\n",
      "63 bottles of beer on the wall,\n",
      "63 bottles of beer.\n",
      "Take one down, pass it around,\n",
      "62 bottles of beer on the wall\n",
      "\n",
      "62 bottles of beer on the wall,\n",
      "62 bottles of beer.\n",
      "Take one down, pass it around,\n",
      "61 bottles of beer on the wall\n",
      "\n",
      "61 bottles of beer on the wall,\n",
      "61 bottles of beer.\n",
      "Take one down, pass it around,\n",
      "60 bottles of beer on the wall\n",
      "\n",
      "60 bottles of beer on the wall,\n",
      "60 bottles of beer.\n",
      "Take one down, pass it around,\n",
      "59 bottles of beer on the wall\n",
      "\n",
      "59 bottles of beer on the wall,\n",
      "59 bottles of beer.\n",
      "Take one down, pass it around,\n",
      "58 bottles of beer on the wall\n",
      "\n",
      "58 bottles of beer on the wall,\n",
      "58 bottles of beer.\n",
      "Take one down, pass it around,\n",
      "57 bottles of beer on the wall\n",
      "\n",
      "57 bottles of beer on the wall,\n",
      "57 bottles of beer.\n",
      "Take one down, pass it around,\n",
      "56 bottles of beer on the wall\n",
      "\n",
      "56 bottles of beer on the wall,\n",
      "56 bottles of beer.\n",
      "Take one down, pass it around,\n",
      "55 bottles of beer on the wall\n",
      "\n",
      "55 bottles of beer on the wall,\n",
      "55 bottles of beer.\n",
      "Take one down, pass it around,\n",
      "54 bottles of beer on the wall\n",
      "\n",
      "54 bottles of beer on the wall,\n",
      "54 bottles of beer.\n",
      "Take one down, pass it around,\n",
      "53 bottles of beer on the wall\n",
      "\n",
      "53 bottles of beer on the wall,\n",
      "53 bottles of beer.\n",
      "Take one down, pass it around,\n",
      "52 bottles of beer on the wall\n",
      "\n",
      "52 bottles of beer on the wall,\n",
      "52 bottles of beer.\n",
      "Take one down, pass it around,\n",
      "51 bottles of beer on the wall\n",
      "\n",
      "51 bottles of beer on the wall,\n",
      "51 bottles of beer.\n",
      "Take one down, pass it around,\n",
      "50 bottles of beer on the wall\n",
      "\n",
      "50 bottles of beer on the wall,\n",
      "50 bottles of beer.\n",
      "Take one down, pass it around,\n",
      "49 bottles of beer on the wall\n",
      "\n",
      "49 bottles of beer on the wall,\n",
      "49 bottles of beer.\n",
      "Take one down, pass it around,\n",
      "48 bottles of beer on the wall\n",
      "\n",
      "48 bottles of beer on the wall,\n",
      "48 bottles of beer.\n",
      "Take one down, pass it around,\n",
      "47 bottles of beer on the wall\n",
      "\n",
      "47 bottles of beer on the wall,\n",
      "47 bottles of beer.\n",
      "Take one down, pass it around,\n",
      "46 bottles of beer on the wall\n",
      "\n",
      "46 bottles of beer on the wall,\n",
      "46 bottles of beer.\n",
      "Take one down, pass it around,\n",
      "45 bottles of beer on the wall\n",
      "\n",
      "45 bottles of beer on the wall,\n",
      "45 bottles of beer.\n",
      "Take one down, pass it around,\n",
      "44 bottles of beer on the wall\n",
      "\n",
      "44 bottles of beer on the wall,\n",
      "44 bottles of beer.\n",
      "Take one down, pass it around,\n",
      "43 bottles of beer on the wall\n",
      "\n",
      "43 bottles of beer on the wall,\n",
      "43 bottles of beer.\n",
      "Take one down, pass it around,\n",
      "42 bottles of beer on the wall\n",
      "\n",
      "42 bottles of beer on the wall,\n",
      "42 bottles of beer.\n",
      "Take one down, pass it around,\n",
      "41 bottles of beer on the wall\n",
      "\n",
      "41 bottles of beer on the wall,\n",
      "41 bottles of beer.\n",
      "Take one down, pass it around,\n",
      "40 bottles of beer on the wall\n",
      "\n",
      "40 bottles of beer on the wall,\n",
      "40 bottles of beer.\n",
      "Take one down, pass it around,\n",
      "39 bottles of beer on the wall\n",
      "\n",
      "39 bottles of beer on the wall,\n",
      "39 bottles of beer.\n",
      "Take one down, pass it around,\n",
      "38 bottles of beer on the wall\n",
      "\n",
      "38 bottles of beer on the wall,\n",
      "38 bottles of beer.\n",
      "Take one down, pass it around,\n",
      "37 bottles of beer on the wall\n",
      "\n",
      "37 bottles of beer on the wall,\n",
      "37 bottles of beer.\n",
      "Take one down, pass it around,\n",
      "36 bottles of beer on the wall\n",
      "\n",
      "36 bottles of beer on the wall,\n",
      "36 bottles of beer.\n",
      "Take one down, pass it around,\n",
      "35 bottles of beer on the wall\n",
      "\n",
      "35 bottles of beer on the wall,\n",
      "35 bottles of beer.\n",
      "Take one down, pass it around,\n",
      "34 bottles of beer on the wall\n",
      "\n",
      "34 bottles of beer on the wall,\n",
      "34 bottles of beer.\n",
      "Take one down, pass it around,\n",
      "33 bottles of beer on the wall\n",
      "\n",
      "33 bottles of beer on the wall,\n",
      "33 bottles of beer.\n",
      "Take one down, pass it around,\n",
      "32 bottles of beer on the wall\n",
      "\n",
      "32 bottles of beer on the wall,\n",
      "32 bottles of beer.\n",
      "Take one down, pass it around,\n",
      "31 bottles of beer on the wall\n",
      "\n",
      "31 bottles of beer on the wall,\n",
      "31 bottles of beer.\n",
      "Take one down, pass it around,\n",
      "30 bottles of beer on the wall\n",
      "\n",
      "30 bottles of beer on the wall,\n",
      "30 bottles of beer.\n",
      "Take one down, pass it around,\n",
      "29 bottles of beer on the wall\n",
      "\n",
      "29 bottles of beer on the wall,\n",
      "29 bottles of beer.\n",
      "Take one down, pass it around,\n",
      "28 bottles of beer on the wall\n",
      "\n",
      "28 bottles of beer on the wall,\n",
      "28 bottles of beer.\n",
      "Take one down, pass it around,\n",
      "27 bottles of beer on the wall\n",
      "\n",
      "27 bottles of beer on the wall,\n",
      "27 bottles of beer.\n",
      "Take one down, pass it around,\n",
      "26 bottles of beer on the wall\n",
      "\n",
      "26 bottles of beer on the wall,\n",
      "26 bottles of beer.\n",
      "Take one down, pass it around,\n",
      "25 bottles of beer on the wall\n",
      "\n",
      "25 bottles of beer on the wall,\n",
      "25 bottles of beer.\n",
      "Take one down, pass it around,\n",
      "24 bottles of beer on the wall\n",
      "\n",
      "24 bottles of beer on the wall,\n",
      "24 bottles of beer.\n",
      "Take one down, pass it around,\n",
      "23 bottles of beer on the wall\n",
      "\n",
      "23 bottles of beer on the wall,\n",
      "23 bottles of beer.\n",
      "Take one down, pass it around,\n",
      "22 bottles of beer on the wall\n",
      "\n",
      "22 bottles of beer on the wall,\n",
      "22 bottles of beer.\n",
      "Take one down, pass it around,\n",
      "21 bottles of beer on the wall\n",
      "\n",
      "21 bottles of beer on the wall,\n",
      "21 bottles of beer.\n",
      "Take one down, pass it around,\n",
      "20 bottles of beer on the wall\n",
      "\n",
      "20 bottles of beer on the wall,\n",
      "20 bottles of beer.\n",
      "Take one down, pass it around,\n",
      "19 bottles of beer on the wall\n",
      "\n",
      "19 bottles of beer on the wall,\n",
      "19 bottles of beer.\n",
      "Take one down, pass it around,\n",
      "18 bottles of beer on the wall\n",
      "\n",
      "18 bottles of beer on the wall,\n",
      "18 bottles of beer.\n",
      "Take one down, pass it around,\n",
      "17 bottles of beer on the wall\n",
      "\n",
      "17 bottles of beer on the wall,\n",
      "17 bottles of beer.\n",
      "Take one down, pass it around,\n",
      "16 bottles of beer on the wall\n",
      "\n",
      "16 bottles of beer on the wall,\n",
      "16 bottles of beer.\n",
      "Take one down, pass it around,\n",
      "15 bottles of beer on the wall\n",
      "\n",
      "15 bottles of beer on the wall,\n",
      "15 bottles of beer.\n",
      "Take one down, pass it around,\n",
      "14 bottles of beer on the wall\n",
      "\n",
      "14 bottles of beer on the wall,\n",
      "14 bottles of beer.\n",
      "Take one down, pass it around,\n",
      "13 bottles of beer on the wall\n",
      "\n",
      "13 bottles of beer on the wall,\n",
      "13 bottles of beer.\n",
      "Take one down, pass it around,\n",
      "12 bottles of beer on the wall\n",
      "\n",
      "12 bottles of beer on the wall,\n",
      "12 bottles of beer.\n",
      "Take one down, pass it around,\n",
      "11 bottles of beer on the wall\n",
      "\n",
      "11 bottles of beer on the wall,\n",
      "11 bottles of beer.\n",
      "Take one down, pass it around,\n",
      "10 bottles of beer on the wall\n",
      "\n",
      "10 bottles of beer on the wall,\n",
      "10 bottles of beer.\n",
      "Take one down, pass it around,\n",
      "9 bottles of beer on the wall\n",
      "\n",
      "9 bottles of beer on the wall,\n",
      "9 bottles of beer.\n",
      "Take one down, pass it around,\n",
      "8 bottles of beer on the wall\n",
      "\n",
      "8 bottles of beer on the wall,\n",
      "8 bottles of beer.\n",
      "Take one down, pass it around,\n",
      "7 bottles of beer on the wall\n",
      "\n",
      "7 bottles of beer on the wall,\n",
      "7 bottles of beer.\n",
      "Take one down, pass it around,\n",
      "6 bottles of beer on the wall\n",
      "\n",
      "6 bottles of beer on the wall,\n",
      "6 bottles of beer.\n",
      "Take one down, pass it around,\n",
      "5 bottles of beer on the wall\n",
      "\n",
      "5 bottles of beer on the wall,\n",
      "5 bottles of beer.\n",
      "Take one down, pass it around,\n",
      "4 bottles of beer on the wall\n",
      "\n",
      "4 bottles of beer on the wall,\n",
      "4 bottles of beer.\n",
      "Take one down, pass it around,\n",
      "3 bottles of beer on the wall\n",
      "\n",
      "3 bottles of beer on the wall,\n",
      "3 bottles of beer.\n",
      "Take one down, pass it around,\n",
      "2 bottles of beer on the wall\n",
      "\n",
      "2 bottles of beer on the wall,\n",
      "2 bottles of beer.\n",
      "Take one down, pass it around,\n",
      "1 bottle of beer on the wall\n",
      "\n",
      "1 bottle of beer on the wall,\n",
      "1 bottle of beer.\n",
      "Take one down, pass it around,\n",
      "0 bottles of beer on the wall\n",
      "\n",
      "No more bottles of beer on the wall,\n",
      "no more bottles of beer.\n",
      "Go to the store and buy some more,\n",
      "99 bottles of beer on the wall.\n"
     ]
    }
   ],
   "source": [
    "# We define the parts of the song that are constant and repetitive\n",
    "second_phrase = 'bottles of beer'\n",
    "first_phrase = f'{second_phrase} on the wall' # The first phrase reuses a part of the second phrase\n",
    "third_phrase = 'Take one down, pass it around,'\n",
    "fourth_phrase = first_phrase\n",
    "\n",
    "for number in range(99, 0, -1): # change 4 to 99 when you're done with debugging\n",
    "    # We can now print the desired strings using f-strings\n",
    "    # In order to this, we only need to concatenate the strings defined above with the correct numbers and punctuation\n",
    "    first_phrase_modified = first_phrase\n",
    "    second_phrase_modified = second_phrase\n",
    "    fourth_phrase_modified = fourth_phrase\n",
    "\n",
    "    if number == 1:\n",
    "        first_phrase_modified = first_phrase_modified.replace('bottles', 'bottle')\n",
    "        second_phrase_modified = second_phrase_modified.replace('bottles', 'bottle')\n",
    "    elif number - 1 == 1:\n",
    "        fourth_phrase_modified = fourth_phrase_modified.replace('bottles', 'bottle')\n",
    "    print(f'{number} {first_phrase_modified},')\n",
    "    print(f'{number} {second_phrase_modified}.')\n",
    "    print(third_phrase)\n",
    "    print(f'{number - 1} {fourth_phrase_modified}')\n",
    "\n",
    "    # We add a new line between each verse\n",
    "    print()\n",
    "print('No more bottles of beer on the wall,')\n",
    "print('no more bottles of beer.')\n",
    "print('Go to the store and buy some more,')\n",
    "print('99 bottles of beer on the wall.')"
   ]
  },
  {
   "cell_type": "markdown",
   "metadata": {
    "pycharm": {
     "name": "#%% md\n"
    }
   },
   "source": [
    "## Exercise 2: list methods"
   ]
  },
  {
   "cell_type": "markdown",
   "metadata": {
    "pycharm": {
     "name": "#%% md\n"
    }
   },
   "source": [
    "In this exercise, we will focus on the following list methods:\n",
    "\n",
    "a.) append\n",
    "\n",
    "b.) count\n",
    "\n",
    "c.) index\n",
    "\n",
    "d.) insert\n",
    "\n",
    "e.) pop\n",
    "\n",
    "For each of the aforementioned list methods:\n",
    "\n",
    "* explain the positional parameters\n",
    "* explain the keyword parameters\n",
    "* you can exclude *self* from your explanation\n",
    "* explain what the goal of the method is and what data type it returns, e.g., string, list, set, etc.\n",
    "* give a working example. Provide also an example by providing a value for keyword parameters (assuming the method has one or more keyword parameters)."
   ]
  },
  {
   "cell_type": "markdown",
   "source": [
    "a.) list.append()"
   ],
   "metadata": {
    "collapsed": false,
    "pycharm": {
     "name": "#%% md\n"
    }
   }
  },
  {
   "cell_type": "code",
   "execution_count": 16,
   "outputs": [
    {
     "name": "stdout",
     "output_type": "stream",
     "text": [
      "Help on method_descriptor:\n",
      "\n",
      "append(self, object, /)\n",
      "    Append object to the end of the list.\n",
      "\n"
     ]
    }
   ],
   "source": [
    "help(list.append)"
   ],
   "metadata": {
    "collapsed": false,
    "pycharm": {
     "name": "#%%\n"
    }
   }
  },
  {
   "cell_type": "code",
   "execution_count": 3,
   "outputs": [
    {
     "name": "stdout",
     "output_type": "stream",
     "text": [
      "[1, 2, 3]\n",
      "[1, 2, 3, 4]\n",
      "list.append returns: None\n"
     ]
    }
   ],
   "source": [
    "# 2 a. (list.append())\n",
    "\n",
    "# Appends an item to the end of a list\n",
    "\n",
    "# Returns: None\n",
    "\n",
    "# Positional parameters:\n",
    "#  - object: the object to be added to the list (can be of any type)\n",
    "\n",
    "# Keyword parameters: none\n",
    "\n",
    "# Example:\n",
    "l = [1, 2, 3]\n",
    "print(l)\n",
    "return_val = l.append(4)\n",
    "print(l)\n",
    "print(f'list.append returns: {return_val}')"
   ],
   "metadata": {
    "collapsed": false,
    "pycharm": {
     "name": "#%%\n"
    }
   }
  },
  {
   "cell_type": "markdown",
   "source": [
    "b.) list.count()"
   ],
   "metadata": {
    "collapsed": false,
    "pycharm": {
     "name": "#%% md\n"
    }
   }
  },
  {
   "cell_type": "code",
   "execution_count": 4,
   "outputs": [
    {
     "name": "stdout",
     "output_type": "stream",
     "text": [
      "Help on method_descriptor:\n",
      "\n",
      "count(self, value, /)\n",
      "    Return number of occurrences of value.\n",
      "\n"
     ]
    }
   ],
   "source": [
    "help(list.count)"
   ],
   "metadata": {
    "collapsed": false,
    "pycharm": {
     "name": "#%%\n"
    }
   }
  },
  {
   "cell_type": "code",
   "execution_count": 5,
   "outputs": [
    {
     "data": {
      "text/plain": "2"
     },
     "execution_count": 5,
     "metadata": {},
     "output_type": "execute_result"
    }
   ],
   "source": [
    "# 2 b. (list.count())\n",
    "\n",
    "# Indicates the number of times a specified item occurs in a list\n",
    "\n",
    "# Returns: the number of times the specified item occurs in the list (int)\n",
    "\n",
    "# Positional parameters:\n",
    "#  - value: the value to count the occurrences of in the list\n",
    "\n",
    "# Keyword parameters: none\n",
    "\n",
    "# Example:\n",
    "l = [1, 2, 3, 2]\n",
    "l.count(2)"
   ],
   "metadata": {
    "collapsed": false,
    "pycharm": {
     "name": "#%%\n"
    }
   }
  },
  {
   "cell_type": "markdown",
   "source": [
    "c.) list.index()"
   ],
   "metadata": {
    "collapsed": false,
    "pycharm": {
     "name": "#%% md\n"
    }
   }
  },
  {
   "cell_type": "code",
   "execution_count": 6,
   "outputs": [
    {
     "name": "stdout",
     "output_type": "stream",
     "text": [
      "Help on method_descriptor:\n",
      "\n",
      "index(self, value, start=0, stop=9223372036854775807, /)\n",
      "    Return first index of value.\n",
      "    \n",
      "    Raises ValueError if the value is not present.\n",
      "\n"
     ]
    }
   ],
   "source": [
    "help(list.index)"
   ],
   "metadata": {
    "collapsed": false,
    "pycharm": {
     "name": "#%%\n"
    }
   }
  },
  {
   "cell_type": "code",
   "execution_count": 7,
   "outputs": [
    {
     "name": "stdout",
     "output_type": "stream",
     "text": [
      "The item 3 occurs in list l at index: 1\n",
      "The item 3 also occurs in list l at index: 4\n",
      "Searching for the element 5 in list l will fail as it doesn't exist:\n"
     ]
    },
    {
     "ename": "ValueError",
     "evalue": "5 is not in list",
     "output_type": "error",
     "traceback": [
      "\u001B[0;31m---------------------------------------------------------------------------\u001B[0m",
      "\u001B[0;31mValueError\u001B[0m                                Traceback (most recent call last)",
      "Cell \u001B[0;32mIn [7], line 20\u001B[0m\n\u001B[1;32m     18\u001B[0m \u001B[38;5;28mprint\u001B[39m(\u001B[38;5;124mf\u001B[39m\u001B[38;5;124m'\u001B[39m\u001B[38;5;124mThe item 3 also occurs in list l at index: \u001B[39m\u001B[38;5;132;01m{\u001B[39;00ml\u001B[38;5;241m.\u001B[39mindex(\u001B[38;5;241m3\u001B[39m, \u001B[38;5;241m2\u001B[39m, \u001B[38;5;241m5\u001B[39m)\u001B[38;5;132;01m}\u001B[39;00m\u001B[38;5;124m'\u001B[39m)\n\u001B[1;32m     19\u001B[0m \u001B[38;5;28mprint\u001B[39m(\u001B[38;5;124mf\u001B[39m\u001B[38;5;124m\"\u001B[39m\u001B[38;5;124mSearching for the element 5 in list l will fail as it doesn\u001B[39m\u001B[38;5;124m'\u001B[39m\u001B[38;5;124mt exist:\u001B[39m\u001B[38;5;124m\"\u001B[39m)\n\u001B[0;32m---> 20\u001B[0m \u001B[43ml\u001B[49m\u001B[38;5;241;43m.\u001B[39;49m\u001B[43mindex\u001B[49m\u001B[43m(\u001B[49m\u001B[38;5;241;43m5\u001B[39;49m\u001B[43m)\u001B[49m\n",
      "\u001B[0;31mValueError\u001B[0m: 5 is not in list"
     ]
    }
   ],
   "source": [
    "# 2 c. list.index()\n",
    "\n",
    "# Indicates the index (zero-based) of the specified item\n",
    "# If the specified item occurs in the list more than twice, the index of the first occurring item is given\n",
    "# If the item doesn't occur in the list, a ValueError will be thrown\n",
    "\n",
    "# Returns: the index of the specified item (int)\n",
    "\n",
    "# Positional parameters:\n",
    "# - value: the item to search for in the list\n",
    "\n",
    "# Keyword parameters:\n",
    "# - start: the index to start searching from to the specified value (including)\n",
    "# - stop: the index where to stop searching to the specified value (excluding)\n",
    "\n",
    "l = [1, 3, 2, 1, 3, 4]\n",
    "print(f'The item 3 occurs in list l at index: {l.index(3)}')\n",
    "print(f'The item 3 also occurs in list l at index: {l.index(3, 2, 5)}')\n",
    "print(f\"Searching for the element 5 in list l will fail as it doesn't exist:\")\n",
    "l.index(5)"
   ],
   "metadata": {
    "collapsed": false,
    "pycharm": {
     "name": "#%%\n"
    }
   }
  },
  {
   "cell_type": "code",
   "execution_count": 8,
   "outputs": [
    {
     "ename": "TypeError",
     "evalue": "list.index() takes no keyword arguments",
     "output_type": "error",
     "traceback": [
      "\u001B[0;31m---------------------------------------------------------------------------\u001B[0m",
      "\u001B[0;31mTypeError\u001B[0m                                 Traceback (most recent call last)",
      "Cell \u001B[0;32mIn [8], line 2\u001B[0m\n\u001B[1;32m      1\u001B[0m \u001B[38;5;66;03m# Also, calling list.index the following way throws a TypeError as the start and stop parameter are located to the left of the slash in the function prototype:\u001B[39;00m\n\u001B[0;32m----> 2\u001B[0m \u001B[43ml\u001B[49m\u001B[38;5;241;43m.\u001B[39;49m\u001B[43mindex\u001B[49m\u001B[43m(\u001B[49m\u001B[38;5;241;43m3\u001B[39;49m\u001B[43m,\u001B[49m\u001B[43m \u001B[49m\u001B[43mstart\u001B[49m\u001B[38;5;241;43m=\u001B[39;49m\u001B[38;5;241;43m2\u001B[39;49m\u001B[43m,\u001B[49m\u001B[43m \u001B[49m\u001B[43mstop\u001B[49m\u001B[38;5;241;43m=\u001B[39;49m\u001B[38;5;241;43m5\u001B[39;49m\u001B[43m)\u001B[49m\n",
      "\u001B[0;31mTypeError\u001B[0m: list.index() takes no keyword arguments"
     ]
    }
   ],
   "source": [
    "# Also, calling list.index the following way throws a TypeError as the start and stop parameter are located to the left of the slash in the function prototype:\n",
    "l.index(3, start=2, stop=5)"
   ],
   "metadata": {
    "collapsed": false,
    "pycharm": {
     "name": "#%%\n"
    }
   }
  },
  {
   "cell_type": "markdown",
   "source": [
    "d.) list.insert()"
   ],
   "metadata": {
    "collapsed": false,
    "pycharm": {
     "name": "#%% md\n"
    }
   }
  },
  {
   "cell_type": "code",
   "execution_count": 9,
   "outputs": [
    {
     "name": "stdout",
     "output_type": "stream",
     "text": [
      "Help on method_descriptor:\n",
      "\n",
      "insert(self, index, object, /)\n",
      "    Insert object before index.\n",
      "\n"
     ]
    }
   ],
   "source": [
    "help(list.insert)"
   ],
   "metadata": {
    "collapsed": false,
    "pycharm": {
     "name": "#%%\n"
    }
   }
  },
  {
   "cell_type": "code",
   "execution_count": 10,
   "outputs": [
    {
     "name": "stdout",
     "output_type": "stream",
     "text": [
      "[1, 2, 3]\n",
      "[1, 4, 2, 3]\n",
      "list.insert returns: None\n"
     ]
    }
   ],
   "source": [
    "# 2 d. list.insert()\n",
    "\n",
    "# Inserts an item in a list\n",
    "# Unlike list.append(), which adds an item to the end of the list, list.insert() adds an item at a specific index\n",
    "# All items that were in the list already at or after that index, are shifted one index to the right\n",
    "\n",
    "# Returns: None\n",
    "\n",
    "# Positional parameters:\n",
    "# - index: index to insert the specified item at\n",
    "# - object: value of the item to be added\n",
    "\n",
    "# Keyword parameters: none\n",
    "\n",
    "# Example:\n",
    "\n",
    "l = [1, 2, 3]\n",
    "print(l)\n",
    "return_val = l.insert(1, 4)\n",
    "print(l)\n",
    "print(f'list.insert returns: {return_val}')"
   ],
   "metadata": {
    "collapsed": false,
    "pycharm": {
     "name": "#%%\n"
    }
   }
  },
  {
   "cell_type": "markdown",
   "source": [
    "e.) list.pop()\n"
   ],
   "metadata": {
    "collapsed": false,
    "pycharm": {
     "name": "#%% md\n"
    }
   }
  },
  {
   "cell_type": "code",
   "execution_count": 11,
   "outputs": [
    {
     "name": "stdout",
     "output_type": "stream",
     "text": [
      "Help on method_descriptor:\n",
      "\n",
      "pop(self, index=-1, /)\n",
      "    Remove and return item at index (default last).\n",
      "    \n",
      "    Raises IndexError if list is empty or index is out of range.\n",
      "\n"
     ]
    }
   ],
   "source": [
    "help(list.pop)"
   ],
   "metadata": {
    "collapsed": false,
    "pycharm": {
     "name": "#%%\n"
    }
   }
  },
  {
   "cell_type": "code",
   "execution_count": 12,
   "outputs": [
    {
     "name": "stdout",
     "output_type": "stream",
     "text": [
      "[1, 2, 3]\n",
      "3\n",
      "[1, 2]\n"
     ]
    }
   ],
   "source": [
    "# 2 e. list.pop()\n",
    "\n",
    "# Gets element of a list and removes it from the list afterwards\n",
    "# The default element to get has index -1 (the last element)\n",
    "# The index of this element can be modified\n",
    "\n",
    "# Returns: the specified element\n",
    "\n",
    "# Positional parameters:\n",
    "# - index: index of the element to get and remove from the list\n",
    "\n",
    "# Keyword parameters: none\n",
    "\n",
    "l = [1, 2, 3]\n",
    "print(l)\n",
    "print(l.pop())\n",
    "print(l)"
   ],
   "metadata": {
    "collapsed": false,
    "pycharm": {
     "name": "#%%\n"
    }
   }
  },
  {
   "cell_type": "markdown",
   "metadata": {
    "pycharm": {
     "name": "#%% md\n"
    }
   },
   "source": [
    "## Exercise 3: set methods"
   ]
  },
  {
   "cell_type": "markdown",
   "metadata": {
    "pycharm": {
     "name": "#%% md\n"
    }
   },
   "source": [
    "In this exercise, we will focus on the following set methods:\n",
    "* update\n",
    "* pop\n",
    "* remove\n",
    "* clear\n",
    "\n",
    "For each of the aforementioned set methods:\n",
    "\n",
    "* explain the positional parameters\n",
    "* explain the keyword parameters\n",
    "* you can exclude *self* from your explanation\n",
    "* explain what the goal of the method is and what data type it returns, e.g., string, list, set, etc.\n",
    "* give a working example. Provide also an example by providing a value for keyword parameters (assuming the method has one or more keyword parameters)."
   ]
  },
  {
   "cell_type": "markdown",
   "metadata": {
    "pycharm": {
     "name": "#%% md\n"
    }
   },
   "source": [
    "### Please fill in your answers here: \n",
    "\n",
    "\n",
    "\n"
   ]
  },
  {
   "cell_type": "code",
   "execution_count": 13,
   "outputs": [
    {
     "name": "stdout",
     "output_type": "stream",
     "text": [
      "Help on method_descriptor:\n",
      "\n",
      "update(...)\n",
      "    Update a set with the union of itself and others.\n",
      "\n"
     ]
    }
   ],
   "source": [
    "help(set.update)"
   ],
   "metadata": {
    "collapsed": false,
    "pycharm": {
     "name": "#%%\n"
    }
   }
  },
  {
   "cell_type": "code",
   "execution_count": 14,
   "outputs": [
    {
     "name": "stdout",
     "output_type": "stream",
     "text": [
      "s1 before update: {1, 2, 3}\n",
      "s2 before update: {3, 4, 5}\n",
      "s1 after update: {1, 2, 3, 4, 5}\n",
      "s2 after update: {3, 4, 5}\n",
      "set.update() returns: None\n"
     ]
    }
   ],
   "source": [
    "# set.update():\n",
    "\n",
    "# Updates the current set to its union with the specified set(s)\n",
    "\n",
    "# Returns: None\n",
    "\n",
    "# Positional parameters:\n",
    "# - ...: one or more sets to take the union of including the set the function is called on itself\n",
    "\n",
    "# Keyword parameters: none\n",
    "\n",
    "# Example:\n",
    "s1 = {1, 2, 3}\n",
    "s2 = {3, 4, 5}\n",
    "print(f's1 before update: {s1}')\n",
    "print(f's2 before update: {s2}')\n",
    "return_val = s1.update(s2)\n",
    "print(f's1 after update: {s1}')\n",
    "print(f's2 after update: {s2}')\n",
    "print(f'set.update() returns: {return_val}')"
   ],
   "metadata": {
    "collapsed": false,
    "pycharm": {
     "name": "#%%\n"
    }
   }
  },
  {
   "cell_type": "code",
   "execution_count": 15,
   "outputs": [
    {
     "name": "stdout",
     "output_type": "stream",
     "text": [
      "Help on method_descriptor:\n",
      "\n",
      "pop(...)\n",
      "    Remove and return an arbitrary set element.\n",
      "    Raises KeyError if the set is empty.\n",
      "\n"
     ]
    }
   ],
   "source": [
    "help(set.pop)"
   ],
   "metadata": {
    "collapsed": false,
    "pycharm": {
     "name": "#%%\n"
    }
   }
  },
  {
   "cell_type": "code",
   "execution_count": 16,
   "outputs": [
    {
     "name": "stdout",
     "output_type": "stream",
     "text": [
      "0\n",
      "{1, 2, 3}\n"
     ]
    }
   ],
   "source": [
    "# set.pop():\n",
    "\n",
    "# Returns an item from the set and removes it afterwards\n",
    "# Which item is not really controllable, it depends on its hash-value relative to the hash-values of the other items in the set\n",
    "\n",
    "# Returns: the item which is being popped\n",
    "\n",
    "# Positional parameters: none\n",
    "\n",
    "# Keyword parameters: none\n",
    "\n",
    "s = {0, 1, 2, 3}\n",
    "print(s.pop())\n",
    "print(s)"
   ],
   "metadata": {
    "collapsed": false,
    "pycharm": {
     "name": "#%%\n"
    }
   }
  },
  {
   "cell_type": "code",
   "execution_count": 17,
   "outputs": [
    {
     "name": "stdout",
     "output_type": "stream",
     "text": [
      "Help on method_descriptor:\n",
      "\n",
      "remove(...)\n",
      "    Remove an element from a set; it must be a member.\n",
      "    \n",
      "    If the element is not a member, raise a KeyError.\n",
      "\n"
     ]
    }
   ],
   "source": [
    "help(set.remove)"
   ],
   "metadata": {
    "collapsed": false,
    "pycharm": {
     "name": "#%%\n"
    }
   }
  },
  {
   "cell_type": "code",
   "execution_count": 18,
   "outputs": [
    {
     "name": "stdout",
     "output_type": "stream",
     "text": [
      "{1, 2, 3}\n",
      "{1, 3}\n",
      "set.remove() returns: None\n"
     ]
    }
   ],
   "source": [
    "# set.remove():\n",
    "\n",
    "# Removes a specified (hashable) item from a set\n",
    "\n",
    "# Returns: None\n",
    "\n",
    "# Positional parameters:\n",
    "# - ...: The item to be removed\n",
    "\n",
    "# Keyword parameters: none\n",
    "\n",
    "# Example:\n",
    "s = {1, 2, 3}\n",
    "print(s)\n",
    "return_val = s.remove(2)\n",
    "print(s)\n",
    "print(f'set.remove() returns: {return_val}')"
   ],
   "metadata": {
    "collapsed": false,
    "pycharm": {
     "name": "#%%\n"
    }
   }
  },
  {
   "cell_type": "code",
   "execution_count": 19,
   "outputs": [
    {
     "name": "stdout",
     "output_type": "stream",
     "text": [
      "Help on method_descriptor:\n",
      "\n",
      "clear(...)\n",
      "    Remove all elements from this set.\n",
      "\n"
     ]
    }
   ],
   "source": [
    "help(set.clear)"
   ],
   "metadata": {
    "collapsed": false,
    "pycharm": {
     "name": "#%%\n"
    }
   }
  },
  {
   "cell_type": "code",
   "execution_count": 20,
   "outputs": [
    {
     "name": "stdout",
     "output_type": "stream",
     "text": [
      "{1, 2, 3}\n",
      "set()\n",
      "set.clear() returns: None\n"
     ]
    }
   ],
   "source": [
    "# set.clear():\n",
    "\n",
    "# Removes all items from the set\n",
    "\n",
    "# Returns: None\n",
    "\n",
    "# Positional parameters: none\n",
    "\n",
    "# Keyword parameters: none\n",
    "\n",
    "# Example:\n",
    "s = {1, 2, 3}\n",
    "print(s)\n",
    "return_val = s.clear()\n",
    "print(s)\n",
    "print(f'set.clear() returns: {return_val}')"
   ],
   "metadata": {
    "collapsed": false,
    "pycharm": {
     "name": "#%%\n"
    }
   }
  },
  {
   "cell_type": "markdown",
   "metadata": {
    "pycharm": {
     "name": "#%% md\n"
    }
   },
   "source": [
    "## Exercise 4: Analyzing vocabulary using sets\n",
    "Please consider the following two texts:"
   ]
  },
  {
   "cell_type": "markdown",
   "metadata": {
    "pycharm": {
     "name": "#%% md\n"
    }
   },
   "source": [
    "These stories were copied from [here](http://www.english-for-students.com/)."
   ]
  },
  {
   "cell_type": "code",
   "execution_count": 20,
   "metadata": {
    "pycharm": {
     "name": "#%%\n"
    }
   },
   "outputs": [
    {
     "name": "stdout",
     "output_type": "stream",
     "text": [
      "In a far away kingdom, there was a river. This river was home to many golden swans. The swans spent most of their time on the banks of the river. Every six months, the swans would leave a golden feather as a fee for using the lake. The soldiers of the kingdom would collect the feathers and deposit them in the royal treasury. \n",
      "One day, a homeless bird saw the river. \"The water in this river seems so cool and soothing. I will make my home here,\" thought the bird. \n",
      "As soon as the bird settled down near the river, the golden swans noticed her. They came shouting. \"This river belongs to us. We pay a golden feather to the King to use this river. You can not live here.\" \n",
      "\"I am homeless, brothers. I too will pay the rent. Please give me shelter,\" the bird pleaded. \"How will you pay the rent? You do not have golden feathers,\" said the swans laughing. They further added, \"Stop dreaming and leave once.\" The humble bird pleaded many times. But the arrogant swans drove the bird away. \n",
      "\"I will teach them a lesson!\" decided the humiliated bird. \n",
      "She went to the King and said, \"O King! The swans in your river are impolite and unkind. I begged for shelter but they said that they had purchased the river with golden feathers.\" \n",
      "The King was angry with the arrogant swans for having insulted the homeless bird. He ordered his soldiers to bring the arrogant swans to his court. In no time, all the golden swans were brought to the King’s court. \n",
      "\"Do you think the royal treasury depends upon your golden feathers? You can not decide who lives by the river. Leave the river at once or you all will be beheaded!\" shouted the King. \n",
      "The swans shivered with fear on hearing the King. They flew away never to return. The bird built her home near the river and lived there happily forever. The bird gave shelter to all other birds in the river. \n"
     ]
    }
   ],
   "source": [
    "a_story = \"\"\"In a far away kingdom, there was a river. This river was home to many golden swans. The swans spent most of their time on the banks of the river. Every six months, the swans would leave a golden feather as a fee for using the lake. The soldiers of the kingdom would collect the feathers and deposit them in the royal treasury. \n",
    "One day, a homeless bird saw the river. \"The water in this river seems so cool and soothing. I will make my home here,\" thought the bird. \n",
    "As soon as the bird settled down near the river, the golden swans noticed her. They came shouting. \"This river belongs to us. We pay a golden feather to the King to use this river. You can not live here.\" \n",
    "\"I am homeless, brothers. I too will pay the rent. Please give me shelter,\" the bird pleaded. \"How will you pay the rent? You do not have golden feathers,\" said the swans laughing. They further added, \"Stop dreaming and leave once.\" The humble bird pleaded many times. But the arrogant swans drove the bird away. \n",
    "\"I will teach them a lesson!\" decided the humiliated bird. \n",
    "She went to the King and said, \"O King! The swans in your river are impolite and unkind. I begged for shelter but they said that they had purchased the river with golden feathers.\" \n",
    "The King was angry with the arrogant swans for having insulted the homeless bird. He ordered his soldiers to bring the arrogant swans to his court. In no time, all the golden swans were brought to the King’s court. \n",
    "\"Do you think the royal treasury depends upon your golden feathers? You can not decide who lives by the river. Leave the river at once or you all will be beheaded!\" shouted the King. \n",
    "The swans shivered with fear on hearing the King. They flew away never to return. The bird built her home near the river and lived there happily forever. The bird gave shelter to all other birds in the river. \"\"\"\n",
    "print(a_story)"
   ]
  },
  {
   "cell_type": "code",
   "execution_count": 21,
   "metadata": {
    "pycharm": {
     "name": "#%%\n"
    }
   },
   "outputs": [
    {
     "name": "stdout",
     "output_type": "stream",
     "text": [
      "Long time ago, there lived a King. He was lazy and liked all the comforts of life. He never carried out his duties as a King. \"Our King does not take care of our needs. He also ignores the affairs of his kingdom.\" The people complained. \n",
      "One day, the King went into the forest to hunt. After having wandered for quite sometime, he became thirsty. To his relief, he spotted a lake. As he was drinking water, he suddenly saw a golden swan come out of the lake and perch on a stone. \"Oh! A golden swan. I must capture it,\" thought the King. \n",
      "But as soon as he held his bow up, the swan disappeared. And the King heard a voice, \"I am the Golden Swan. If you want to capture me, you must come to heaven.\" \n",
      "Surprised, the King said, \"Please show me the way to heaven.\" Do good deeds, serve your people and the messenger from heaven would come to fetch you to heaven,\" replied the voice. \n",
      "The selfish King, eager to capture the Swan, tried doing some good deeds in his Kingdom. \"Now, I suppose a messenger will come to take me to heaven,\" he thought. But, no messenger came. \n",
      "The King then disguised himself and went out into the street. There he tried helping an old man. But the old man became angry and said, \"You need not try to help. I am in this miserable state because of out selfish King. He has done nothing for his people.\" \n",
      "Suddenly, the King heard the golden swan’s voice, \"Do good deeds and you will come to heaven.\" It dawned on the King that by doing selfish acts, he will not go to heaven. \n",
      "He realized that his people needed him and carrying out his duties was the only way to heaven. After that day he became a responsible King. \n",
      "\n"
     ]
    }
   ],
   "source": [
    "another_story = \"\"\"Long time ago, there lived a King. He was lazy and liked all the comforts of life. He never carried out his duties as a King. \"Our King does not take care of our needs. He also ignores the affairs of his kingdom.\" The people complained. \n",
    "One day, the King went into the forest to hunt. After having wandered for quite sometime, he became thirsty. To his relief, he spotted a lake. As he was drinking water, he suddenly saw a golden swan come out of the lake and perch on a stone. \"Oh! A golden swan. I must capture it,\" thought the King. \n",
    "But as soon as he held his bow up, the swan disappeared. And the King heard a voice, \"I am the Golden Swan. If you want to capture me, you must come to heaven.\" \n",
    "Surprised, the King said, \"Please show me the way to heaven.\" Do good deeds, serve your people and the messenger from heaven would come to fetch you to heaven,\" replied the voice. \n",
    "The selfish King, eager to capture the Swan, tried doing some good deeds in his Kingdom. \"Now, I suppose a messenger will come to take me to heaven,\" he thought. But, no messenger came. \n",
    "The King then disguised himself and went out into the street. There he tried helping an old man. But the old man became angry and said, \"You need not try to help. I am in this miserable state because of out selfish King. He has done nothing for his people.\" \n",
    "Suddenly, the King heard the golden swan’s voice, \"Do good deeds and you will come to heaven.\" It dawned on the King that by doing selfish acts, he will not go to heaven. \n",
    "He realized that his people needed him and carrying out his duties was the only way to heaven. After that day he became a responsible King. \n",
    "\"\"\"\n",
    "print(another_story)"
   ]
  },
  {
   "cell_type": "markdown",
   "metadata": {
    "pycharm": {
     "name": "#%% md\n"
    }
   },
   "source": [
    "### Exercise 4a: preprocessing text\n",
    "Before analyzing the two texts, we are first going to preprocess them. \n",
    "Please use a particular string method multiple times to replace the following characters by empty strings in both **a_story** and **another_story**:\n",
    "* newlines: '\\n'\n",
    "* commas: ','\n",
    "* dots: '.'\n",
    "* quotes: '\"'\n",
    "\n",
    "\n",
    "Please assign the processed texts to the variables **cleaned_story** and **cleaned_another_story**."
   ]
  },
  {
   "cell_type": "code",
   "execution_count": 22,
   "metadata": {
    "pycharm": {
     "name": "#%%\n"
    }
   },
   "outputs": [
    {
     "name": "stdout",
     "output_type": "stream",
     "text": [
      "In a far away kingdom there was a river This river was home to many golden swans The swans spent most of their time on the banks of the river Every six months the swans would leave a golden feather as a fee for using the lake The soldiers of the kingdom would collect the feathers and deposit them in the royal treasury One day a homeless bird saw the river The water in this river seems so cool and soothing I will make my home here thought the bird As soon as the bird settled down near the river the golden swans noticed her They came shouting This river belongs to us We pay a golden feather to the King to use this river You can not live here I am homeless brothers I too will pay the rent Please give me shelter the bird pleaded How will you pay the rent? You do not have golden feathers said the swans laughing They further added Stop dreaming and leave once The humble bird pleaded many times But the arrogant swans drove the bird away I will teach them a lesson! decided the humiliated bird She went to the King and said O King! The swans in your river are impolite and unkind I begged for shelter but they said that they had purchased the river with golden feathers The King was angry with the arrogant swans for having insulted the homeless bird He ordered his soldiers to bring the arrogant swans to his court In no time all the golden swans were brought to the King’s court Do you think the royal treasury depends upon your golden feathers? You can not decide who lives by the river Leave the river at once or you all will be beheaded! shouted the King The swans shivered with fear on hearing the King They flew away never to return The bird built her home near the river and lived there happily forever The bird gave shelter to all other birds in the river \n",
      "\n",
      "Long time ago there lived a King He was lazy and liked all the comforts of life He never carried out his duties as a King Our King does not take care of our needs He also ignores the affairs of his kingdom The people complained One day the King went into the forest to hunt After having wandered for quite sometime he became thirsty To his relief he spotted a lake As he was drinking water he suddenly saw a golden swan come out of the lake and perch on a stone Oh! A golden swan I must capture it thought the King But as soon as he held his bow up the swan disappeared And the King heard a voice I am the Golden Swan If you want to capture me you must come to heaven Surprised the King said Please show me the way to heaven Do good deeds serve your people and the messenger from heaven would come to fetch you to heaven replied the voice The selfish King eager to capture the Swan tried doing some good deeds in his Kingdom Now I suppose a messenger will come to take me to heaven he thought But no messenger came The King then disguised himself and went out into the street There he tried helping an old man But the old man became angry and said You need not try to help I am in this miserable state because of out selfish King He has done nothing for his people Suddenly the King heard the golden swan’s voice Do good deeds and you will come to heaven It dawned on the King that by doing selfish acts he will not go to heaven He realized that his people needed him and carrying out his duties was the only way to heaven After that day he became a responsible King \n"
     ]
    }
   ],
   "source": [
    "cleaned_story = a_story.replace('\\n', '')\n",
    "cleaned_story = cleaned_story.replace(',', '')\n",
    "cleaned_story = cleaned_story.replace('.', '')\n",
    "cleaned_story = cleaned_story.replace('\"', '')\n",
    "print(cleaned_story)\n",
    "print()\n",
    "\n",
    "cleaned_another_story = another_story.replace('\\n', '')\n",
    "cleaned_another_story = cleaned_another_story.replace(',', '')\n",
    "cleaned_another_story = cleaned_another_story.replace('.', '')\n",
    "cleaned_another_story = cleaned_another_story.replace('\"', '')\n",
    "print(cleaned_another_story)"
   ]
  },
  {
   "cell_type": "markdown",
   "metadata": {
    "pycharm": {
     "name": "#%% md\n"
    }
   },
   "source": [
    "\n",
    "\n",
    "#### Exercise 4b: from text to a list\n",
    "For each text (**cleaned_story** and **cleaned_another_story**), please use a string method to convert **cleaned_story** and **cleaned_another_story** into lists by splitting using spaces. Please call the lists **list_cleaned_story** and **list_cleaned_another_story**."
   ]
  },
  {
   "cell_type": "code",
   "execution_count": 23,
   "metadata": {
    "pycharm": {
     "name": "#%%\n"
    }
   },
   "outputs": [
    {
     "name": "stdout",
     "output_type": "stream",
     "text": [
      "['In', 'a', 'far', 'away', 'kingdom', 'there', 'was', 'a', 'river', 'This', 'river', 'was', 'home', 'to', 'many', 'golden', 'swans', 'The', 'swans', 'spent', 'most', 'of', 'their', 'time', 'on', 'the', 'banks', 'of', 'the', 'river', 'Every', 'six', 'months', 'the', 'swans', 'would', 'leave', 'a', 'golden', 'feather', 'as', 'a', 'fee', 'for', 'using', 'the', 'lake', 'The', 'soldiers', 'of', 'the', 'kingdom', 'would', 'collect', 'the', 'feathers', 'and', 'deposit', 'them', 'in', 'the', 'royal', 'treasury', 'One', 'day', 'a', 'homeless', 'bird', 'saw', 'the', 'river', 'The', 'water', 'in', 'this', 'river', 'seems', 'so', 'cool', 'and', 'soothing', 'I', 'will', 'make', 'my', 'home', 'here', 'thought', 'the', 'bird', 'As', 'soon', 'as', 'the', 'bird', 'settled', 'down', 'near', 'the', 'river', 'the', 'golden', 'swans', 'noticed', 'her', 'They', 'came', 'shouting', 'This', 'river', 'belongs', 'to', 'us', 'We', 'pay', 'a', 'golden', 'feather', 'to', 'the', 'King', 'to', 'use', 'this', 'river', 'You', 'can', 'not', 'live', 'here', 'I', 'am', 'homeless', 'brothers', 'I', 'too', 'will', 'pay', 'the', 'rent', 'Please', 'give', 'me', 'shelter', 'the', 'bird', 'pleaded', 'How', 'will', 'you', 'pay', 'the', 'rent?', 'You', 'do', 'not', 'have', 'golden', 'feathers', 'said', 'the', 'swans', 'laughing', 'They', 'further', 'added', 'Stop', 'dreaming', 'and', 'leave', 'once', 'The', 'humble', 'bird', 'pleaded', 'many', 'times', 'But', 'the', 'arrogant', 'swans', 'drove', 'the', 'bird', 'away', 'I', 'will', 'teach', 'them', 'a', 'lesson!', 'decided', 'the', 'humiliated', 'bird', 'She', 'went', 'to', 'the', 'King', 'and', 'said', 'O', 'King!', 'The', 'swans', 'in', 'your', 'river', 'are', 'impolite', 'and', 'unkind', 'I', 'begged', 'for', 'shelter', 'but', 'they', 'said', 'that', 'they', 'had', 'purchased', 'the', 'river', 'with', 'golden', 'feathers', 'The', 'King', 'was', 'angry', 'with', 'the', 'arrogant', 'swans', 'for', 'having', 'insulted', 'the', 'homeless', 'bird', 'He', 'ordered', 'his', 'soldiers', 'to', 'bring', 'the', 'arrogant', 'swans', 'to', 'his', 'court', 'In', 'no', 'time', 'all', 'the', 'golden', 'swans', 'were', 'brought', 'to', 'the', 'King’s', 'court', 'Do', 'you', 'think', 'the', 'royal', 'treasury', 'depends', 'upon', 'your', 'golden', 'feathers?', 'You', 'can', 'not', 'decide', 'who', 'lives', 'by', 'the', 'river', 'Leave', 'the', 'river', 'at', 'once', 'or', 'you', 'all', 'will', 'be', 'beheaded!', 'shouted', 'the', 'King', 'The', 'swans', 'shivered', 'with', 'fear', 'on', 'hearing', 'the', 'King', 'They', 'flew', 'away', 'never', 'to', 'return', 'The', 'bird', 'built', 'her', 'home', 'near', 'the', 'river', 'and', 'lived', 'there', 'happily', 'forever', 'The', 'bird', 'gave', 'shelter', 'to', 'all', 'other', 'birds', 'in', 'the', 'river', '']\n",
      "\n",
      "['Long', 'time', 'ago', 'there', 'lived', 'a', 'King', 'He', 'was', 'lazy', 'and', 'liked', 'all', 'the', 'comforts', 'of', 'life', 'He', 'never', 'carried', 'out', 'his', 'duties', 'as', 'a', 'King', 'Our', 'King', 'does', 'not', 'take', 'care', 'of', 'our', 'needs', 'He', 'also', 'ignores', 'the', 'affairs', 'of', 'his', 'kingdom', 'The', 'people', 'complained', 'One', 'day', 'the', 'King', 'went', 'into', 'the', 'forest', 'to', 'hunt', 'After', 'having', 'wandered', 'for', 'quite', 'sometime', 'he', 'became', 'thirsty', 'To', 'his', 'relief', 'he', 'spotted', 'a', 'lake', 'As', 'he', 'was', 'drinking', 'water', 'he', 'suddenly', 'saw', 'a', 'golden', 'swan', 'come', 'out', 'of', 'the', 'lake', 'and', 'perch', 'on', 'a', 'stone', 'Oh!', 'A', 'golden', 'swan', 'I', 'must', 'capture', 'it', 'thought', 'the', 'King', 'But', 'as', 'soon', 'as', 'he', 'held', 'his', 'bow', 'up', 'the', 'swan', 'disappeared', 'And', 'the', 'King', 'heard', 'a', 'voice', 'I', 'am', 'the', 'Golden', 'Swan', 'If', 'you', 'want', 'to', 'capture', 'me', 'you', 'must', 'come', 'to', 'heaven', 'Surprised', 'the', 'King', 'said', 'Please', 'show', 'me', 'the', 'way', 'to', 'heaven', 'Do', 'good', 'deeds', 'serve', 'your', 'people', 'and', 'the', 'messenger', 'from', 'heaven', 'would', 'come', 'to', 'fetch', 'you', 'to', 'heaven', 'replied', 'the', 'voice', 'The', 'selfish', 'King', 'eager', 'to', 'capture', 'the', 'Swan', 'tried', 'doing', 'some', 'good', 'deeds', 'in', 'his', 'Kingdom', 'Now', 'I', 'suppose', 'a', 'messenger', 'will', 'come', 'to', 'take', 'me', 'to', 'heaven', 'he', 'thought', 'But', 'no', 'messenger', 'came', 'The', 'King', 'then', 'disguised', 'himself', 'and', 'went', 'out', 'into', 'the', 'street', 'There', 'he', 'tried', 'helping', 'an', 'old', 'man', 'But', 'the', 'old', 'man', 'became', 'angry', 'and', 'said', 'You', 'need', 'not', 'try', 'to', 'help', 'I', 'am', 'in', 'this', 'miserable', 'state', 'because', 'of', 'out', 'selfish', 'King', 'He', 'has', 'done', 'nothing', 'for', 'his', 'people', 'Suddenly', 'the', 'King', 'heard', 'the', 'golden', 'swan’s', 'voice', 'Do', 'good', 'deeds', 'and', 'you', 'will', 'come', 'to', 'heaven', 'It', 'dawned', 'on', 'the', 'King', 'that', 'by', 'doing', 'selfish', 'acts', 'he', 'will', 'not', 'go', 'to', 'heaven', 'He', 'realized', 'that', 'his', 'people', 'needed', 'him', 'and', 'carrying', 'out', 'his', 'duties', 'was', 'the', 'only', 'way', 'to', 'heaven', 'After', 'that', 'day', 'he', 'became', 'a', 'responsible', 'King', '']\n"
     ]
    }
   ],
   "source": [
    "list_cleaned_story = cleaned_story.split(' ')\n",
    "print(list_cleaned_story)\n",
    "print()\n",
    "\n",
    "list_cleaned_another_story = cleaned_another_story.split(' ')\n",
    "print(list_cleaned_another_story)"
   ]
  },
  {
   "cell_type": "markdown",
   "metadata": {
    "pycharm": {
     "name": "#%% md\n"
    }
   },
   "source": [
    "#### Exercise 4c: from a list to a vocabulary (a set)\n",
    "Please create a set for the words in each text by adding each word to a set. In the end, you should have two variables **vocab_a_story** and **vocab_another_story**, each containing the unique words in each story. Please use the output of Exercise 4b as the input for this exercise."
   ]
  },
  {
   "cell_type": "code",
   "execution_count": 25,
   "metadata": {
    "pycharm": {
     "name": "#%%\n"
    }
   },
   "outputs": [
    {
     "data": {
      "text/plain": "{'',\n 'As',\n 'But',\n 'Do',\n 'Every',\n 'He',\n 'How',\n 'I',\n 'In',\n 'King',\n 'King!',\n 'King’s',\n 'Leave',\n 'O',\n 'One',\n 'Please',\n 'She',\n 'Stop',\n 'The',\n 'They',\n 'This',\n 'We',\n 'You',\n 'a',\n 'added',\n 'all',\n 'am',\n 'and',\n 'angry',\n 'are',\n 'arrogant',\n 'as',\n 'at',\n 'away',\n 'banks',\n 'be',\n 'begged',\n 'beheaded!',\n 'belongs',\n 'bird',\n 'birds',\n 'bring',\n 'brothers',\n 'brought',\n 'built',\n 'but',\n 'by',\n 'came',\n 'can',\n 'collect',\n 'cool',\n 'court',\n 'day',\n 'decide',\n 'decided',\n 'depends',\n 'deposit',\n 'do',\n 'down',\n 'dreaming',\n 'drove',\n 'far',\n 'fear',\n 'feather',\n 'feathers',\n 'feathers?',\n 'fee',\n 'flew',\n 'for',\n 'forever',\n 'further',\n 'gave',\n 'give',\n 'golden',\n 'had',\n 'happily',\n 'have',\n 'having',\n 'hearing',\n 'her',\n 'here',\n 'his',\n 'home',\n 'homeless',\n 'humble',\n 'humiliated',\n 'impolite',\n 'in',\n 'insulted',\n 'kingdom',\n 'lake',\n 'laughing',\n 'leave',\n 'lesson!',\n 'live',\n 'lived',\n 'lives',\n 'make',\n 'many',\n 'me',\n 'months',\n 'most',\n 'my',\n 'near',\n 'never',\n 'no',\n 'not',\n 'noticed',\n 'of',\n 'on',\n 'once',\n 'or',\n 'ordered',\n 'other',\n 'pay',\n 'pleaded',\n 'purchased',\n 'rent',\n 'rent?',\n 'return',\n 'river',\n 'royal',\n 'said',\n 'saw',\n 'seems',\n 'settled',\n 'shelter',\n 'shivered',\n 'shouted',\n 'shouting',\n 'six',\n 'so',\n 'soldiers',\n 'soon',\n 'soothing',\n 'spent',\n 'swans',\n 'teach',\n 'that',\n 'the',\n 'their',\n 'them',\n 'there',\n 'they',\n 'think',\n 'this',\n 'thought',\n 'time',\n 'times',\n 'to',\n 'too',\n 'treasury',\n 'unkind',\n 'upon',\n 'us',\n 'use',\n 'using',\n 'was',\n 'water',\n 'went',\n 'were',\n 'who',\n 'will',\n 'with',\n 'would',\n 'you',\n 'your'}"
     },
     "execution_count": 25,
     "metadata": {},
     "output_type": "execute_result"
    }
   ],
   "source": [
    "vocab_a_story = set()\n",
    "for word in list_cleaned_story:\n",
    "    vocab_a_story.add(word)\n",
    "vocab_a_story"
   ]
  },
  {
   "cell_type": "markdown",
   "metadata": {
    "pycharm": {
     "name": "#%% md\n"
    }
   },
   "source": [
    "do the same for the other text"
   ]
  },
  {
   "cell_type": "code",
   "execution_count": 26,
   "metadata": {
    "pycharm": {
     "name": "#%%\n"
    }
   },
   "outputs": [
    {
     "data": {
      "text/plain": "{'',\n 'A',\n 'After',\n 'And',\n 'As',\n 'But',\n 'Do',\n 'Golden',\n 'He',\n 'I',\n 'If',\n 'It',\n 'King',\n 'Kingdom',\n 'Long',\n 'Now',\n 'Oh!',\n 'One',\n 'Our',\n 'Please',\n 'Suddenly',\n 'Surprised',\n 'Swan',\n 'The',\n 'There',\n 'To',\n 'You',\n 'a',\n 'acts',\n 'affairs',\n 'ago',\n 'all',\n 'also',\n 'am',\n 'an',\n 'and',\n 'angry',\n 'as',\n 'became',\n 'because',\n 'bow',\n 'by',\n 'came',\n 'capture',\n 'care',\n 'carried',\n 'carrying',\n 'come',\n 'comforts',\n 'complained',\n 'dawned',\n 'day',\n 'deeds',\n 'disappeared',\n 'disguised',\n 'does',\n 'doing',\n 'done',\n 'drinking',\n 'duties',\n 'eager',\n 'fetch',\n 'for',\n 'forest',\n 'from',\n 'go',\n 'golden',\n 'good',\n 'has',\n 'having',\n 'he',\n 'heard',\n 'heaven',\n 'held',\n 'help',\n 'helping',\n 'him',\n 'himself',\n 'his',\n 'hunt',\n 'ignores',\n 'in',\n 'into',\n 'it',\n 'kingdom',\n 'lake',\n 'lazy',\n 'life',\n 'liked',\n 'lived',\n 'man',\n 'me',\n 'messenger',\n 'miserable',\n 'must',\n 'need',\n 'needed',\n 'needs',\n 'never',\n 'no',\n 'not',\n 'nothing',\n 'of',\n 'old',\n 'on',\n 'only',\n 'our',\n 'out',\n 'people',\n 'perch',\n 'quite',\n 'realized',\n 'relief',\n 'replied',\n 'responsible',\n 'said',\n 'saw',\n 'selfish',\n 'serve',\n 'show',\n 'some',\n 'sometime',\n 'soon',\n 'spotted',\n 'state',\n 'stone',\n 'street',\n 'suddenly',\n 'suppose',\n 'swan',\n 'swan’s',\n 'take',\n 'that',\n 'the',\n 'then',\n 'there',\n 'thirsty',\n 'this',\n 'thought',\n 'time',\n 'to',\n 'tried',\n 'try',\n 'up',\n 'voice',\n 'wandered',\n 'want',\n 'was',\n 'water',\n 'way',\n 'went',\n 'will',\n 'would',\n 'you',\n 'your'}"
     },
     "execution_count": 26,
     "metadata": {},
     "output_type": "execute_result"
    }
   ],
   "source": [
    "vocab_another_story = set()\n",
    "for word in list_cleaned_another_story:\n",
    "    vocab_another_story.add(word)\n",
    "vocab_another_story"
   ]
  },
  {
   "cell_type": "markdown",
   "metadata": {
    "pycharm": {
     "name": "#%% md\n"
    }
   },
   "source": [
    "### Exercise 4d: analyzing vocabularies\n",
    "Please analyze the vocabularies by using set methods to determine:\n",
    "* which words occur in both texts\n",
    "* which words only occur in **a_story**\n",
    "* which words only occur in **another_story**"
   ]
  },
  {
   "cell_type": "code",
   "execution_count": 27,
   "metadata": {
    "pycharm": {
     "name": "#%%\n"
    }
   },
   "outputs": [
    {
     "name": "stdout",
     "output_type": "stream",
     "text": [
      "Words occurring in both texts: {'', 'said', 'there', 'on', 'soon', 'that', 'lake', 'a', 'never', 'thought', 'this', 'all', 'The', 'As', 'saw', 'of', 'You', 'having', 'am', 'me', 'went', 'King', 'would', 'the', 'He', 'kingdom', 'Do', 'lived', 'came', 'you', 'One', 'will', 'Please', 'angry', 'to', 'as', 'your', 'his', 'day', 'water', 'in', 'for', 'golden', 'I', 'and', 'by', 'not', 'But', 'time', 'no', 'was'}\n",
      "\n",
      "Words only occurring in a_story: {'King!', 'too', 'homeless', 'who', 'spent', 'times', 'humble', 'lesson!', 'shouting', 'royal', 'they', 'Every', 'rent?', 'be', 'dreaming', 'return', 'In', 'pay', 'beheaded!', 'many', 'rent', 'purchased', 'settled', 'added', 'have', 'treasury', 'most', 'bring', 'shelter', 'down', 'at', 'They', 'gave', 'use', 'teach', 'ordered', 'near', 'We', 'cool', 'happily', 'do', 'with', 'were', 'insulted', 'birds', 'us', 'other', 'O', 'decided', 'shivered', 'here', 'hearing', 'begged', 'fee', 'had', 'drove', 'once', 'built', 'feather', 'bird', 'live', 'brothers', 'their', 'humiliated', 'fear', 'King’s', 'using', 'lives', 'far', 'can', 'further', 'depends', 'pleaded', 'are', 'swans', 'impolite', 'her', 'court', 'so', 'banks', 'How', 'Stop', 'collect', 'laughing', 'decide', 'seems', 'months', 'river', 'six', 'shouted', 'unkind', 'leave', 'away', 'feathers', 'or', 'but', 'feathers?', 'arrogant', 'This', 'flew', 'home', 'noticed', 'deposit', 'soldiers', 'brought', 'give', 'soothing', 'belongs', 'Leave', 'forever', 'She', 'make', 'think', 'my', 'them', 'upon'}\n",
      "\n",
      "Words only occurring in another_story: {'forest', 'help', 'became', 'Our', 'Long', 'duties', 'Swan', 'has', 'affairs', 'show', 'replied', 'street', 'from', 'messenger', 'come', 'bow', 'it', 'him', 'relief', 'he', 'disguised', 'dawned', 'want', 'go', 'helping', 'an', 'There', 'lazy', 'only', 'perch', 'eager', 'doing', 'realized', 'need', 'life', 'carried', 'disappeared', 'drinking', 'take', 'complained', 'To', 'up', 'then', 'out', 'deeds', 'people', 'spotted', 'selfish', 'tried', 'liked', 'heard', 'A', 'stone', 'suddenly', 'carrying', 'Oh!', 'state', 'heaven', 'swan', 'miserable', 'fetch', 'ago', 'capture', 'sometime', 'It', 'And', 'suppose', 'man', 'comforts', 'ignores', 'After', 'If', 'also', 'because', 'care', 'our', 'some', 'held', 'thirsty', 'responsible', 'wandered', 'voice', 'into', 'nothing', 'way', 'himself', 'acts', 'swan’s', 'Golden', 'serve', 'does', 'Now', 'quite', 'old', 'Kingdom', 'good', 'Surprised', 'hunt', 'Suddenly', 'needs', 'try', 'done', 'needed', 'must'}\n"
     ]
    }
   ],
   "source": [
    "# The intersection function can be used to find the words that occur in both texts\n",
    "vocabs_intersection = vocab_a_story.intersection(vocab_another_story)\n",
    "print(f'Words occurring in both texts: {vocabs_intersection}')\n",
    "print()\n",
    "\n",
    "# The difference function can be used to find the words that occur in vocab_a_story and not in vocab_another_story\n",
    "vocab_a_story_only = vocab_a_story.difference(vocab_another_story)\n",
    "print(f'Words only occurring in a_story: {vocab_a_story_only}')\n",
    "print()\n",
    "\n",
    "# The difference function can be used to find the words that occur in vocab_another_story and not in vocab_a_story\n",
    "vocab_another_story_only = vocab_another_story.difference(vocab_a_story)\n",
    "print(f'Words only occurring in another_story: {vocab_another_story_only}')"
   ]
  },
  {
   "cell_type": "markdown",
   "metadata": {
    "pycharm": {
     "name": "#%% md\n"
    }
   },
   "source": [
    "## Exercise 5: counting\n",
    "Below you find a list called **words**, which is a list of strings. \n",
    "\n",
    "a.) Please create a dictionary in which the **key** is the word, and the **value** is the frequency of the word. \n",
    "\n",
    "\n",
    "Exclude all words which meet at least one of the following requirements:\n",
    "\n",
    " * end with the letter e\n",
    " * start with the letter t\n",
    " * start with the letter c and end with the letter w (both conditions must be met)\n",
    " * have six or more letters\n",
    "\n",
    "You are not allowed to use the **collections** module to do this."
   ]
  },
  {
   "cell_type": "code",
   "execution_count": 28,
   "metadata": {
    "pycharm": {
     "name": "#%%\n"
    }
   },
   "outputs": [],
   "source": [
    "words = ['there',\n",
    " 'was',\n",
    " 'a',\n",
    " 'village',\n",
    " 'near',\n",
    " 'a',\n",
    " 'jungle',\n",
    " 'the',\n",
    " 'village',\n",
    " 'cows',\n",
    " 'used',\n",
    " 'to',\n",
    " 'go',\n",
    " 'up',\n",
    " 'to',\n",
    " 'the',\n",
    " 'jungle',\n",
    " 'in',\n",
    " 'search',\n",
    " 'of',\n",
    " 'food.',\n",
    " 'in',\n",
    " 'the',\n",
    " 'forest',\n",
    " 'there',\n",
    " 'lived',\n",
    " 'a',\n",
    " 'wicked',\n",
    " 'lion',\n",
    " 'he',\n",
    " 'used',\n",
    " 'to',\n",
    " 'kill',\n",
    " 'a',\n",
    " 'cow',\n",
    " 'now',\n",
    " 'and',\n",
    " 'then',\n",
    " 'and',\n",
    " 'eat',\n",
    " 'her',\n",
    " 'this',\n",
    " 'was',\n",
    " 'happening',\n",
    " 'for',\n",
    " 'quite',\n",
    " 'sometime',\n",
    " 'the',\n",
    " 'cows',\n",
    " 'were',\n",
    " 'frightened',\n",
    " 'one',\n",
    " 'day',\n",
    " 'all',\n",
    " 'the',\n",
    " 'cows',\n",
    " 'held',\n",
    " 'a',\n",
    " 'meeting',\n",
    " 'an',\n",
    " 'old',\n",
    " 'cow',\n",
    " 'said',\n",
    " 'listen',\n",
    " 'everybody',\n",
    " 'the',\n",
    " 'lion',\n",
    " 'eats',\n",
    " 'one',\n",
    " 'of',\n",
    " 'us',\n",
    " 'only',\n",
    " 'because',\n",
    " 'we',\n",
    " 'go',\n",
    " 'into',\n",
    " 'the',\n",
    " 'jungle',\n",
    " 'separately',\n",
    " 'from',\n",
    " 'now',\n",
    " 'on',\n",
    " 'we',\n",
    " 'will',\n",
    " 'all',\n",
    " 'be',\n",
    " 'together',\n",
    " 'from',\n",
    " 'then',\n",
    " 'on',\n",
    " 'all',\n",
    " 'the',\n",
    " 'cows',\n",
    " 'went',\n",
    " 'into',\n",
    " 'the',\n",
    " 'jungle',\n",
    " 'in',\n",
    " 'a',\n",
    " 'herd',\n",
    " 'when',\n",
    " 'they',\n",
    " 'heard',\n",
    " 'or',\n",
    " 'saw',\n",
    " 'the',\n",
    " 'lion',\n",
    " 'all',\n",
    " 'of',\n",
    " 'them',\n",
    " 'unitedly',\n",
    " 'moo',\n",
    " 'and',\n",
    " 'chased',\n",
    " 'him',\n",
    " 'away',\n",
    " 'moral',\n",
    " 'divided',\n",
    " 'we',\n",
    " 'fall',\n",
    " 'united',\n",
    " 'we',\n",
    " 'stand']"
   ]
  },
  {
   "cell_type": "code",
   "execution_count": 29,
   "outputs": [
    {
     "data": {
      "text/plain": "{'was': 2,\n 'a': 6,\n 'near': 1,\n 'cows': 4,\n 'used': 2,\n 'go': 2,\n 'up': 1,\n 'in': 3,\n 'of': 3,\n 'food.': 1,\n 'lived': 1,\n 'lion': 3,\n 'kill': 1,\n 'now': 2,\n 'and': 3,\n 'eat': 1,\n 'her': 1,\n 'for': 1,\n 'day': 1,\n 'all': 4,\n 'held': 1,\n 'an': 1,\n 'old': 1,\n 'said': 1,\n 'eats': 1,\n 'us': 1,\n 'only': 1,\n 'into': 2,\n 'from': 2,\n 'on': 2,\n 'will': 1,\n 'went': 1,\n 'herd': 1,\n 'when': 1,\n 'heard': 1,\n 'or': 1,\n 'saw': 1,\n 'moo': 1,\n 'him': 1,\n 'away': 1,\n 'moral': 1,\n 'fall': 1,\n 'stand': 1}"
     },
     "execution_count": 29,
     "metadata": {},
     "output_type": "execute_result"
    }
   ],
   "source": [
    "word_counting_dict = dict()\n",
    "\n",
    "for word in words:\n",
    "    # First we check whether the word needs to be excluded from the dictionary:\n",
    "    if word.endswith('e'):\n",
    "        continue\n",
    "    if word.startswith('t'):\n",
    "        continue\n",
    "    if word.startswith('c') and word.endswith('w'):\n",
    "        continue\n",
    "    if len(word) >= 6:\n",
    "        continue\n",
    "\n",
    "    # Now we check if the word is already in the dictionary:\n",
    "    if word in word_counting_dict.keys():\n",
    "        word_counting_dict[word] += 1 # It's already in there, increment the no. occurrences by 1\n",
    "    else:\n",
    "        word_counting_dict[word] = 1 # First time we see this word, add it to the dictionary and set its initial value to 1\n",
    "word_counting_dict"
   ],
   "metadata": {
    "collapsed": false,
    "pycharm": {
     "name": "#%%\n"
    }
   }
  },
  {
   "cell_type": "markdown",
   "metadata": {
    "pycharm": {
     "name": "#%% md\n"
    }
   },
   "source": [
    "b.) Analyze your dicitionary by printing:\n",
    "* how many keys it has \n",
    "* what the highest word frequency is\n",
    "* the sum of all values."
   ]
  },
  {
   "cell_type": "code",
   "execution_count": 30,
   "metadata": {
    "pycharm": {
     "name": "#%%\n"
    }
   },
   "outputs": [
    {
     "name": "stdout",
     "output_type": "stream",
     "text": [
      "No. keys: 43\n",
      "The highest word frequency is 6 and belongs to the word 'a'\n",
      "The sum of all frequency values is: 69\n"
     ]
    }
   ],
   "source": [
    "key_count = len(word_counting_dict.keys()) # len() can be applied to the keys of the dictionary to get the no. keys\n",
    "highest_word_freq = ('', 0) # We are going to store the most occurring word and its frequency to the tuple respectively\n",
    "value_sum = 0 # We use this variable to store the sum of the values in step-by-step\n",
    "\n",
    "for word, freq in word_counting_dict.items():\n",
    "    if freq > highest_word_freq[1]: # Check if the current frequency is higher than the one already stored\n",
    "        highest_word_freq = (word, freq) # If so, store the tuple (word, frequency) in highest_word_freq\n",
    "    # Increment value_sum by the frequency we're currently iterating over\n",
    "    value_sum += freq\n",
    "\n",
    "print(f'No. keys: {key_count}')\n",
    "print(f\"The highest word frequency is {highest_word_freq[1]} and belongs to the word '{highest_word_freq[0]}'\")\n",
    "print(f'The sum of all frequency values is: {value_sum}')"
   ]
  },
  {
   "cell_type": "markdown",
   "metadata": {
    "pycharm": {
     "name": "#%% md\n"
    }
   },
   "source": [
    "c.) In addition, print the frequencies of the following words using your dictionary (if the word does not occur in the dictionary, print 'WORD does not occur')\n",
    "* up\n",
    "* near\n",
    "* together\n",
    "* lion\n",
    "* cow"
   ]
  },
  {
   "cell_type": "code",
   "execution_count": 32,
   "metadata": {
    "pycharm": {
     "name": "#%%\n"
    }
   },
   "outputs": [
    {
     "name": "stdout",
     "output_type": "stream",
     "text": [
      "The frequency of the word up is: 1\n",
      "The frequency of the word near is: 1\n",
      "together does not occur\n",
      "The frequency of the word lion is: 3\n",
      "cow does not occur\n"
     ]
    }
   ],
   "source": [
    "for word in ['up', 'near' , 'together', 'lion', 'cow']:\n",
    "    if word not in word_counting_dict.keys():\n",
    "        print(f\"{word} does not occur\")\n",
    "        continue # We continue to the next iterable item (if any)\n",
    "    # print frequency\n",
    "    print(f\"The frequency of the word {word} is: {word_counting_dict[word]}\")"
   ]
  },
  {
   "cell_type": "markdown",
   "metadata": {
    "pycharm": {
     "name": "#%% md\n"
    }
   },
   "source": [
    "## Exercise 6: Functions"
   ]
  },
  {
   "cell_type": "markdown",
   "metadata": {
    "pycharm": {
     "name": "#%% md\n"
    }
   },
   "source": [
    "#### Exercise 6a: the beersong\n",
    "Please write a function that prints the beersong when it is called.\n",
    "The function:\n",
    "* is called `print_beersong`\n",
    "* has one positional parameter `start_number` (this is 99 in the original song) \n",
    "* prints the beer song"
   ]
  },
  {
   "cell_type": "code",
   "execution_count": 33,
   "metadata": {
    "pycharm": {
     "name": "#%%\n"
    }
   },
   "outputs": [],
   "source": [
    "def print_beersong(start_number):\n",
    "    \"\"\"\n",
    "    Prints the beersong with a modifiable number of verses (number of verses before the end verse)\n",
    "\n",
    "    :param start_number: number to start the song from, also equal to the number of verses before the end verse of the song (integer)\n",
    "    :return: None\n",
    "    \"\"\"\n",
    "    # We define the parts of the song that are constant and repetitive\n",
    "    second_phrase = 'bottles of beer'\n",
    "    first_phrase = f'{second_phrase} on the wall' # The first phrase reuses a part of the second phrase\n",
    "    third_phrase = 'Take one down, pass it around,'\n",
    "    fourth_phrase = first_phrase\n",
    "\n",
    "    for number in range(start_number, 0, -1): # change 4 to 99 when you're done with debugging\n",
    "        # We can now print the desired strings using f-strings\n",
    "        # In order to this, we only need to concatenate the strings defined above with the correct numbers and punctuation\n",
    "        first_phrase_modified = first_phrase\n",
    "        second_phrase_modified = second_phrase\n",
    "        fourth_phrase_modified = fourth_phrase\n",
    "\n",
    "        if number == 1:\n",
    "            first_phrase_modified = first_phrase_modified.replace('bottles', 'bottle')\n",
    "            second_phrase_modified = second_phrase_modified.replace('bottles', 'bottle')\n",
    "        elif number - 1 == 1:\n",
    "            fourth_phrase_modified = fourth_phrase_modified.replace('bottles', 'bottle')\n",
    "        print(f'{number} {first_phrase_modified},')\n",
    "        print(f'{number} {second_phrase_modified}.')\n",
    "        print(third_phrase)\n",
    "        print(f'{number - 1} {fourth_phrase_modified}')\n",
    "\n",
    "        # We add a new line between each verse\n",
    "        print()\n",
    "    print('No more bottles of beer on the wall,')\n",
    "    print('no more bottles of beer.')\n",
    "    print('Go to the store and buy some more,')\n",
    "    print('99 bottles of beer on the wall.')"
   ]
  },
  {
   "cell_type": "code",
   "execution_count": 34,
   "outputs": [
    {
     "name": "stdout",
     "output_type": "stream",
     "text": [
      "3 bottles of beer on the wall,\n",
      "3 bottles of beer.\n",
      "Take one down, pass it around,\n",
      "2 bottles of beer on the wall\n",
      "\n",
      "2 bottles of beer on the wall,\n",
      "2 bottles of beer.\n",
      "Take one down, pass it around,\n",
      "1 bottle of beer on the wall\n",
      "\n",
      "1 bottle of beer on the wall,\n",
      "1 bottle of beer.\n",
      "Take one down, pass it around,\n",
      "0 bottles of beer on the wall\n",
      "\n",
      "No more bottles of beer on the wall,\n",
      "no more bottles of beer.\n",
      "Go to the store and buy some more,\n",
      "99 bottles of beer on the wall.\n"
     ]
    }
   ],
   "source": [
    "print_beersong(3)"
   ],
   "metadata": {
    "collapsed": false,
    "pycharm": {
     "name": "#%%\n"
    }
   }
  },
  {
   "cell_type": "markdown",
   "metadata": {
    "pycharm": {
     "name": "#%% md\n"
    }
   },
   "source": [
    "#### Exercise 6b: the whatever can be in a bottle song\n",
    "There are other liquids than beer than can be placed in a bottle, e.g., *99 bottles of water on the wall.*.\n",
    "Please write a function that prints a variation of the beersong when it is called. All occurrences of **beer** will be replaced by what the user provides as an argument, e.g., *water*.\n",
    "\n",
    "The function:\n",
    "* is called `print_liquids`\n",
    "* has one positional parameter: `start_number` (this is **99** in the original song) \n",
    "* has one keyword parameter: `liquid` (set the default value to **beer**)\n",
    "* prints a liquids song"
   ]
  },
  {
   "cell_type": "code",
   "execution_count": 35,
   "outputs": [],
   "source": [
    "def print_liquids(start_number, liquid='beer'):\n",
    "    \"\"\"\n",
    "    Prints a variant of the beersong\n",
    "\n",
    "    :param start_number: number to start the song from, also equal to the number of verses before the end verse of the song (integer)\n",
    "    :param liquid: the liquid the song is about, default is 'beer' (string)\n",
    "    :return: None\n",
    "    \"\"\"\n",
    "    # We define the parts of the song that are constant and repetitive\n",
    "    second_phrase = f'bottles of {liquid}'\n",
    "    first_phrase = f'{second_phrase} on the wall' # The first phrase reuses a part of the second phrase\n",
    "    third_phrase = 'Take one down, pass it around,'\n",
    "    fourth_phrase = first_phrase\n",
    "    \n",
    "    for number in range(start_number, 0, -1): # change 4 to 99 when you're done with debugging\n",
    "        # We can now print the desired strings using f-strings\n",
    "        # In order to this, we only need to concatenate the strings defined above with the correct numbers and punctuation\n",
    "        first_phrase_modified = first_phrase\n",
    "        second_phrase_modified = second_phrase\n",
    "        fourth_phrase_modified = fourth_phrase\n",
    "    \n",
    "        if number == 1:\n",
    "            first_phrase_modified = first_phrase_modified.replace('bottles', 'bottle')\n",
    "            second_phrase_modified = second_phrase_modified.replace('bottles', 'bottle')\n",
    "        elif number - 1 == 1:\n",
    "            fourth_phrase_modified = fourth_phrase_modified.replace('bottles', 'bottle')\n",
    "        print(f'{number} {first_phrase_modified},')\n",
    "        print(f'{number} {second_phrase_modified}.')\n",
    "        print(third_phrase)\n",
    "        print(f'{number - 1} {fourth_phrase_modified}')\n",
    "    \n",
    "        # We add a new line between each verse\n",
    "        print()\n",
    "    print(f'No more bottles of {liquid} on the wall,')\n",
    "    print(f'no more bottles of {liquid}.')\n",
    "    print('Go to the store and buy some more,')\n",
    "    print(f'99 bottles of {liquid} on the wall.')"
   ],
   "metadata": {
    "collapsed": false,
    "pycharm": {
     "name": "#%%\n"
    }
   }
  },
  {
   "cell_type": "code",
   "execution_count": 36,
   "outputs": [
    {
     "name": "stdout",
     "output_type": "stream",
     "text": [
      "3 bottles of coke on the wall,\n",
      "3 bottles of coke.\n",
      "Take one down, pass it around,\n",
      "2 bottles of coke on the wall\n",
      "\n",
      "2 bottles of coke on the wall,\n",
      "2 bottles of coke.\n",
      "Take one down, pass it around,\n",
      "1 bottle of coke on the wall\n",
      "\n",
      "1 bottle of coke on the wall,\n",
      "1 bottle of coke.\n",
      "Take one down, pass it around,\n",
      "0 bottles of coke on the wall\n",
      "\n",
      "No more bottles of coke on the wall,\n",
      "no more bottles of coke.\n",
      "Go to the store and buy some more,\n",
      "99 bottles of coke on the wall.\n"
     ]
    }
   ],
   "source": [
    "print_liquids(3, 'coke')"
   ],
   "metadata": {
    "collapsed": false,
    "pycharm": {
     "name": "#%%\n"
    }
   }
  },
  {
   "cell_type": "markdown",
   "metadata": {
    "pycharm": {
     "name": "#%% md\n"
    }
   },
   "source": [
    "#### Exercise 6c: preprocessing text\n",
    "Please write the answer to Exercise 4a as a function. The function replaces the following characters by empty spaces in a text:\n",
    "* newlines: '\\n'\n",
    "* commas: ','\n",
    "* dots: '.'\n",
    "* quotes: '\"'\n",
    "\n",
    "The function is:\n",
    "* is called `clean_text`\n",
    "* has one positional parameter `text`\n",
    "* return a string, e.g., the cleaned text\n"
   ]
  },
  {
   "cell_type": "code",
   "execution_count": 37,
   "metadata": {
    "pycharm": {
     "name": "#%%\n"
    }
   },
   "outputs": [],
   "source": [
    "def clean_text(text):\n",
    "    \"\"\"\n",
    "    Cleans the given text by removing the newlines, commas, dots and quotes it contains\n",
    "\n",
    "    :param text: the text to be cleaned (string)\n",
    "    :return: the cleaned text (string)\n",
    "    \"\"\"\n",
    "    cleaned_text = text.replace('\\n', '')\n",
    "    cleaned_text = cleaned_text.replace(',', '')\n",
    "    cleaned_text = cleaned_text.replace('.', '')\n",
    "    cleaned_text = cleaned_text.replace('\"', '')\n",
    "\n",
    "    return cleaned_text"
   ]
  },
  {
   "cell_type": "code",
   "execution_count": 38,
   "outputs": [
    {
     "name": "stdout",
     "output_type": "stream",
     "text": [
      "This piece of text is written in order to test the function above.\n",
      "The function is called \"clean_text\", takes an argument called \"text\" as parameter and returns the cleaned variant of the text\n",
      "\n",
      "This piece of text is written in order to test the function aboveThe function is called clean_text takes an argument called text as parameter and returns the cleaned variant of the text\n"
     ]
    }
   ],
   "source": [
    "# Test case of the function\n",
    "text_to_clean = 'This piece of text is written in order to test the function above.\\nThe function is called \"clean_text\", takes an argument called \"text\" as parameter and returns the cleaned variant of the text'\n",
    "print(text_to_clean)\n",
    "\n",
    "print()\n",
    "\n",
    "cleaned_text = clean_text(text_to_clean)\n",
    "print(cleaned_text)"
   ],
   "metadata": {
    "collapsed": false,
    "pycharm": {
     "name": "#%%\n"
    }
   }
  },
  {
   "cell_type": "markdown",
   "metadata": {
    "pycharm": {
     "name": "#%% md\n"
    }
   },
   "source": [
    "#### Exercise 6d: preprocessing text in a more general way\n",
    "Please write a function that replaces all characters that the user provides by empty spaces.\n",
    "\n",
    "The function is:\n",
    "* is called `clean_text_general`\n",
    "* has one positional parameter `text`\n",
    "* has one keyword parameter `chars_to_remove`, which is a set (set the default to {'\\n', ',', '.', '\"'})\n",
    "* return a string, e.g., the cleaned text\n",
    "\n",
    "When the user provides a different value to `chars_to_remove`, e.g., {'a'}, then only those characters should be replaced by empty spaces in the text."
   ]
  },
  {
   "cell_type": "code",
   "execution_count": 39,
   "outputs": [
    {
     "name": "stdout",
     "output_type": "stream",
     "text": [
      "This piece of text is written in order to test the function aboveThe function is called clean_text takes an argument called text as parameter and returns the cleaned variant of the text\n",
      "\n",
      "This piece of text is written in order to test the function above\n",
      "The function is called \"clean_text\", takes an argument called \"text\" as parameter and returns the cleaned variant of the text\n"
     ]
    }
   ],
   "source": [
    "from assignment2_utils import clean_text_general\n",
    "\n",
    "text_to_clean = 'This piece of text is written in order to test the function above.\\nThe function is called \"clean_text\", takes an argument called \"text\" as parameter and returns the cleaned variant of the text'\n",
    "\n",
    "# Test of the function with the default value for the dictionary chars_to_remove\n",
    "print(clean_text_general(text_to_clean))\n",
    "\n",
    "print()\n",
    "\n",
    "# Now we test it again, with another value for chars_to_remove (we only remove the dots)\n",
    "print(clean_text_general(text_to_clean, chars_to_remove={'.'}))"
   ],
   "metadata": {
    "collapsed": false,
    "pycharm": {
     "name": "#%%\n"
    }
   }
  },
  {
   "cell_type": "markdown",
   "source": [
    "Please store this function in a file called **assignment2_utils.py**. Please import the function and call it in this notebook."
   ],
   "metadata": {
    "collapsed": false,
    "pycharm": {
     "name": "#%% md\n"
    }
   }
  },
  {
   "cell_type": "markdown",
   "metadata": {
    "pycharm": {
     "name": "#%% md\n"
    }
   },
   "source": [
    "#### Exercise 6e: including and excluding words\n",
    "Please write Exercise 5a as a function. \n",
    "\n",
    "The function:\n",
    "* is called `exclude_and_count`\n",
    "* has one positional parameter `words`, which is a list of strings.\n",
    "* creates a dictionary in which the **key** is a word and the **value** is the frequency of that word. \n",
    "* words are excluded if they meet one of the following criteria:\n",
    "    * end with the letter e\n",
    "    * start with the letter t\n",
    "    * start with the letter c and end with the letter w (both conditions must be met)\n",
    "    * have six or more letters\n",
    "* returns a dictionary in which the **key** is the word and the **value** is the frequency of the word. "
   ]
  },
  {
   "cell_type": "code",
   "execution_count": 39,
   "metadata": {
    "pycharm": {
     "name": "#%%\n"
    }
   },
   "outputs": [],
   "source": [
    "def exclude_and_count(words):\n",
    "    \"\"\"\n",
    "    Counts the no. occurrences of different words and puts them in a dictionary which holds the word as its key and the no. occurrences as its value\n",
    "    The following words are excluded:\n",
    "        - Words that end with an 'e'\n",
    "        - Words that start with an 'a'\n",
    "        - Words that start with a 'c' and end with a 'w'\n",
    "\n",
    "    :param words: List of words to count the no. occurrences of\n",
    "    :return: A dictionary which holds the counted words as its key and the no. occurrences as its values\n",
    "    \"\"\"\n",
    "    word_counting_dict = dict()\n",
    "\n",
    "    for word in words:\n",
    "        # First we check whether the word needs to be excluded from the dictionary:\n",
    "        if word.endswith('e'):\n",
    "            continue\n",
    "        if word.startswith('t'):\n",
    "            continue\n",
    "        if word.startswith('c') and word.endswith('w'):\n",
    "            continue\n",
    "        if len(word) >= 6:\n",
    "            continue\n",
    "\n",
    "        # Now we check if the word is already in the dictionary:\n",
    "        if word in word_counting_dict.keys():\n",
    "            word_counting_dict[word] += 1 # It's already in there, increment the no. occurrences by 1\n",
    "        else:\n",
    "            word_counting_dict[word] = 1 # First time we see this word, add it to the dictionary and set its initial value to 1\n",
    "    return word_counting_dict"
   ]
  },
  {
   "cell_type": "code",
   "execution_count": 40,
   "outputs": [
    {
     "data": {
      "text/plain": "{'was': 2,\n 'a': 6,\n 'near': 1,\n 'cows': 4,\n 'used': 2,\n 'go': 2,\n 'up': 1,\n 'in': 3,\n 'of': 3,\n 'food.': 1,\n 'lived': 1,\n 'lion': 3,\n 'kill': 1,\n 'now': 2,\n 'and': 3,\n 'eat': 1,\n 'her': 1,\n 'for': 1,\n 'day': 1,\n 'all': 4,\n 'held': 1,\n 'an': 1,\n 'old': 1,\n 'said': 1,\n 'eats': 1,\n 'us': 1,\n 'only': 1,\n 'into': 2,\n 'from': 2,\n 'on': 2,\n 'will': 1,\n 'went': 1,\n 'herd': 1,\n 'when': 1,\n 'heard': 1,\n 'or': 1,\n 'saw': 1,\n 'moo': 1,\n 'him': 1,\n 'away': 1,\n 'moral': 1,\n 'fall': 1,\n 'stand': 1}"
     },
     "execution_count": 40,
     "metadata": {},
     "output_type": "execute_result"
    }
   ],
   "source": [
    "# The same list of words is used as in exercise 5a in order to test the function\n",
    "exclude_and_count(words)"
   ],
   "metadata": {
    "collapsed": false,
    "pycharm": {
     "name": "#%%\n"
    }
   }
  },
  {
   "cell_type": "markdown",
   "metadata": {
    "pycharm": {
     "name": "#%% md\n"
    }
   },
   "source": [
    "## Exercise 7: Questions about Python\n",
    "Please answer the following questions about the Python language. You can give an examples if they help you.\n"
   ]
  },
  {
   "cell_type": "markdown",
   "metadata": {
    "pycharm": {
     "name": "#%% md\n"
    }
   },
   "source": [
    "a. What is the difference between positional parameters and keyword parameters?"
   ]
  },
  {
   "cell_type": "code",
   "execution_count": 4,
   "metadata": {
    "pycharm": {
     "name": "#%%\n"
    }
   },
   "outputs": [
    {
     "name": "stdout",
     "output_type": "stream",
     "text": [
      "2\n",
      "\n",
      "6\n",
      "\n",
      "12\n",
      "12\n"
     ]
    }
   ],
   "source": [
    "# Positional parameters are mandatory to define parameters\n",
    "# The only way to specify them is by positioning its value correctly\n",
    "# E.g. if a variable 'second_variable' is a positional parameter consecutive to a positional parameter 'first_parameter',\n",
    "# then you need to call the function in a way that the value for 'second_parameter' comes after the definition of 'first_parameter'\n",
    "# The following lines contain an example of a function definition with positional parameters only:\n",
    "def positional_variable_function(first_parameter, second_parameter):\n",
    "    return first_parameter * second_parameter\n",
    "\n",
    "print(positional_variable_function(1, 2))\n",
    "print()\n",
    "\n",
    "# Keyword parameters are not mandatory to specify parameters (they are optional to specify when calling the function)\n",
    "# Keyword parameters have a default definition and need to be positioned after the positional parameters (if any)\n",
    "# Calling a function and not mentioning the keyword parameters will result in the keyword parameters remaining its default values\n",
    "# The default value of a keyword parameter can be changed two ways:\n",
    "#   - The same way as for a positional parameter, by correctly positioning the variable in the function-call\n",
    "#   - By putting the name of the keyword variable in the function call, followed by an '=' character, followed by the desired value\n",
    "# The following lines contain an example of a function that takes a positional parameter, as well as two keyword parameters:\n",
    "def keyword_parameter_function(first_parameter, second_parameter=2, third_parameter=3):\n",
    "    return first_parameter * second_parameter * third_parameter\n",
    "\n",
    "# By calling the function like this, the default values remain:\n",
    "print(keyword_parameter_function(1))\n",
    "print()\n",
    "\n",
    "# By calling the function like this, the default values are modified:\n",
    "print(keyword_parameter_function(1, 3, 4))\n",
    "print()\n",
    "\n",
    "# The following function call will have the same behaviour as the one above:\n",
    "print(keyword_parameter_function(1, third_parameter=4, second_parameter=3))"
   ]
  },
  {
   "cell_type": "markdown",
   "metadata": {
    "pycharm": {
     "name": "#%% md\n"
    }
   },
   "source": [
    "b. What is/are the type/types of containers that you define using curly brackets?"
   ]
  },
  {
   "cell_type": "code",
   "execution_count": null,
   "metadata": {
    "pycharm": {
     "name": "#%%\n"
    }
   },
   "outputs": [],
   "source": [
    "# Using curly brackets, two different kind of containers can be defined:\n",
    "#   - Sets: a set can contain a unique collection of mutable items (unordered)\n",
    "#   - Dictionary: a dictionary can contain unique pairs of keys and values (unordered)"
   ]
  },
  {
   "cell_type": "markdown",
   "metadata": {
    "pycharm": {
     "name": "#%% md\n"
    }
   },
   "source": [
    "c. When comparing the containers lists and sets, there are three properties that are unique for lists. Please name and explain them."
   ]
  },
  {
   "cell_type": "code",
   "execution_count": null,
   "metadata": {
    "pycharm": {
     "name": "#%%\n"
    }
   },
   "outputs": [],
   "source": [
    "# Unlike sets, lists are ordered, can contain duplicates of the same value (duplicates) and lists can contain mutable as well as immutable items.\n",
    "# Whereas sets can only contain immutable items."
   ]
  },
  {
   "cell_type": "markdown",
   "metadata": {
    "pycharm": {
     "name": "#%% md\n"
    }
   },
   "source": [
    "d. Explain the difference between **continue** and **break**. You can use an example for this. "
   ]
  },
  {
   "cell_type": "code",
   "execution_count": 40,
   "outputs": [
    {
     "name": "stdout",
     "output_type": "stream",
     "text": [
      "The continue statement will make sure that the fourth cycle of the loop is interrupted but the last cycle will still be executed:\n",
      "index: 0\n",
      "index: 1\n",
      "index: 2\n",
      "index: 4\n",
      "\n",
      "The break statement will make sure that the fourth cycle of the loop is interrupted and the rest of the loop is not executed:\n",
      "index: 0\n",
      "index: 1\n",
      "index: 2\n"
     ]
    }
   ],
   "source": [
    "# Continue can be used to stop the current cycle of a loop and move on to the next cycle of the same loop\n",
    "# Break can be used to stop the current cycle of a loop + the loop its entire execution\n",
    "\n",
    "print('The continue statement will make sure that the fourth cycle of the loop is interrupted but the last cycle will still be executed:')\n",
    "for index in range(0, 5):\n",
    "    if index == 3:\n",
    "        continue\n",
    "    print(f'index: {index}')\n",
    "\n",
    "print()\n",
    "print('The break statement will make sure that the fourth cycle of the loop is interrupted and the rest of the loop is not executed:')\n",
    "for index in range(0, 5):\n",
    "    if index == 3:\n",
    "        break\n",
    "    print(f'index: {index}')"
   ],
   "metadata": {
    "collapsed": false,
    "pycharm": {
     "name": "#%%\n"
    }
   }
  },
  {
   "cell_type": "code",
   "execution_count": null,
   "outputs": [],
   "source": [],
   "metadata": {
    "collapsed": false,
    "pycharm": {
     "name": "#%%\n"
    }
   }
  }
 ],
 "metadata": {
  "anaconda-cloud": {},
  "kernelspec": {
   "display_name": "Python 3",
   "language": "python",
   "name": "python3"
  },
  "language_info": {
   "codemirror_mode": {
    "name": "ipython",
    "version": 3
   },
   "file_extension": ".py",
   "mimetype": "text/x-python",
   "name": "python",
   "nbconvert_exporter": "python",
   "pygments_lexer": "ipython3",
   "version": "3.8.3"
  }
 },
 "nbformat": 4,
 "nbformat_minor": 4
}