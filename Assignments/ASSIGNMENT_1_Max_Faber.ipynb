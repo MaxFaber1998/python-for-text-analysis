{
 "cells": [
  {
   "cell_type": "markdown",
   "metadata": {
    "pycharm": {
     "name": "#%% md\n"
    }
   },
   "source": [
    "# Assignment 1: Calculation, Strings, Boolean Expressions and Conditions\n",
    "\n",
    "**Deadline: Friday, September 9, 2022 before 5pm (submit via Canvas: Assignment 1)** \n",
    "\n",
    "\n",
    "This assignment is **not graded**, but it is mandatory to submit a version that shows you have given it a serious try. We will check your assignments to monitor the progress and get an impression of how the course is going so far. You will receive feedback and solutions in the first class after the deadline. **Please note that the material taught in this block is essential for all subsequent blocks.** \n",
    "\n",
    "- Please name your notebook with the following naming convention: ASSIGNMENT_1_FIRSTNAME_LASTNAME.ipynb\n",
    "- If you have **questions** about this topic, please contact **cltl.python.course@gmail.com**.\n",
    "\n",
    "\n",
    "In this block, we covered the following chapters:\n",
    "\n",
    "- Chapter 1 - Getting Started with Variables and Values\n",
    "- Chapter 2 - Basic Data Types (Integers and Floats)\n",
    "- Chapter 3 - Strings\n",
    "- Chapter 4 - Boolean Expressions and Conditions\n",
    "\n",
    "In this assignment, you will be asked to show what you have learned from the topics above! \n",
    "\n",
    "**Looking things up**\n",
    "\n",
    "Don't worry - you do not have to know things by heart yet - feel free to have all Chapters of block 1 open while you work on this. This also goes for all future assignments. \n",
    "\n",
    "**Finding solutions online**\n",
    "\n",
    "Very often, you can find good solutions online. We encourage you to use online resources when you get stuck. However, please always try to understand the code you find and indicate that it is not your own. Use the following format to mark code written by someone else:\n",
    "\n",
    "###Taken from [link] [date]\n",
    "\n",
    "[code]\n",
    "\n",
    "\\###\n",
    "\n",
    "Please use a similar format to indicate that you have worked with a classmate (e.g. mention the name instead of the link). \n",
    "\n",
    "*Indicating online resources and collaboration is mandatory! Please stick to this strategy for all course assignments.*\n",
    "\n",
    "**Being stuck and getting help**\n",
    "\n",
    "It is very normal to get stuck every now and then. Sometimes you find what is wrong within minutes, sometimes this takes longer. If you get stuck, please apply the strategies described in the readme. If none of them work, please contact us (cltl.python.course@gmail.com). "
   ]
  },
  {
   "cell_type": "markdown",
   "metadata": {
    "pycharm": {
     "name": "#%% md\n"
    }
   },
   "source": [
    "## Exercise 1: Calculation\n"
   ]
  },
  {
   "cell_type": "markdown",
   "metadata": {
    "pycharm": {
     "name": "#%% md\n"
    }
   },
   "source": [
    "#### 1a. Average \n",
    "Define three variables `var1`, `var2` and `var3`. Calculate the average of these variables and assign it to the variable `average`. Print the outcome of your program as follows (use casting or an f-string):\n",
    "\n",
    "`The average of [...], [...] and [...] is: [...]`"
   ]
  },
  {
   "cell_type": "code",
   "execution_count": 7,
   "metadata": {
    "pycharm": {
     "name": "#%%\n"
    }
   },
   "outputs": [
    {
     "name": "stdout",
     "output_type": "stream",
     "text": [
      "The average of var1 (1.5), var2 (2.5) and var3 (3.5) is 2.5\n"
     ]
    }
   ],
   "source": [
    "# average code\n",
    "var1 = 1.5\n",
    "var2 = 2.5\n",
    "var3 = 3.5\n",
    "average = (var1 + var2 + var3) / 3\n",
    "print(f'The average of var1 ({var1}), var2 ({var2}) and var3 ({var3}) is {average}')"
   ]
  },
  {
   "cell_type": "markdown",
   "metadata": {
    "pycharm": {
     "name": "#%% md\n"
    }
   },
   "source": [
    "#### 1b. Book prices\n",
    "\n",
    "\n",
    "Calculate book prices for the following scenarios:\n",
    "\n",
    "Suppose the price of a book is 24.95 EUR, but if the book is bought by a bookstore, they get a 30 percent discount (as opposed to customers buying from an online stores). Shipping costs 3 EUR for the first copy and 75 cents for each additional copy. Shipping costs always apply (the books also have to be shipped to the bookstore). \n",
    "\n",
    "Write a program that can calculate the total costs for any number of copies for both bookstores and other customers. Use variables with clear names for your calculations and print the result using a full sentence.\n",
    "\n",
    "The program should use variables which indicate whether the customer is a bookstore or not and how many books are bought. You can simply assign values to the variables in you code or use the input function (both is accepted).\n",
    "\n",
    "\n",
    "**Tip**\n",
    "\n",
    "Start small and add things in steps. For instance, start by calculating the price minus the discount. Then add the additional steps. Also, it helps to a start by simply assuming a specific number of books (start with 1 and make sure it works with any other number). Do not forget to test your program! "
   ]
  },
  {
   "cell_type": "code",
   "execution_count": 15,
   "metadata": {
    "pycharm": {
     "name": "#%%\n"
    }
   },
   "outputs": [
    {
     "name": "stdout",
     "output_type": "stream",
     "text": [
      "Total costs for 2 book(s) for a bookstore customer: €38.68\n"
     ]
    }
   ],
   "source": [
    "# complete the code below\n",
    "n_books = 2\n",
    "customer_is_bookstore = True\n",
    "unit_price_euros = 24.95\n",
    "shipping_costs_euros_first_book = 3.0\n",
    "shipping_costs_euros_consecutive_books = 0.75\n",
    "subtotal_price = 0.0\n",
    "total_price = 0.0\n",
    "\n",
    "# your bookprice calculations here\n",
    "\n",
    "# Here, I assumed that the 30% discount is only calculated over the unit price (24.95),\n",
    "# as it's not explicitly mentioned whether it also applies to the shipping costs\n",
    "if customer_is_bookstore:\n",
    "    unit_price_euros *= 0.7 # 30% discount\n",
    "subtotal_price += unit_price_euros * n_books # We add the price for the books to the subtotal\n",
    "subtotal_price += (1 * shipping_costs_euros_first_book) + ((n_books - 1) * shipping_costs_euros_consecutive_books)\n",
    "total_price = subtotal_price\n",
    "if customer_is_bookstore:\n",
    "    print(f'Total costs for {n_books} book(s) for a bookstore customer: \\N{euro sign}{total_price}')\n",
    "else:\n",
    "    print(f'Total costs for {n_books} book(s) for a (non)bookstore customer: \\N{euro sign}{total_price}')"
   ]
  },
  {
   "cell_type": "markdown",
   "metadata": {
    "pycharm": {
     "name": "#%% md\n"
    }
   },
   "source": [
    "#### 1c. The modulus operator \n",
    "\n",
    "There is one operator (like the ones for multiplication and subtraction) that we did not discuss yet, namely the modulus operator %. Could you figure out by yourself what it does when you place it between two numbers (e.g. 113 % 9)? (PS: Try to figure it out by yourself first, by trying multiple combinations of numbers. If you do not manage, it's OK to use online resources...) \n",
    "\n",
    "You don't need this operator all that often, but when you do, it comes in really handy! Also, it is important to learn how to figure out what operators/methods/functions you have never seen before do by playing with code, googling or reading documentation. \n"
   ]
  },
  {
   "cell_type": "code",
   "execution_count": 20,
   "metadata": {
    "pycharm": {
     "name": "#%%\n"
    }
   },
   "outputs": [
    {
     "name": "stdout",
     "output_type": "stream",
     "text": [
      "5 % 5 = 0\n",
      "4 % 5 = 4\n",
      "12 % 5 = 2\n",
      "Given the output above, we see that the modulo operator gives us the rest of a division!\n"
     ]
    }
   ],
   "source": [
    "# try out the modulus operator!\n",
    "print(f'5 % 5 = {5 % 5}')\n",
    "print(f'4 % 5 = {4 % 5}')\n",
    "print(f'12 % 5 = {12 % 5}')\n",
    "print('Given the output above, we see that the modulo operator gives us the rest of a division!')"
   ]
  },
  {
   "cell_type": "markdown",
   "metadata": {
    "pycharm": {
     "name": "#%% md\n"
    }
   },
   "source": [
    "**Help the cashier**\n",
    "\n",
    "Can you use the modulus operator you just learned about to solve the following task? Imagine you want to help cashiers to return the change in a convenient way. This means you do not want to return hands full of small coins, but rather use bills and as few coins as possible. \n",
    "\n",
    "Write code  that classifies a given amount of money into smaller monetary units. Given a specific amout of dollars, your program should report the maximum number of dollar bills,  quarters, dimes, nickels, and pennies. \n",
    "\n",
    "Set the amount variable to 11.67. You code should output a report listing the monetary equivalent in dollars, quarters, dimes, nickels, and pennies (one quarter is equivalent to 25 cents; one dime to 10 cents; one nickle to 5 cents and a pennie to 1 cent). Your program should report the maximum number of dollars, then the number of quarters, dimes, nickels, and pennies, in this order, to result in the minimum number of coins. Here are the steps in developing the program:\n",
    "\n",
    "1. Convert the amount (11.67) into cents (1167).\n",
    "2. First get the amount of cents that you would get after subtracting the maximum amount of dollars (100 cents) using the modulus operator (67 cents).\n",
    "3. Then subtract the remainder (67 cents) from the total amount of cents (1167 cents) and divide this by 100 to find the number of dollars.\n",
    "4. Use the modulus operator again to find out the remainder after subtracting the maximum amount of quarters (17 cents).\n",
    "5. Subtract this remainder (17 cents) from the previous remainder (67 cents) and divide this by 25 to find out the number of quarters.\n",
    "6. Follow the same steps for the dimes, nickels and pennies.\n",
    "7. Display the result for your cashier! (the amount of dollars, quarters, dimes, nickels and pennies that (s)he would have to give back)`"
   ]
  },
  {
   "cell_type": "code",
   "execution_count": 1,
   "metadata": {
    "pycharm": {
     "name": "#%%\n"
    }
   },
   "outputs": [
    {
     "name": "stdout",
     "output_type": "stream",
     "text": [
      "The cashier can return €11.67 as efficient as possible the following way:\n",
      "Number of dollars:\t11\n",
      "Number of quarters:\t2\n",
      "Number of dimes:\t1\n",
      "Number of nickels:\t1\n",
      "Number of pennies:\t2\n"
     ]
    }
   ],
   "source": [
    "# cashier code\n",
    "# Definitions of the return amount in euros and euro cents\n",
    "return_amount_euros = 11.67\n",
    "return_amount_euro_cents = return_amount_euros * 100\n",
    "remainder_euro_cents = return_amount_euro_cents\n",
    "\n",
    "print(f'The cashier can return \\N{euro sign}{return_amount_euros} as efficient as possible the following way:')\n",
    "\n",
    "# Calculation of the max. number of dollars\n",
    "remainder_euro_cents = remainder_euro_cents % 100\n",
    "n_dollars = (return_amount_euro_cents - remainder_euro_cents) / 100\n",
    "return_amount_euro_cents -= n_dollars * 100\n",
    "print(f'Number of dollars:\\t{int(n_dollars)}')\n",
    "\n",
    "# Calculation of the max. number of quarters\n",
    "remainder_euro_cents = return_amount_euro_cents % 25\n",
    "n_quarters = (return_amount_euro_cents - remainder_euro_cents) / 25\n",
    "return_amount_euro_cents -= n_quarters * 25\n",
    "print(f'Number of quarters:\\t{int(n_quarters)}')\n",
    "\n",
    "# Calculation of the max. number of dimes\n",
    "remainder_euro_cents = return_amount_euro_cents % 10\n",
    "n_dimes = (return_amount_euro_cents - remainder_euro_cents) / 10\n",
    "return_amount_euro_cents -= n_dimes * 10\n",
    "print(f'Number of dimes:\\t{int(n_dimes)}')\n",
    "\n",
    "# Calculation of the max. number of nickels\n",
    "remainder_euro_cents = return_amount_euro_cents % 5\n",
    "n_nickels = (return_amount_euro_cents - remainder_euro_cents) / 5\n",
    "return_amount_euro_cents -= n_nickels * 5\n",
    "print(f'Number of nickels:\\t{int(n_nickels)}')\n",
    "\n",
    "# Calculation of the max. number of pennies\n",
    "remainder_euro_cents = return_amount_euro_cents % 1\n",
    "n_pennies = (return_amount_euro_cents - remainder_euro_cents) / 1\n",
    "return_amount_euro_cents -= n_pennies * 1\n",
    "print(f'Number of pennies:\\t{int(n_pennies)}')"
   ]
  },
  {
   "cell_type": "markdown",
   "metadata": {
    "pycharm": {
     "name": "#%% md\n"
    }
   },
   "source": [
    "## Exercise 2: Printing and user input\n"
   ]
  },
  {
   "cell_type": "markdown",
   "metadata": {
    "pycharm": {
     "name": "#%% md\n"
    }
   },
   "source": [
    "#### 2a. Difference between \",\" and \"+\"\n",
    "\n",
    "What is the difference between using **+** and **,** in a print statement? Illustrate by using both in each of the following:\n",
    "\n",
    "* calling the `print()` fuction with multiple strings\n",
    "* printing combinations of strings and integers\n",
    "* concatenating multiple strings and assign to one single variable\n",
    "* concatenating strings and integers and assign to one single variable"
   ]
  },
  {
   "cell_type": "code",
   "execution_count": 2,
   "metadata": {
    "pycharm": {
     "name": "#%%\n"
    }
   },
   "outputs": [
    {
     "name": "stdout",
     "output_type": "stream",
     "text": [
      "Multiple strings, seperated with a ',' are printed with a space in between:\n",
      "My name is Max\n",
      "\n",
      "Whereas multiple strings, seperated with a '+' are directly concatenated to each other without any whitespace in between:\n",
      "MynameisMax\n"
     ]
    }
   ],
   "source": [
    "print(\"Multiple strings, seperated with a ',' are printed with a space in between:\")\n",
    "print(\"My\", \"name\", \"is\", \"Max\")\n",
    "print()\n",
    "print(\"Whereas multiple strings, seperated with a '+' are directly concatenated to each other without any whitespace in between:\")\n",
    "print(\"My\" + \"name\" + \"is\" + \"Max\")"
   ]
  },
  {
   "cell_type": "code",
   "execution_count": 1,
   "metadata": {
    "pycharm": {
     "name": "#%%\n"
    }
   },
   "outputs": [
    {
     "name": "stdout",
     "output_type": "stream",
     "text": [
      "Combinations of strings and integers seperated with a ',' are printed as expected with a space in between:\n",
      "I am 20 years old\n",
      "\n",
      "Combinations of strings and integers seperated with a '+' don't print and throw the an error as concatenating strings and ints is not possible directly:\n"
     ]
    },
    {
     "ename": "TypeError",
     "evalue": "can only concatenate str (not \"int\") to str",
     "output_type": "error",
     "traceback": [
      "\u001B[0;31m---------------------------------------------------------------------------\u001B[0m",
      "\u001B[0;31mTypeError\u001B[0m                                 Traceback (most recent call last)",
      "Input \u001B[0;32mIn [1]\u001B[0m, in \u001B[0;36m<cell line: 5>\u001B[0;34m()\u001B[0m\n\u001B[1;32m      3\u001B[0m \u001B[38;5;28mprint\u001B[39m()\n\u001B[1;32m      4\u001B[0m \u001B[38;5;28mprint\u001B[39m(\u001B[38;5;124m\"\u001B[39m\u001B[38;5;124mCombinations of strings and integers seperated with a \u001B[39m\u001B[38;5;124m'\u001B[39m\u001B[38;5;124m+\u001B[39m\u001B[38;5;124m'\u001B[39m\u001B[38;5;124m don\u001B[39m\u001B[38;5;124m'\u001B[39m\u001B[38;5;124mt print and throw the an error as concatenating strings and ints is not possible directly:\u001B[39m\u001B[38;5;124m\"\u001B[39m)\n\u001B[0;32m----> 5\u001B[0m \u001B[38;5;28mprint\u001B[39m(\u001B[38;5;124;43m\"\u001B[39;49m\u001B[38;5;124;43mI\u001B[39;49m\u001B[38;5;124;43m\"\u001B[39;49m\u001B[43m \u001B[49m\u001B[38;5;241;43m+\u001B[39;49m\u001B[43m \u001B[49m\u001B[38;5;124;43m\"\u001B[39;49m\u001B[38;5;124;43mam\u001B[39;49m\u001B[38;5;124;43m\"\u001B[39;49m\u001B[43m \u001B[49m\u001B[38;5;241;43m+\u001B[39;49m\u001B[43m \u001B[49m\u001B[38;5;241;43m20\u001B[39;49m \u001B[38;5;241m+\u001B[39m \u001B[38;5;124m\"\u001B[39m\u001B[38;5;124myears\u001B[39m\u001B[38;5;124m\"\u001B[39m \u001B[38;5;241m+\u001B[39m \u001B[38;5;124m\"\u001B[39m\u001B[38;5;124mold\u001B[39m\u001B[38;5;124m\"\u001B[39m)\n",
      "\u001B[0;31mTypeError\u001B[0m: can only concatenate str (not \"int\") to str"
     ]
    }
   ],
   "source": [
    "print(\"Combinations of strings and integers seperated with a ',' are printed as expected with a space in between:\")\n",
    "print(\"I\", \"am\", 20, \"years\", \"old\")\n",
    "print()\n",
    "print(\"Combinations of strings and integers seperated with a '+' don't print and throw the an error as concatenating strings and ints is not possible directly:\")\n",
    "print(\"I\" + \"am\" + 20 + \"years\" + \"old\")"
   ]
  },
  {
   "cell_type": "code",
   "execution_count": 7,
   "metadata": {
    "pycharm": {
     "name": "#%%\n"
    }
   },
   "outputs": [
    {
     "name": "stdout",
     "output_type": "stream",
     "text": [
      "comma_string: ('My', 'name', 'is', 'Max')\n",
      "comma_string has type <class 'tuple'>\n",
      "\n",
      "plus_string: MynameisMax\n",
      "plus_string has type <class 'str'>\n"
     ]
    }
   ],
   "source": [
    "comma_string = \"My\", \"name\", \"is\", \"Max\"\n",
    "print(f'comma_string: {comma_string}')\n",
    "print(f'comma_string has type {type(comma_string)}')\n",
    "print()\n",
    "plus_string = \"My\" + \"name\" + \"is\" + \"Max\"\n",
    "print(f'plus_string: {plus_string}')\n",
    "print(f'plus_string has type {type(plus_string)}')"
   ]
  },
  {
   "cell_type": "code",
   "execution_count": 9,
   "metadata": {
    "pycharm": {
     "name": "#%%\n"
    }
   },
   "outputs": [
    {
     "name": "stdout",
     "output_type": "stream",
     "text": [
      "comma_int_string: ('I', 'am', 20, 'years', 'old')\n",
      "comma_int_string has type <class 'tuple'>\n",
      "\n",
      "The underlying line of code will crash, this is because of the same problem as two cells above\n"
     ]
    },
    {
     "ename": "TypeError",
     "evalue": "can only concatenate str (not \"int\") to str",
     "output_type": "error",
     "traceback": [
      "\u001B[0;31m---------------------------------------------------------------------------\u001B[0m",
      "\u001B[0;31mTypeError\u001B[0m                                 Traceback (most recent call last)",
      "Cell \u001B[0;32mIn [9], line 6\u001B[0m\n\u001B[1;32m      4\u001B[0m \u001B[38;5;28mprint\u001B[39m()\n\u001B[1;32m      5\u001B[0m \u001B[38;5;28mprint\u001B[39m(\u001B[38;5;124m\"\u001B[39m\u001B[38;5;124mThe underlying line of code will crash, this is because of the same problem as two cells above\u001B[39m\u001B[38;5;124m\"\u001B[39m)\n\u001B[0;32m----> 6\u001B[0m plus_int_string \u001B[38;5;241m=\u001B[39m \u001B[38;5;124;43m\"\u001B[39;49m\u001B[38;5;124;43mI\u001B[39;49m\u001B[38;5;124;43m\"\u001B[39;49m\u001B[43m \u001B[49m\u001B[38;5;241;43m+\u001B[39;49m\u001B[43m \u001B[49m\u001B[38;5;124;43m\"\u001B[39;49m\u001B[38;5;124;43mam\u001B[39;49m\u001B[38;5;124;43m\"\u001B[39;49m\u001B[43m \u001B[49m\u001B[38;5;241;43m+\u001B[39;49m\u001B[43m \u001B[49m\u001B[38;5;241;43m20\u001B[39;49m \u001B[38;5;241m+\u001B[39m \u001B[38;5;124m\"\u001B[39m\u001B[38;5;124myears\u001B[39m\u001B[38;5;124m\"\u001B[39m \u001B[38;5;241m+\u001B[39m \u001B[38;5;124m\"\u001B[39m\u001B[38;5;124mold\u001B[39m\u001B[38;5;124m\"\u001B[39m\n",
      "\u001B[0;31mTypeError\u001B[0m: can only concatenate str (not \"int\") to str"
     ]
    }
   ],
   "source": [
    "comma_int_string = \"I\", \"am\", 20, \"years\", \"old\"\n",
    "print(f'comma_int_string: {comma_int_string}')\n",
    "print(f'comma_int_string has type {type(comma_int_string)}')\n",
    "print()\n",
    "print(\"The underlying line of code will crash, this is because of the same problem as two cells above\")\n",
    "plus_int_string = \"I\" + \"am\" + 20 + \"years\" + \"old\""
   ]
  },
  {
   "cell_type": "markdown",
   "metadata": {
    "pycharm": {
     "name": "#%% md\n"
    }
   },
   "source": [
    "####  2b. Small Talk\n",
    "Write a program to have a little conversation with someone. First ask them for their name and their age, and then say something about your own age compared to theirs. Your code should result in a conversation following this example:\n",
    "\n",
    "> `Hello there! What is your name?`\n",
    "\n",
    "> -- Emily.\n",
    "\n",
    "> `Nice to meet you, Emily. How old are you?`\n",
    "\n",
    "> -- 23\n",
    "\n",
    "> `I'm 25 years old, so I'm 2 years older than you.`\n",
    "\n",
    "Also account for situations where the other person is older or the same age. You will need to use `if-else`-statements!"
   ]
  },
  {
   "cell_type": "code",
   "execution_count": 12,
   "metadata": {
    "pycharm": {
     "name": "#%%\n"
    }
   },
   "outputs": [
    {
     "name": "stdout",
     "output_type": "stream",
     "text": [
      "I'm 25 years old, so I'm 2 years older than you.\n"
     ]
    }
   ],
   "source": [
    "my_age = 25\n",
    "name = input(\"Hello there! What is your name? \")\n",
    "age = int(input(f\"Nice to meet you, {name}. How old are you? \"))\n",
    "if my_age > age:\n",
    "    date_diff_string = f\"I'm {my_age - age} years older than you.\"\n",
    "elif my_age < age:\n",
    "    date_diff_string = f\"I'm {age - my_age} years younger than you.\"\n",
    "else: # In this situation we can infer that the ages are equal\n",
    "    date_diff_string = \"we have the same age\"\n",
    "print(f\"I'm {my_age} years old, so {date_diff_string}\")"
   ]
  },
  {
   "cell_type": "markdown",
   "metadata": {
    "pycharm": {
     "name": "#%% md\n"
    }
   },
   "source": [
    "## Exercise 3: String Art"
   ]
  },
  {
   "cell_type": "markdown",
   "metadata": {
    "pycharm": {
     "name": "#%% md\n"
    }
   },
   "source": [
    "#### 3a. Drawing figures\n",
    "We start with some repetition of the theory about strings:"
   ]
  },
  {
   "cell_type": "markdown",
   "metadata": {
    "pycharm": {
     "name": "#%% md\n"
    }
   },
   "source": [
    "| Topic | Explanation |\n",
    "|-----------|--------|\n",
    "| `quotes` |\tA string is delimited by single quotes ('...') or double quotes (\"...\") |\n",
    "| `special characters` |\tCertain special characters can be used, such as \"\\n\" (for newline) and \"\\t\" (for a tab) \t|  \t \n",
    "| `printing special characters` |\tTo print the special characters, they must be preceded by a backslash (\\\\)\t |\n",
    "| `continue on next line` |\tA backslash (\\\\) at the end of a line is used to continue a string on the next line\t  \t |\n",
    "| `multi-line strings` |\tA multi-line print statement should be enclosed by three double or three single quotes (\"\"\"...\"\"\" of '''...''')\t | "
   ]
  },
  {
   "cell_type": "markdown",
   "metadata": {
    "pycharm": {
     "name": "#%% md\n"
    }
   },
   "source": [
    "Please run the code snippet below and observe what happens:"
   ]
  },
  {
   "cell_type": "code",
   "execution_count": 13,
   "metadata": {
    "pycharm": {
     "name": "#%%\n"
    }
   },
   "outputs": [
    {
     "name": "stdout",
     "output_type": "stream",
     "text": [
      "hello\n",
      "\n",
      "To print a newline use \\n\n",
      "She said: 'hello'\n",
      "\tThis is indented\n",
      "This is a very, very, very, very, very, very long print statement\n",
      "\n",
      "This is a multi-line print statement\n",
      "First line\n",
      "Second line\n",
      "\n"
     ]
    }
   ],
   "source": [
    "print('hello\\n')\n",
    "print('To print a newline use \\\\n')\n",
    "print('She said: \\'hello\\'')\n",
    "print('\\tThis is indented')\n",
    "print('This is a very, very, very, very, very, very \\\n",
    "long print statement')\n",
    "print('''\n",
    "This is a multi-line print statement\n",
    "First line\n",
    "Second line\n",
    "''')"
   ]
  },
  {
   "cell_type": "markdown",
   "metadata": {
    "pycharm": {
     "name": "#%% md\n"
    }
   },
   "source": [
    "Now write a Python script that prints the following figure using **only one line of code**! (so don't use triple quotes)\n",
    "\n",
    "        | | |\n",
    "         @ @\n",
    "          u\n",
    "        |\"\"\"|\n"
   ]
  },
  {
   "cell_type": "code",
   "execution_count": 14,
   "metadata": {
    "pycharm": {
     "name": "#%%\n"
    }
   },
   "outputs": [
    {
     "name": "stdout",
     "output_type": "stream",
     "text": [
      "| | |\n",
      " @ @ \n",
      "  u  \n",
      "|\"\"\"|\n"
     ]
    }
   ],
   "source": [
    "print('| | |\\n @ @ \\n  u  \\n|\"\"\"|')"
   ]
  },
  {
   "cell_type": "markdown",
   "metadata": {
    "pycharm": {
     "name": "#%% md\n"
    }
   },
   "source": [
    "#### 3b. Colors\n",
    "We start again with some repetition of the theory:"
   ]
  },
  {
   "cell_type": "markdown",
   "metadata": {
    "pycharm": {
     "name": "#%% md\n"
    }
   },
   "source": [
    "| Topic | Explanation |\n",
    "|-----------|--------|\n",
    "| a = b + c\t| if b and c are strings: concatenate b and c to form a new string a| \n",
    "| a = b * c\t| if b is an integer and c is a string: c is repeated b times to form a new string a |\n",
    "| a[0] |\t the first character of string a  |\n",
    "| len(a) |\t the number of characters in string a |\n",
    "| min(a) |\t the smallest element in string a (alphabetically first) |\n",
    "| max(a) |\t the largest element in string a (alphabetically last) |"
   ]
  },
  {
   "cell_type": "markdown",
   "metadata": {
    "pycharm": {
     "name": "#%% md\n"
    }
   },
   "source": [
    "Please run the code snippet below and observe what happens:"
   ]
  },
  {
   "cell_type": "code",
   "execution_count": 15,
   "metadata": {
    "pycharm": {
     "name": "#%%\n"
    }
   },
   "outputs": [
    {
     "name": "stdout",
     "output_type": "stream",
     "text": [
      "the cat is on the mat\n",
      "thethethethethe\n",
      "The first character of cat is c\n",
      "The word c has, 3 characters\n"
     ]
    }
   ],
   "source": [
    "b = 'the'\n",
    "c = 'cat'\n",
    "d = ' is on the mat'\n",
    "a = b + ' ' + c + d\n",
    "print(a)\n",
    "a = b * 5\n",
    "print(a)\n",
    "print('The first character of', c, 'is' , c[0])\n",
    "print('The word c has,', len(c) ,'characters')"
   ]
  },
  {
   "cell_type": "markdown",
   "metadata": {
    "pycharm": {
     "name": "#%% md\n"
    }
   },
   "source": [
    "Now write a program that asks users for their favorite color. Create the following output (assuming \"red\" is the chosen color). Use \"+\" and \"\\*\".\n",
    "It should work with any color name though.\n",
    "\n",
    "```xml\n",
    "red red red red red red red red red red  \n",
    "red                                 red\n",
    "red                                 red\n",
    "red red red red red red red red red red\n",
    "```"
   ]
  },
  {
   "cell_type": "code",
   "execution_count": 21,
   "metadata": {
    "pycharm": {
     "name": "#%%\n"
    }
   },
   "outputs": [
    {
     "name": "stdout",
     "output_type": "stream",
     "text": [
      "red red red red red red red red red red \n",
      "red \t\t\t\t\t\t\t\tred \n",
      "red \t\t\t\t\t\t\t\tred \n",
      "red red red red red red red red red red \n"
     ]
    }
   ],
   "source": [
    "color = input('what is your favorite color? ')\n",
    "color += ' '\n",
    "\n",
    "print(color * 10)\n",
    "print(color + '\\t' * 8 + color)\n",
    "print(color + '\\t' * 8 + color)\n",
    "print(color * 10)"
   ]
  },
  {
   "cell_type": "markdown",
   "metadata": {
    "pycharm": {
     "name": "#%% md\n"
    }
   },
   "source": [
    "## Exercise 4: String methods \n",
    "\n",
    "Remember that you can see all methods of the class `str` by using `dir()`. You can ignore all methods that start with one or two underscores. "
   ]
  },
  {
   "cell_type": "code",
   "execution_count": 22,
   "metadata": {
    "pycharm": {
     "name": "#%%\n"
    }
   },
   "outputs": [
    {
     "data": {
      "text/plain": "['__add__',\n '__class__',\n '__contains__',\n '__delattr__',\n '__dir__',\n '__doc__',\n '__eq__',\n '__format__',\n '__ge__',\n '__getattribute__',\n '__getitem__',\n '__getnewargs__',\n '__gt__',\n '__hash__',\n '__init__',\n '__init_subclass__',\n '__iter__',\n '__le__',\n '__len__',\n '__lt__',\n '__mod__',\n '__mul__',\n '__ne__',\n '__new__',\n '__reduce__',\n '__reduce_ex__',\n '__repr__',\n '__rmod__',\n '__rmul__',\n '__setattr__',\n '__sizeof__',\n '__str__',\n '__subclasshook__',\n 'capitalize',\n 'casefold',\n 'center',\n 'count',\n 'encode',\n 'endswith',\n 'expandtabs',\n 'find',\n 'format',\n 'format_map',\n 'index',\n 'isalnum',\n 'isalpha',\n 'isascii',\n 'isdecimal',\n 'isdigit',\n 'isidentifier',\n 'islower',\n 'isnumeric',\n 'isprintable',\n 'isspace',\n 'istitle',\n 'isupper',\n 'join',\n 'ljust',\n 'lower',\n 'lstrip',\n 'maketrans',\n 'partition',\n 'removeprefix',\n 'removesuffix',\n 'replace',\n 'rfind',\n 'rindex',\n 'rjust',\n 'rpartition',\n 'rsplit',\n 'rstrip',\n 'split',\n 'splitlines',\n 'startswith',\n 'strip',\n 'swapcase',\n 'title',\n 'translate',\n 'upper',\n 'zfill']"
     },
     "execution_count": 22,
     "metadata": {},
     "output_type": "execute_result"
    }
   ],
   "source": [
    "dir(str)"
   ]
  },
  {
   "cell_type": "markdown",
   "metadata": {
    "pycharm": {
     "name": "#%% md\n"
    }
   },
   "source": [
    "To see the explanation for a method of this class,  you can use `help(str.method)`. For example:"
   ]
  },
  {
   "cell_type": "code",
   "execution_count": 23,
   "metadata": {
    "pycharm": {
     "name": "#%%\n"
    }
   },
   "outputs": [
    {
     "name": "stdout",
     "output_type": "stream",
     "text": [
      "Help on method_descriptor:\n",
      "\n",
      "upper(self, /)\n",
      "    Return a copy of the string converted to uppercase.\n",
      "\n"
     ]
    }
   ],
   "source": [
    "help(str.upper)"
   ]
  },
  {
   "cell_type": "markdown",
   "metadata": {
    "pycharm": {
     "name": "#%% md\n"
    }
   },
   "source": [
    "#### 4a. Counting vowels\n",
    "Count how many of each vowel (a,e,i,o,u) there are in the text string in the next cell. Print the count for each vowel with a single formatted string. Remember that vowels can be both lower and uppercase."
   ]
  },
  {
   "cell_type": "code",
   "execution_count": 1,
   "metadata": {
    "pycharm": {
     "name": "#%%\n"
    }
   },
   "outputs": [
    {
     "name": "stdout",
     "output_type": "stream",
     "text": [
      "The vowel 'a' is in the text 98\ttimes\n",
      "The vowel 'e' is in the text 132\ttimes\n",
      "The vowel 'i' is in the text 76\ttimes\n",
      "The vowel 'o' is in the text 94\ttimes\n",
      "The vowel 'u' is in the text 53\ttimes\n"
     ]
    }
   ],
   "source": [
    "text = \"\"\"But I must explain to you how all this mistaken idea of denouncing pleasure and praising pain was born \n",
    "and I will give you a complete account of the system, and expound the actual teachings of the great explorer of the \n",
    "truth, the master-builder of human happiness. No one rejects, dislikes, or avoids pleasure itself, because it is \n",
    "pleasure, but because those who do not know how to pursue pleasure rationally encounter consequences that are \n",
    "extremely painful. Nor again is there anyone who loves or pursues or desires to obtain pain of itself, because it is \n",
    "pain, but because occasionally circumstances occur in which toil and pain can procure him some great pleasure. \n",
    "To take a trivial example, which of us ever undertakes laborious physical exercise, except to obtain some advantage \n",
    "from it? But who has any right to find fault with a man who chooses to enjoy a pleasure that has no annoying \n",
    "consequences, or one who avoids a pain that produces no resultant pleasure? On the other hand, we denounce with \n",
    "righteous indignation and dislike men who are so beguiled and demoralized by the charms of pleasure of the moment, \n",
    "so blinded by desire, that they cannot foresee the pain and trouble that are bound to ensue; and equal blame belongs \n",
    "to those who fail in their duty through weakness of will, which is the same as saying through shrinking from toil \n",
    "and pain.\"\"\"\n",
    "\n",
    "vowel_a = 'a'\n",
    "vowel_e = 'e'\n",
    "vowel_i = 'i'\n",
    "vowel_o = 'o'\n",
    "vowel_u = 'u'\n",
    "\n",
    "vowel_count_a = text.count(vowel_a) + text.count(vowel_a.upper())\n",
    "print(f\"The vowel '{vowel_a}' is in the text {vowel_count_a} times\")\n",
    "\n",
    "vowel_count_e = text.count(vowel_e) + text.count(vowel_e.upper())\n",
    "print(f\"The vowel '{vowel_e}' is in the text {vowel_count_e} times\")\n",
    "\n",
    "vowel_count_i = text.count(vowel_i) + text.count(vowel_i.upper())\n",
    "print(f\"The vowel '{vowel_i}' is in the text {vowel_count_i} times\")\n",
    "\n",
    "vowel_count_o = text.count(vowel_o) + text.count(vowel_o.upper())\n",
    "print(f\"The vowel '{vowel_o}' is in the text {vowel_count_o} times\")\n",
    "\n",
    "vowel_count_u = text.count(vowel_u) + text.count(vowel_u.upper())\n",
    "print(f\"The vowel '{vowel_u}' is in the text {vowel_count_u} times\")"
   ]
  },
  {
   "cell_type": "markdown",
   "metadata": {
    "pycharm": {
     "name": "#%% md\n"
    }
   },
   "source": [
    "#### 4b. Printing the lexicon\n",
    "Have a good look at the internal representation of the string below. Use a combination of string methods (you will need at least 3 different ones and some will have to be used multiple times) in the correct order to remove punctuation and redundant whitespaces, and print each word in lowercase characters on a new line. The result should look like:\n",
    "\n",
    "`the  \n",
    "quick  \n",
    "brown  \n",
    "fox  \n",
    "jumps  \n",
    "etc.`"
   ]
  },
  {
   "cell_type": "code",
   "execution_count": 3,
   "metadata": {
    "pycharm": {
     "name": "#%%\n"
    }
   },
   "outputs": [
    {
     "name": "stdout",
     "output_type": "stream",
     "text": [
      "           The quick, brown fox jumps over a lazy dog.\tDJs flock by when MTV ax quiz prog. \n",
      "Junk MTV quiz graced by fox whelps.\tBawds jog, flick quartz, vex nymphs. \n",
      "Waltz, bad nymph, for quick jigs vex!\tFox nymphs grab quick-jived waltz. \n",
      "Brick quiz whangs jumpy veldt fox.       \n",
      "\n",
      "'           The quick, brown fox jumps over a lazy dog.\\tDJs flock by when MTV ax quiz prog. \\nJunk MTV quiz graced by fox whelps.\\tBawds jog, flick quartz, vex nymphs. \\nWaltz, bad nymph, for quick jigs vex!\\tFox nymphs grab quick-jived waltz. \\nBrick quiz whangs jumpy veldt fox.       '\n"
     ]
    }
   ],
   "source": [
    "text = \"\"\"           The quick, brown fox jumps over a lazy dog.\\tDJs flock by when MTV ax quiz prog. \n",
    "Junk MTV quiz graced by fox whelps.\\tBawds jog, flick quartz, vex nymphs. \n",
    "Waltz, bad nymph, for quick jigs vex!\\tFox nymphs grab quick-jived waltz. \n",
    "Brick quiz whangs jumpy veldt fox.       \"\"\"\n",
    "\n",
    "print(text)\n",
    "print()\n",
    "print(repr(text))"
   ]
  },
  {
   "cell_type": "code",
   "execution_count": 4,
   "metadata": {
    "pycharm": {
     "name": "#%%\n"
    }
   },
   "outputs": [
    {
     "name": "stdout",
     "output_type": "stream",
     "text": [
      "the quick, brown fox jumps over a lazy dog.\n",
      "djs flock by when mtv ax quiz prog. \n",
      "junk mtv quiz graced by fox whelps.\n",
      "bawds jog, flick quartz, vex nymphs. \n",
      "waltz, bad nymph, for quick jigs vex!\n",
      "fox nymphs grab quick-jived waltz. \n",
      "brick quiz whangs jumpy veldt fox.\n"
     ]
    }
   ],
   "source": [
    "text = text.lstrip() # Remove leading whitespace\n",
    "text = text.rstrip() # Remove trailing whitespace\n",
    "text = text.replace('\\t', '\\n') # All tabs should be replaced with a newline\n",
    "text = text.lower() # Making the text lowercase\n",
    "\n",
    "print(text)"
   ]
  },
  {
   "cell_type": "markdown",
   "metadata": {
    "pycharm": {
     "name": "#%% md\n"
    }
   },
   "source": [
    "#### 4c. Passwords\n",
    "\n",
    "Write a program that asks a user for a password and checks some simple requirements of a password. If necessary, print out the following warnings (use if-statements):\n",
    "\n",
    "1. Your password should contain at least 6 characters.\n",
    "2. Your password should contain no more than 12 characters.\n",
    "3. Your password only contains alphabetic characters! Please also use digits and/or special characters.\n",
    "4. Your password only contains digits! Please also use alphabetic and/or special characters.\n",
    "5. Your password should contain at least one special character.\n",
    "6. Your password contains only lowercase letters! Please also use uppercase letters.\n",
    "7. Your password contains only uppercase letters! Please also use lowercase letters."
   ]
  },
  {
   "cell_type": "code",
   "execution_count": 6,
   "metadata": {
    "pycharm": {
     "name": "#%%\n"
    }
   },
   "outputs": [
    {
     "name": "stdout",
     "output_type": "stream",
     "text": [
      "Your password should contain no more than 12 characters.\n",
      "Your password only contains alphabetic characters! Please also use digits and/or special characters.\n"
     ]
    }
   ],
   "source": [
    "# password = 'PythonProgramming'\n",
    "password = input('Please enter a password: ')\n",
    "\n",
    "if len(password) < 6:\n",
    "    print('Your password should contain at least 6 characters.')\n",
    "if len(password) > 12:\n",
    "    print('Your password should contain no more than 12 characters.')\n",
    "if password.isalpha():\n",
    "    print('Your password only contains alphabetic characters! Please also use digits and/or special characters.')\n",
    "elif password.isnumeric():\n",
    "    print('Your password only contains digits! Please also use alphabetic and/or special characters.')\n",
    "elif password.isalnum():\n",
    "    print('Your password should contain at least one special character.')\n",
    "if password.islower():\n",
    "    print('Your password contains only lowercase letters! Please also use uppercase letters.')\n",
    "elif password.isupper():\n",
    "    print('Your password contains only uppercase letters! Please also use lowercase letters.')"
   ]
  },
  {
   "cell_type": "markdown",
   "metadata": {
    "pycharm": {
     "name": "#%% md\n"
    }
   },
   "source": [
    "## Exercise 5: Boolean Logic and Conditions"
   ]
  },
  {
   "cell_type": "markdown",
   "metadata": {
    "pycharm": {
     "name": "#%% md\n"
    }
   },
   "source": [
    "#### 5a. Speeding\n",
    "\n",
    "Write code to solve the following scenario:\n",
    "\n",
    "You are driving a little too fast, and a police officer stops you. Write code to compute and print the result, encoded as a string: 'no ticket', 'small ticket', 'big ticket'. If speed is 60 or less, the result is 'no ticket'. If speed is between 61 and 80 inclusive, the result is 'small ticket'. If speed is 81 or more, the result is 'big ticket'. Unless it is your birthday -- on that day, your speed can be 5 higher in all cases.\n"
   ]
  },
  {
   "cell_type": "code",
   "execution_count": 17,
   "metadata": {
    "pycharm": {
     "name": "#%%\n"
    }
   },
   "outputs": [
    {
     "name": "stdout",
     "output_type": "stream",
     "text": [
      "no ticket\n"
     ]
    }
   ],
   "source": [
    "# The speed and is_birthday variable can be customized in order to test the program\n",
    "speed = 65\n",
    "is_birthday = True\n",
    "\n",
    "small_ticket_lower_bound = 61\n",
    "small_ticket_upper_bound = 80\n",
    "\n",
    "if is_birthday:\n",
    "    speed -= 5\n",
    "\n",
    "if speed < small_ticket_lower_bound:\n",
    "    print('no ticket')\n",
    "elif small_ticket_lower_bound <= speed <= small_ticket_upper_bound:\n",
    "    print('small ticket')\n",
    "else:\n",
    "    print('big ticket')"
   ]
  },
  {
   "cell_type": "markdown",
   "metadata": {
    "pycharm": {
     "name": "#%% md\n"
    }
   },
   "source": [
    "#### 5b. Alarm clock\n",
    "\n",
    "Write code to set you alarm clock! Given the day of the week and information about whether you are currently on vacation or not, your code should print the time you want to be woken up following these constraints: \n",
    "\n",
    "Weekdays, the alarm should be \"7:00\" and on the weekend it should be \"10:00\". Unless we are on vacation -- then on weekdays it should be \"10:00\" and weekends it should be \"off\".\n",
    "\n",
    "\n",
    "Encode the weeks days as ints in the following way: 0=Sun, 1=Mon, 2=Tue, ...6=Sat. Encode the vacation infromation as boolean. Your code should assign the correct time to a variable as a string (following this format: \"7:00\") and print it.\n",
    "\n",
    "Note: Encoding the days as an integer helps you with defining conditions. You can check whether the week day is in a certain interval (instead of writing code for every single day). "
   ]
  },
  {
   "cell_type": "code",
   "execution_count": 25,
   "metadata": {
    "pycharm": {
     "name": "#%%\n"
    }
   },
   "outputs": [
    {
     "name": "stdout",
     "output_type": "stream",
     "text": [
      "07:00\n"
     ]
    }
   ],
   "source": [
    "alarm = ''\n",
    "\n",
    "monday    = 0\n",
    "tuesday   = 1\n",
    "wednesday = 2\n",
    "thursday  = 3\n",
    "friday    = 4\n",
    "saturday  = 5\n",
    "sunday    = 6\n",
    "\n",
    "# The variables is_vacation and current_day can be changed to test the program\n",
    "is_vacation = False\n",
    "current_day = wednesday\n",
    "\n",
    "if monday <= current_day <= friday:\n",
    "    if is_vacation:\n",
    "        alarm = '10:00'\n",
    "    else:\n",
    "        alarm = '07:00'\n",
    "elif saturday <= current_day <= sunday: # We do an extra sanity check, the current_day could be set to a number outside the defined range by accident\n",
    "    if is_vacation:\n",
    "        alarm = 'off'\n",
    "    else:\n",
    "        alarm = '10:00'\n",
    "print(alarm)"
   ]
  },
  {
   "cell_type": "markdown",
   "metadata": {
    "pycharm": {
     "name": "#%% md\n"
    }
   },
   "source": [
    "#### 5c. Parcel delivery\n",
    "The required postage for an  international parcel delivery service is calculated based on item weight and country of destination:\n",
    "\n",
    "\n",
    "| Tariff zone | 0 - 2 kg | 2 - 5 kg | 5 - 10 kg | 10 - 20 kg | 20 - 30 kg |\n",
    "|-------------|----------|----------|-----------|------------|------------|\n",
    "|EUR 1 | € 13.00 | € 19.50 | € 25.00 | € 34.00 | € 45.00 | \n",
    "|EUR 2 | € 18.50 | € 25.00 | € 31.00 | € 40.00 | € 55.00 | \n",
    "|World | € 24.30 | € 34.30 | € 58.30 | € 105.30 | - | \n",
    "\n",
    "Ask a user for the `weight` and `zone`. Use (nested) `if`-statements to find the required postage based on these variables. Assign the result to a variable `postage` and print the result using a full sentence:\n",
    "\n",
    "`The price of sending a [...] kg parcel to the [...] zone is € [...].`"
   ]
  },
  {
   "cell_type": "code",
   "execution_count": 9,
   "metadata": {
    "pycharm": {
     "name": "#%%\n"
    }
   },
   "outputs": [
    {
     "name": "stdout",
     "output_type": "stream",
     "text": [
      "The price of sending a 19.9 kg parcel to the World zone is €105.3.\n"
     ]
    }
   ],
   "source": [
    "weight = float(input('Please enter the weight of the parcel: '))\n",
    "zone = input('Please enter the tariff zone of the parcel: ')\n",
    "\n",
    "input_ok = True # Input is ok unless proven otherwise\n",
    "\n",
    "zone_eur_1 = 'EUR 1'\n",
    "zone_eur_2 = 'EUR 2'\n",
    "zone_world = 'World'\n",
    "\n",
    "postage = -1\n",
    "\n",
    "# Input validation checks:\n",
    "if weight < 0 or weight > 30:\n",
    "    print('The weight should be between 0 and 30 kg!')\n",
    "    input_ok = False\n",
    "if zone != zone_eur_1 and zone != zone_eur_2 and zone != zone_world:\n",
    "    print(f\"The three options for the tariff zone are '{zone_eur_1}', '{zone_eur_2}' and '{zone_world}' (case-sensitive)!\")\n",
    "    input_ok = False\n",
    "\n",
    "if input_ok:\n",
    "    if zone == zone_eur_1:\n",
    "        if 0 <= weight < 2:\n",
    "            postage = 13.0\n",
    "        elif 2 <= weight < 5:\n",
    "            postage = 19.5\n",
    "        elif 5 <= weight < 10:\n",
    "            postage = 25.0\n",
    "        elif 10 <= weight < 20:\n",
    "            postage = 34.0\n",
    "        else:\n",
    "            postage = 45.0\n",
    "    elif zone == zone_eur_2:\n",
    "        if 0 <= weight < 2:\n",
    "            postage = 18.5\n",
    "        elif 2 <= weight < 5:\n",
    "            postage = 25.0\n",
    "        elif 5 <= weight < 10:\n",
    "            postage = 31.0\n",
    "        elif 10 <= weight < 20:\n",
    "            postage = 40.0\n",
    "        else:\n",
    "            postage = 55.0\n",
    "    else:\n",
    "        if 0 <= weight < 2:\n",
    "            postage = 24.30\n",
    "        elif 2 <= weight < 5:\n",
    "            postage = 34.3\n",
    "        elif 5 <= weight < 10:\n",
    "            postage = 58.3\n",
    "        elif 10 <= weight < 20:\n",
    "            postage = 105.3\n",
    "\n",
    "    if postage == -1:\n",
    "        postage = 'undefined' # This can occur in the situation where tariff zone 'World' and weight 20-30 is entered\n",
    "    else:\n",
    "        postage = f'\\N{euro sign}{postage}'\n",
    "    print(f'The price of sending a {weight} kg parcel to the {zone} zone is {postage}.')"
   ]
  },
  {
   "cell_type": "code",
   "execution_count": null,
   "metadata": {
    "pycharm": {
     "name": "#%%\n"
    }
   },
   "outputs": [],
   "source": []
  }
 ],
 "metadata": {
  "anaconda-cloud": {},
  "kernelspec": {
   "display_name": "Python 3",
   "language": "python",
   "name": "python3"
  },
  "language_info": {
   "codemirror_mode": {
    "name": "ipython",
    "version": 3
   },
   "file_extension": ".py",
   "mimetype": "text/x-python",
   "name": "python",
   "nbconvert_exporter": "python",
   "pygments_lexer": "ipython3",
   "version": "3.8.3"
  }
 },
 "nbformat": 4,
 "nbformat_minor": 4
}