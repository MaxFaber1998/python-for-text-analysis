{
 "cells": [
  {
   "cell_type": "markdown",
   "metadata": {},
   "source": [
    "# Feedback for block I\n",
    "\n",
    "This assignment of block I is not graded. In this notebook, we give you an overview of different solutions and how we would grade them. The same scheme applies to the following assignments. \n",
    "\n",
    "**Today**\n",
    "\n",
    "* solutions, feedback and additional clarifications assignment 1\n",
    "* Solutions for this assignment will be uploaded to Canvas\n",
    "* subsequent assignments: feedback will be uploaded to Canvas, but we will not share full solutions\n",
    "* highly recommended: team up, compare, discuss\n",
    "\n",
    "\n",
    "**For Thursday**\n",
    "\n",
    "* Get started on Block II\n",
    "* If you are more advanced and know functions and arguments: Please don't get upset about our simplified explanation - this is to keep things simple for now. \n",
    "\n",
    "\n",
    "**Question/participation policy**\n",
    "\n",
    "* If you are a beginner: Please ask anything, say anything, even if you think it may be wrong.\n",
    "* If you are more advanced: Please try to give space to beginners. If you know the answer to a question or have a more advanced question, please state that you are not a beginner. \n",
    "\n"
   ]
  },
  {
   "cell_type": "markdown",
   "metadata": {},
   "source": [
    "**Grading for upcoming assignments:**\n",
    "\n",
    "* good (100%)\n",
    "* ok (50%)\n",
    "* not ok (0%)\n",
    "\n",
    "Each exercise has points. We treat the points as weights and calculate a final score.\n",
    "\n",
    "For example:\n",
    "\n",
    "Exercise 1: 100% of 2 points  \n",
    "\n",
    "Exercise 3: 50% of 5 point \n",
    "\n",
    "Exercise 3: 100% of 3 points\n",
    "\n",
    "Total = 1\\*2 + 0.5\\*5 + 1\\*3 = 7.5\n",
    "\n",
    "Grade: 7.5/10"
   ]
  },
  {
   "cell_type": "markdown",
   "metadata": {},
   "source": [
    "## Exercise 1: Calculation"
   ]
  },
  {
   "cell_type": "markdown",
   "metadata": {},
   "source": [
    "#### 1a. Average\n",
    "\n",
    "Define three variables `var1`, `var2` and `var3`. Calculate the average of these variables and assign it to the variable `average`. Print the outcome of your program as follows (use casting or an f-string):\n",
    "\n",
    "`The average of [...], [...] and [...] is: [...]`"
   ]
  },
  {
   "cell_type": "markdown",
   "metadata": {},
   "source": [
    "**Pay attention to:**\n",
    "\n",
    "* Bracketing \n",
    "* String concatenation (recommended: f-strings)"
   ]
  },
  {
   "cell_type": "markdown",
   "metadata": {},
   "source": [
    "**Good, clear:**"
   ]
  },
  {
   "cell_type": "code",
   "execution_count": null,
   "metadata": {},
   "outputs": [],
   "source": [
    "# average code\n",
    "var1 = 5\n",
    "var2 = 12\n",
    "var3 = 37\n",
    "\n",
    "average = (var1 + var2 + var3)/3\n",
    "\n",
    "print(f\"The average of {var1}, {var2} and {var3} is: {average}\")"
   ]
  },
  {
   "cell_type": "markdown",
   "metadata": {},
   "source": [
    "**Also good, but a bit less clear**"
   ]
  },
  {
   "cell_type": "code",
   "execution_count": null,
   "metadata": {},
   "outputs": [],
   "source": [
    "var1 = 5\n",
    "var2 = 6\n",
    "var3 = 13\n",
    "\n",
    "print(f'The average of {var1},{var2} and {var3} is {(var1+var2+var3)/3}')"
   ]
  },
  {
   "cell_type": "markdown",
   "metadata": {},
   "source": [
    "#### 1b. Book prices\n",
    "\n",
    "\n",
    "Calculate book prices for the following scenarios:\n",
    "\n",
    "Suppose the price of a book is 24.95 EUR, but if the book is bought by a bookstore, they get a 30 percent discount (as opposed to customers buying from an online stores). Shipping costs 3 EUR for the first copy and 75 cents for each additional copy. Shipping costs always apply (the books also have to be shipped to the bookstore). \n",
    "\n",
    "Write a program that can calculate the total costs for any number of copies for both bookstores and other customers. Use variables with clear names for your calculations and print the result using a full sentence.\n",
    "\n",
    "The program should use variables which indicate whether the customer is a bookstore or not and how many books are bought. You can simply assign values to the variables in you code or use the input function (both is accepted).\n",
    "\n",
    "\n",
    "**Tip**\n",
    "\n",
    "Start small and add things in steps. For instance, start by calculating the price minus the discount. Then add the additional steps. Also, it helps to a start by simply assuming a specific number of books (start with 1 and make sure it works with any other number). Do not forget to test your program!"
   ]
  },
  {
   "cell_type": "markdown",
   "metadata": {},
   "source": [
    "**Pay attention to**:\n",
    "\n",
    "* test your code\n",
    "* use intermediate steps - your first draft does not have to be the final version\n",
    "* generalize in steps"
   ]
  },
  {
   "cell_type": "markdown",
   "metadata": {},
   "source": [
    "**Approach**\n",
    "\n",
    "Simply write down the calculationn for a couple of scenarios. Then try to generalize."
   ]
  },
  {
   "cell_type": "code",
   "execution_count": 2,
   "metadata": {},
   "outputs": [
    {
     "name": "stdout",
     "output_type": "stream",
     "text": [
      "20.465 56.894999999999996\n",
      "27.95 79.35\n"
     ]
    }
   ],
   "source": [
    "# Tip:\n",
    "\n",
    "#Write down the individual calculations - then generalize\n",
    "\n",
    "price = 24.95\n",
    "discount_store = 0.7 #(1-0.3)\n",
    "shipping_first = 3\n",
    "shipping_other = 0.75\n",
    "\n",
    "# store:\n",
    "book1 = price * 0.7 + 3\n",
    "book3 = 3 * price * 0.7 + 3 3*0.75\n",
    "\n"
   ]
  },
  {
   "cell_type": "markdown",
   "metadata": {},
   "source": [
    "**Good**"
   ]
  },
  {
   "cell_type": "code",
   "execution_count": 7,
   "metadata": {},
   "outputs": [
    {
     "name": "stdin",
     "output_type": "stream",
     "text": [
      "How many books did you buy?:  1\n",
      "Are you a bookstore? y/n:  y\n"
     ]
    },
    {
     "name": "stdout",
     "output_type": "stream",
     "text": [
      "\n",
      "You bought 1 copies of the book which makes the total price:\n",
      "Book Price: 17.46\n",
      "Shipping: 3.0\n",
      "--------------------\n",
      "Total Price: 20.46\n"
     ]
    }
   ],
   "source": [
    "# complete the code below\n",
    "book_price = 24.95\n",
    "shipping_cost = 3\n",
    "additional_shipping_cost = 0.75\n",
    "\n",
    "n_books = int(input(\"How many books did you buy?: \"))\n",
    "customer_is_bookstore = input(\"Are you a bookstore? y/n: \")\n",
    "\n",
    "# you bookprice calculations here\n",
    "if customer_is_bookstore == \"y\":\n",
    "    tot_book_price = n_books*(book_price*0.7)\n",
    "else:\n",
    "    tot_book_price = n_books*book_price\n",
    "\n",
    "shipping = shipping_cost+((n_books-1)*additional_shipping_cost)\n",
    "total_price = tot_book_price + shipping\n",
    "\n",
    "print(f\"\\nYou bought {n_books} copies of the book which makes the total price:\\n\\\n",
    "Book Price: {round(tot_book_price,2)}\\n\\\n",
    "Shipping: {round(shipping,2)}\\n\\\n",
    "--------------------\\n\\\n",
    "Total Price: {round(total_price,2)}\")\n"
   ]
  },
  {
   "cell_type": "markdown",
   "metadata": {},
   "source": [
    "**Correct, but not very clear**\n",
    "\n",
    "What can be improved?\n"
   ]
  },
  {
   "cell_type": "code",
   "execution_count": 12,
   "metadata": {},
   "outputs": [
    {
     "name": "stdout",
     "output_type": "stream",
     "text": [
      "Buyer: Retail \n",
      "Number of books: 3 \n",
      "Total cost: 79.35\n"
     ]
    }
   ],
   "source": [
    "\n",
    "n_books = 3\n",
    "customer_is_bookstore = False\n",
    "\n",
    "book_price = 24.95\n",
    "bookstore_price = round(book_price*0.7, 2)\n",
    "\n",
    "shipping_cost_first = 3\n",
    "shipping_cost_more = 0.75\n",
    "\n",
    "books_cost = n_books*book_price if customer_is_bookstore == False else n_books*bookstore_price\n",
    "shipping_cost = shipping_cost_first+shipping_cost_more*(n_books-1) if n_books > 1 else shipping_cost_first*n_books\n",
    "\n",
    "total_cost = books_cost+shipping_cost\n",
    "customer = 'Bookstore' if customer_is_bookstore == True else 'Retail'\n",
    "print(f'Buyer: {customer} \\nNumber of books: {n_books} \\nTotal cost: {total_cost}')"
   ]
  },
  {
   "cell_type": "markdown",
   "metadata": {},
   "source": [
    "**Not ok - can you help?**\n",
    "\n",
    "--> Time to practice your debugging skills!"
   ]
  },
  {
   "cell_type": "code",
   "execution_count": null,
   "metadata": {},
   "outputs": [],
   "source": [
    "\n",
    "price_of_book = 24.95\n",
    "shipping = 3\n",
    "n_books = int(input(\"number of books\"))\n",
    "seller = str(input(\"is this for a store y/n\"))\n",
    "discount = (((price_of_book * 30) / 100)\n",
    "\n",
    "\n",
    "#if n_books >1:\n",
    "    #shipping = ((n_books - 1) * 0.75) + shipping\n",
    "\n",
    "#if seller == \"y\":\n",
    "    #price_of_book = price_of_book - discount\n",
    "\n",
    "total = (price_of_book * n_books) + shipping\n",
    "\n",
    "final_message = print(str('your total is ') + str(total))\n",
    "\n",
    "\n",
    "print(shipping)\n",
    "print(price_of_book)\n",
    "print(discount)\n",
    "print(price_of_book - discount)"
   ]
  },
  {
   "cell_type": "markdown",
   "metadata": {},
   "source": [
    "**Can you fix this?**\n",
    "\n",
    "What is not taken into account?"
   ]
  },
  {
   "cell_type": "code",
   "execution_count": null,
   "metadata": {},
   "outputs": [],
   "source": [
    "n_books = float(input(\"Enter a number: \"))\n",
    "customer_is_bookstore = \"Yes\"\n",
    "# you bookprice calculations here\n",
    "\n",
    "if customer_is_bookstore == \"Yes\":\n",
    "    if n_books >= 1:\n",
    "        print(0.7*(n_books*24.95)+3+0.75*n_books)\n",
    "    elif n_books == 0:\n",
    "        print(0)\n",
    "else:\n",
    "    print(n_books*24.95+3+0.75*n_books)\n"
   ]
  },
  {
   "cell_type": "markdown",
   "metadata": {},
   "source": [
    "#### 1c. The modulus operator \n",
    "\n",
    "There is one operator (like the ones for multiplication and subtraction) that we did not discuss yet, namely the modulus operator %. Could you figure out by yourself what it does when you place it between two numbers (e.g. 113 % 9)? (PS: Try to figure it out by yourself first, by trying multiple combinations of numbers. If you do not manage, it's OK to use online resources...) \n",
    "\n",
    "You don't need this operator all that often, but when you do, it comes in really handy! Also, it is important to learn how to figure out what operators/methods/functions you have never seen before do by playing with code, googling or reading documentation. \n"
   ]
  },
  {
   "cell_type": "code",
   "execution_count": 136,
   "metadata": {},
   "outputs": [
    {
     "name": "stdout",
     "output_type": "stream",
     "text": [
      "1\n",
      "0\n",
      "3\n",
      "0\n"
     ]
    }
   ],
   "source": [
    "print(5 % 2)\n",
    "print(10 % 2)\n",
    "print(7 % 4)\n",
    "print(8 % 4)"
   ]
  },
  {
   "cell_type": "code",
   "execution_count": 134,
   "metadata": {},
   "outputs": [
    {
     "name": "stdout",
     "output_type": "stream",
     "text": [
      "2.5\n"
     ]
    }
   ],
   "source": [
    "print(5/2)"
   ]
  },
  {
   "cell_type": "code",
   "execution_count": 157,
   "metadata": {},
   "outputs": [
    {
     "name": "stdout",
     "output_type": "stream",
     "text": [
      "2\n"
     ]
    }
   ],
   "source": [
    "print(5//2)"
   ]
  },
  {
   "cell_type": "markdown",
   "metadata": {},
   "source": [
    "**Help the cashier**\n",
    "\n",
    "Can you use the modulus operator you just learned about to solve the following task? Imagine you want to help cashiers to return the change in a convenient way. This means you do not want to return hands full of small coins, but rather use bills and as few coins as possible. \n",
    "\n",
    "Write code  that classifies a given amount of money into smaller monetary units. Given a specific amout of dollars, your program should report the maximum number of dollar bills,  quarters, dimes, nickels, and pennies. \n",
    "\n",
    "Set the amount variable to 11.67. You code should output a report listing the monetary equivalent in dollars, quarters, dimes, nickels, and pennies (one quarter is equivalent to 25 cents; one dime to 10 cents; one nickle to 5 cents and a pennie to 1 cent). Your program should report the maximum number of dollars, then the number of quarters, dimes, nickels, and pennies, in this order, to result in the minimum number of coins. Here are the steps in developing the program:\n",
    "\n",
    "1. Convert the amount (11.67) into cents (1167).\n",
    "2. First get the amount of cents that you would get after subtracting the maximum amount of dollars (100 cents) using the modulus operator (67 cents).\n",
    "3. Then subtract the remainder (67 cents) from the total amount of cents (1167 cents) and divide this by 100 to find the number of dollars.\n",
    "4. Use the modulus operator again to find out the remainder after subtracting the maximum amount of quarters (17 cents).\n",
    "5. Subtract this remainder (17 cents) from the previous remainder (67 cents) and divide this by 25 to find out the number of quarters.\n",
    "6. Follow the same steps for the dimes, nickels and pennies.\n",
    "7. Display the result for your cashier! (the amount of dollars, quarters, dimes, nickels and pennies that (s)he would have to give back)`"
   ]
  },
  {
   "cell_type": "code",
   "execution_count": null,
   "metadata": {},
   "outputs": [],
   "source": [
    "# Convert the amount (11.67) into cents (1167).\n"
   ]
  },
  {
   "cell_type": "code",
   "execution_count": 162,
   "metadata": {},
   "outputs": [
    {
     "name": "stdout",
     "output_type": "stream",
     "text": [
      "67.0\n",
      "11.0\n"
     ]
    }
   ],
   "source": [
    "dollars = 11.67\n",
    "one_dollar_in_cents = 100\n",
    "dollars_in_cents = dollars * one_dollar_in_cents\n",
    "remainder_cents = dollars_in_cents % one_dollar_in_cents\n",
    "dollar_bills = (dollars_in_cents - remainder_cents) / one_dollar_in_cents\n",
    "#remainder = 100 % 67\n",
    "#print(remainder)\n",
    "print(remainder_cents)\n",
    "print(dollar_bills)"
   ]
  },
  {
   "cell_type": "code",
   "execution_count": 156,
   "metadata": {},
   "outputs": [
    {
     "name": "stdout",
     "output_type": "stream",
     "text": [
      "11.0\n",
      "2.0\n"
     ]
    }
   ],
   "source": [
    "# approach following the steps\n",
    "\n",
    "total = 11.67\n",
    "cents_total = 11.67*100\n",
    "dollar1 = 100\n",
    "cents_rem_dollars = cents%dollar1\n",
    "cents_in_dollars = cents-cents_rem_dollars\n",
    "dollar_bills = cents_in_dollars/dollar1\n",
    "print(dollar_bills)\n",
    "\n",
    "quarter1 = 25\n",
    "cents_rem_quarters = cents_rem_dollars % quarter1\n",
    "cents_in_quarters = cents_rem_dollars - cents_rem_quarters\n",
    "quarter_coins = cents_in_quarters / quarter1 \n",
    "print(quarter_coins)\n",
    "\n"
   ]
  },
  {
   "cell_type": "markdown",
   "metadata": {},
   "source": [
    "**Tip for improvement for all solutions**\n",
    "\n",
    "Use variable names whereever possible.  --> e.g. cents_in_dollars (100), cents_in_quarters (25), ..."
   ]
  },
  {
   "cell_type": "markdown",
   "metadata": {},
   "source": [
    "**Good**"
   ]
  },
  {
   "cell_type": "code",
   "execution_count": 19,
   "metadata": {},
   "outputs": [
    {
     "name": "stdout",
     "output_type": "stream",
     "text": [
      "Dollars: 11.0\n",
      "Quarters: 2.0\n",
      "Dimes:     1.0\n",
      "Nickels: 1.0\n",
      "Pennies: 2.0\n"
     ]
    }
   ],
   "source": [
    "# cashier code\n",
    "amount = 11.67\n",
    "amount_in_cents = amount*100\n",
    "remainder_dollars = amount_in_cents%100\n",
    "max_amount_dollars = (amount_in_cents- remainder_dollars) / 100\n",
    "remainder_quarters = remainder_dollars%25\n",
    "max_amount_quarters = (remainder_dollars-remainder_quarters)/25\n",
    "remainder_dimes = remainder_quarters%10\n",
    "max_amount_dimes = (remainder_quarters-remainder_dimes)/10\n",
    "remainder_nickels = remainder_quarters%5\n",
    "max_amount_nickels = (remainder_dimes-remainder_nickels)/5\n",
    "remainder_pennies = remainder_quarters%1\n",
    "max_amount_pennies = (remainder_nickels-remainder_pennies)/1\n",
    "\n",
    "#print result\n",
    "print(f\"Dollars: {max_amount_dollars}\\nQuarters: {max_amount_quarters}\\nDimes: \\\n",
    "    {max_amount_dimes}\\nNickels: {max_amount_nickels}\\nPennies: {max_amount_pennies}\")\n",
    "\n",
    "\n"
   ]
  },
  {
   "cell_type": "markdown",
   "metadata": {},
   "source": [
    "**Good and very clear!**"
   ]
  },
  {
   "cell_type": "code",
   "execution_count": 18,
   "metadata": {},
   "outputs": [
    {
     "name": "stdout",
     "output_type": "stream",
     "text": [
      "Give back 11.0 dollars, 2.0 quarters, 1.0 dimes, 1.0 nickles and 2.0 cents.\n"
     ]
    }
   ],
   "source": [
    "# cashier code\n",
    "\n",
    "# set amount and convert to cents\n",
    "amount = 11.67\n",
    "amount_in_cents = amount * 100\n",
    "\n",
    "# calculate number of dollars\n",
    "amount_minus_dollars = amount_in_cents % 100\n",
    "n_dollars = (amount_in_cents - amount_minus_dollars) / 100\n",
    "\n",
    "# calculate number of quarters\n",
    "amount_minus_quarters = amount_minus_dollars % 25\n",
    "n_quarters = (amount_minus_dollars - amount_minus_quarters) / 25\n",
    "\n",
    "# calculate number of dimes\n",
    "amount_minus_dimes = amount_minus_quarters % 10\n",
    "n_dimes = (amount_minus_quarters - amount_minus_dimes) / 10\n",
    "\n",
    "# calculate number of nickles and pennies\n",
    "n_cents = amount_minus_dimes % 5\n",
    "n_nickles = (amount_minus_dimes - n_cents) / 5\n",
    "\n",
    "# print result\n",
    "print(f\"Give back {n_dollars} dollars, {n_quarters} quarters, \\\n",
    "{n_dimes} dimes, {n_nickles} nickles and {n_cents} cents.\")"
   ]
  },
  {
   "cell_type": "markdown",
   "metadata": {},
   "source": [
    "**OK: Correct, but hard to understand, does not use modulus operators**"
   ]
  },
  {
   "cell_type": "code",
   "execution_count": 21,
   "metadata": {},
   "outputs": [
    {
     "name": "stdout",
     "output_type": "stream",
     "text": [
      "dollars: 11\n",
      " quarters: 2\n",
      " dimes: 1\n",
      " nickles: 1\n",
      " pennies: 2\n"
     ]
    }
   ],
   "source": [
    "# Not following instructions, but also correcrt:\n",
    "\n",
    "# cashier code\n",
    "amount = 11.67\n",
    "cents = int(amount * 100)\n",
    "\n",
    "dollars, cents = (cents // 100), cents % 100\n",
    "quarters, cents = (cents // 25), cents % 25\n",
    "dimes, cents = (cents // 10), cents % 10\n",
    "nickles, cents = (cents // 5), cents % 5\n",
    "pennies, cents = (cents // 1), cents % 1\n",
    "\n",
    "print(f\"dollars: {dollars}\\n quarters: {quarters}\\n dimes: {dimes}\\n nickles: {nickles}\\n pennies: {pennies}\")"
   ]
  },
  {
   "cell_type": "markdown",
   "metadata": {},
   "source": [
    "**Correct, but please use clear variable names:**"
   ]
  },
  {
   "cell_type": "code",
   "execution_count": 22,
   "metadata": {},
   "outputs": [
    {
     "name": "stdout",
     "output_type": "stream",
     "text": [
      "dollar: 11.0\n",
      "Quarter: 2.0\n",
      "Dimes: 1.0\n",
      "Nickel: 1.0\n",
      "Pennie: 2.0\n"
     ]
    }
   ],
   "source": [
    "x = 11.67\n",
    "x_cents= x * 100\n",
    "remaining_cents = x_cents % 100\n",
    "x_dollars = x_cents - remaining_cents\n",
    "dollar = x_dollars/100\n",
    "\n",
    "x = remaining_cents % 25\n",
    "x1 = remaining_cents - x\n",
    "quarters = x1 / 25\n",
    "\n",
    "x_dimes = x % 10\n",
    "x2=x-x_dimes\n",
    "dimes = x2/10\n",
    "\n",
    "x_nickels = x_dimes % 5\n",
    "x3= x_dimes-x_nickels \n",
    "nickels=x3/5\n",
    "\n",
    "x_pennie = x_dimes-x3\n",
    "pennie=x_pennie/1\n",
    "\n",
    "print(\"dollar:\",dollar)\n",
    "print(\"Quarter:\",quarters)\n",
    "print(\"Dimes:\",dimes)\n",
    "print(\"Nickel:\",nickels)\n",
    "print(\"Pennie:\",pennie)"
   ]
  },
  {
   "cell_type": "markdown",
   "metadata": {},
   "source": [
    "## Exercise 2: Printing and user input"
   ]
  },
  {
   "cell_type": "markdown",
   "metadata": {},
   "source": [
    "#### 2a. Difference between \",\" and \"+\"\n",
    "\n",
    "What is the difference between using **+** and **,** in a print statement? Illustrate by using both in each of the following:\n",
    "\n",
    "* calling the `print()` fuction with multiple strings\n",
    "* printing combinations of strings and integers\n",
    "* concatenating multiple strings and assign to one single variable\n",
    "* concatenating strings and integers and assign to one single variable"
   ]
  },
  {
   "cell_type": "code",
   "execution_count": 132,
   "metadata": {},
   "outputs": [
    {
     "name": "stdout",
     "output_type": "stream",
     "text": [
      "hello you\n",
      "helloyou\n"
     ]
    }
   ],
   "source": [
    "# clear\n",
    "print('hello', 'you')\n",
    "print('hello'+'you')"
   ]
  },
  {
   "cell_type": "markdown",
   "metadata": {},
   "source": [
    "####  2b. Small Talk\n",
    "Write a program to have a little conversation with someone. First ask them for their name and their age, and then say something about your own age compared to theirs. Your code should result in a conversation following this example:\n",
    "\n",
    "> `Hello there! What is your name?`\n",
    "\n",
    "> -- Emily.\n",
    "\n",
    "> `Nice to meet you, Emily. How old are you?`\n",
    "\n",
    "> -- 23\n",
    "\n",
    "> `I'm 25 years old, so I'm 2 years older than you.`\n",
    "\n",
    "Also account for situations where the other person is older or the same age. You will need to use `if-else`-statements!"
   ]
  },
  {
   "cell_type": "markdown",
   "metadata": {},
   "source": [
    "**Pay attention to:**\n",
    "\n",
    "* input() returns a string --> convert to int to use in comparisons\n",
    "* Include all three scenarios\n",
    "* Use string concatenation (recommended: f-strings) to personalize the chat"
   ]
  },
  {
   "cell_type": "markdown",
   "metadata": {},
   "source": [
    "**Good**"
   ]
  },
  {
   "cell_type": "code",
   "execution_count": 25,
   "metadata": {},
   "outputs": [
    {
     "name": "stdin",
     "output_type": "stream",
     "text": [
      "Hello there! What is your name?  pia\n",
      "Nice to meet you, pia. How old are you?  30\n"
     ]
    },
    {
     "name": "stdout",
     "output_type": "stream",
     "text": [
      "I'm 25 years old, so I'm 5 years younger than you.\n"
     ]
    }
   ],
   "source": [
    "name = input(\"Hello there! What is your name? \")\n",
    "# finish this code\n",
    "\n",
    "age = int(input(f\"Nice to meet you, {name}. How old are you? \"))\n",
    "\n",
    "if age > 25:\n",
    "    comparison_string = f\"I'm {age - 25} years younger than you\"\n",
    "elif age == 25:\n",
    "    comparison_string = 'we are the same age'\n",
    "else:\n",
    "    comparison_string = f\"I'm {25 - age} years older than you\"\n",
    "\n",
    "print(f\"I'm 25 years old, so {comparison_string}.\")"
   ]
  },
  {
   "cell_type": "markdown",
   "metadata": {},
   "source": [
    "**Partially correct - what is missing?**"
   ]
  },
  {
   "cell_type": "code",
   "execution_count": 23,
   "metadata": {},
   "outputs": [
    {
     "name": "stdin",
     "output_type": "stream",
     "text": [
      "Hello there! What is your name?  pia\n",
      "Nice to meet you, Emily. How old are you? 30\n"
     ]
    },
    {
     "name": "stdout",
     "output_type": "stream",
     "text": [
      "I'm 25 years old, so you are 5 years older than me.\n"
     ]
    }
   ],
   "source": [
    "name = input(\"Hello there! What is your name? \")\n",
    "age = int(input(\"Nice to meet you, Emily. How old are you?\"))\n",
    "if (age > 25):\n",
    "    x= age - 25\n",
    "    print(\"I'm 25 years old, so you are %d years older than me.\" %(x))\n",
    "elif  (age == 25):\n",
    "    print(\"same pinch\")\n",
    "else:\n",
    "    y = 25-age\n",
    "    print(\"I'm 25 years old, so I'm %d years older than you.\" %(y))"
   ]
  },
  {
   "cell_type": "markdown",
   "metadata": {},
   "source": [
    "**Partially correct, but not following instructions**\n",
    "\n",
    "What else could be improved? Tip: look for repetitions."
   ]
  },
  {
   "cell_type": "code",
   "execution_count": null,
   "metadata": {},
   "outputs": [],
   "source": [
    "name = input(\"Hello there! What is your name? \")\n",
    "# finish this code\n",
    "age = input(f\"Nice to meet you, {name}. How old are you?\")\n",
    "\n",
    "if int(age) == 25:\n",
    "    print(\"Then we are the same age! I am also\", 25, \"years old.\")\n",
    "elif int(age) <= 20:\n",
    "    print(\"Oh, I feel so old. Let's not talk about age anymore.\")\n",
    "elif int(age) >= 30:\n",
    "    print(\"Wow, you're basically a fossil! How fascinating.\")\n",
    "else:\n",
    "    print(\"A fine age indeed. Let's find the nearest club.\")"
   ]
  },
  {
   "cell_type": "markdown",
   "metadata": {},
   "source": [
    "## Exercise 3: String Art"
   ]
  },
  {
   "cell_type": "markdown",
   "metadata": {},
   "source": [
    "#### 3a. Drawing figures\n",
    "We start with some repetition of the theory about strings:"
   ]
  },
  {
   "cell_type": "markdown",
   "metadata": {},
   "source": [
    "| Topic | Explanation |\n",
    "|-----------|--------|\n",
    "| `quotes` |\tA string is delimited by single quotes ('...') or double quotes (\"...\") |\n",
    "| `special characters` |\tCertain special characters can be used, such as \"\\n\" (for newline) and \"\\t\" (for a tab) \t|  \t \n",
    "| `printing special characters` |\tTo print the special characters, they must be preceded by a backslash (\\\\)\t |\n",
    "| `continue on next line` |\tA backslash (\\\\) at the end of a line is used to continue a string on the next line\t  \t |\n",
    "| `multi-line strings` |\tA multi-line print statement should be enclosed by three double or three single quotes (\"\"\"...\"\"\" of '''...''')\t | "
   ]
  },
  {
   "cell_type": "markdown",
   "metadata": {},
   "source": [
    "Now write a Python script that prints the following figure using **only one line of code**! (so don't use triple quotes)\n",
    "\n",
    "        | | |\n",
    "         @ @\n",
    "          u\n",
    "        |\"\"\"|\n"
   ]
  },
  {
   "cell_type": "markdown",
   "metadata": {},
   "source": [
    "**Good**"
   ]
  },
  {
   "cell_type": "code",
   "execution_count": 26,
   "metadata": {},
   "outputs": [
    {
     "name": "stdout",
     "output_type": "stream",
     "text": [
      "| | |\n",
      " @ @\n",
      "  u\n",
      "|\"\"\"|\n"
     ]
    }
   ],
   "source": [
    "# your code here\n",
    "\n",
    "print('| | |\\n @ @\\n  u\\n|\\\"\\\"\\\"|')"
   ]
  },
  {
   "cell_type": "markdown",
   "metadata": {},
   "source": [
    "**Good**"
   ]
  },
  {
   "cell_type": "code",
   "execution_count": 27,
   "metadata": {},
   "outputs": [
    {
     "name": "stdout",
     "output_type": "stream",
     "text": [
      "\t| | |\n",
      "\t @ @\n",
      "\t  u\n",
      "\t|\"\"\"|\n"
     ]
    }
   ],
   "source": [
    "# your code here\n",
    "print('\\t| | |\\n\\t @ @\\n\\t  u\\n\\t|\"\"\"|')"
   ]
  },
  {
   "cell_type": "markdown",
   "metadata": {},
   "source": [
    "#### 3b. Colors\n",
    "We start again with some repetition of the theory:"
   ]
  },
  {
   "cell_type": "markdown",
   "metadata": {},
   "source": [
    "| Topic | Explanation |\n",
    "|-----------|--------|\n",
    "| a = b + c\t| if b and c are strings: concatenate b and c to form a new string a| \n",
    "| a = b * c\t| if b is an integer and c is a string: c is repeated b times to form a new string a |\n",
    "| a[0] |\t the first character of string a  |\n",
    "| len(a) |\t the number of characters in string a |\n",
    "| min(a) |\t the smallest element in string a (alphabetically first) |\n",
    "| max(a) |\t the largest element in string a (alphabetically last) |"
   ]
  },
  {
   "cell_type": "markdown",
   "metadata": {},
   "source": [
    "Now write a program that asks users for their favorite color. Create the following output (assuming \"red\" is the chosen color). Use \"+\" and \"\\*\".\n",
    "It should work with any color name though.\n",
    "\n",
    "```xml\n",
    "red red red red red red red red red red  \n",
    "red                                 red\n",
    "red                                 red\n",
    "red red red red red red red red red red\n",
    "```"
   ]
  },
  {
   "cell_type": "markdown",
   "metadata": {},
   "source": [
    "**Pay attention to**\n",
    "\n",
    "* generalization\n",
    "* breaking up lines into components\n",
    "* using variable names\n"
   ]
  },
  {
   "cell_type": "markdown",
   "metadata": {},
   "source": [
    "**OK, what could be improved?**\n",
    "\n",
    "--> Try red and then try blue"
   ]
  },
  {
   "cell_type": "code",
   "execution_count": 143,
   "metadata": {},
   "outputs": [
    {
     "name": "stdout",
     "output_type": "stream",
     "text": [
      "blue blue blue blue blue blue blue blue blue blue \n",
      "blue                                         blue\n",
      "blue                                 blue\n",
      "blue blue blue blue blue blue blue blue blue blue \n"
     ]
    }
   ],
   "source": [
    "#color = input('what is your favorite color? ')\n",
    "\n",
    "color = input('what is your favorite color? ')\n",
    "\n",
    "print((color + \" \")*10)\n",
    "print(color + \"                                 \" + color)\n",
    "print(color + \"                                 \" + color)\n",
    "print((color + \" \")*10)"
   ]
  },
  {
   "cell_type": "code",
   "execution_count": 140,
   "metadata": {},
   "outputs": [],
   "source": [
    "# Can you fix this? What is the problem?"
   ]
  },
  {
   "cell_type": "markdown",
   "metadata": {},
   "source": [
    "**Very good!**\n",
    "\n",
    "Excellent generalization!\n",
    "\n",
    "--> Can you generalize even further?"
   ]
  },
  {
   "cell_type": "code",
   "execution_count": 30,
   "metadata": {},
   "outputs": [
    {
     "name": "stdin",
     "output_type": "stream",
     "text": [
      "what is your favorite color?  yellow\n"
     ]
    },
    {
     "name": "stdout",
     "output_type": "stream",
     "text": [
      "yellow yellow yellow yellow yellow yellow yellow yellow yellow yellow \n",
      "yellow                                                         yellow\n",
      "yellow                                                         yellow\n",
      "yellow yellow yellow yellow yellow yellow yellow yellow yellow yellow \n"
     ]
    }
   ],
   "source": [
    "# ask for input\n",
    "color = input('what is your favorite color? ')\n",
    "\n",
    "# defining the white space for 2nd & 3rd row. \n",
    "## every space and letter between the first and last word on the row needs to become a space\n",
    "## taking into account the length of the input, and the distance between the first and last word\n",
    "white_space = ((len(color) + 2) * \" \") + ((len(color) + 1) * 7 * \" \") \n",
    "\n",
    "#result\n",
    "print((color + \" \") * 10)\n",
    "print(color + white_space + color)\n",
    "print(color + white_space + color)\n",
    "print((color + \" \") * 10)"
   ]
  },
  {
   "cell_type": "markdown",
   "metadata": {},
   "source": [
    "## Exercise 4: String methods \n",
    "\n",
    "Remember that you can see all methods of the class `str` by using `dir()`. You can ignore all methods that start with one or two underscores."
   ]
  },
  {
   "cell_type": "markdown",
   "metadata": {},
   "source": [
    "#### 4a. Counting vowels\n",
    "Count how many of each vowel (a,e,i,o,u) there are in the text string in the next cell. Print the count for each vowel with a single formatted string. Remember that vowels can be both lower and uppercase."
   ]
  },
  {
   "cell_type": "code",
   "execution_count": 31,
   "metadata": {},
   "outputs": [],
   "source": [
    "text = \"\"\"But I must explain to you how all this mistaken idea of denouncing pleasure and praising pain was born \n",
    "and I will give you a complete account of the system, and expound the actual teachings of the great explorer of the \n",
    "truth, the master-builder of human happiness. No one rejects, dislikes, or avoids pleasure itself, because it is \n",
    "pleasure, but because those who do not know how to pursue pleasure rationally encounter consequences that are \n",
    "extremely painful. Nor again is there anyone who loves or pursues or desires to obtain pain of itself, because it is \n",
    "pain, but because occasionally circumstances occur in which toil and pain can procure him some great pleasure. \n",
    "To take a trivial example, which of us ever undertakes laborious physical exercise, except to obtain some advantage \n",
    "from it? But who has any right to find fault with a man who chooses to enjoy a pleasure that has no annoying \n",
    "consequences, or one who avoids a pain that produces no resultant pleasure? On the other hand, we denounce with \n",
    "righteous indignation and dislike men who are so beguiled and demoralized by the charms of pleasure of the moment, \n",
    "so blinded by desire, that they cannot foresee the pain and trouble that are bound to ensue; and equal blame belongs \n",
    "to those who fail in their duty through weakness of will, which is the same as saying through shrinking from toil \n",
    "and pain.\"\"\""
   ]
  },
  {
   "cell_type": "markdown",
   "metadata": {},
   "source": [
    "**Pay attention to:**\n",
    "\n",
    "* find the right string method\n",
    "* count upper and lower cased characters"
   ]
  },
  {
   "cell_type": "markdown",
   "metadata": {},
   "source": [
    "**Good**"
   ]
  },
  {
   "cell_type": "code",
   "execution_count": 144,
   "metadata": {},
   "outputs": [
    {
     "name": "stdout",
     "output_type": "stream",
     "text": [
      "Amount of vowels in this text:  \n",
      "11 A's\n",
      "9 E's\n",
      "10 I's \n",
      "11 O's \n",
      "10 U's\n"
     ]
    }
   ],
   "source": [
    "# count each vowel, both for uppercase and lowercase\n",
    "vowel_a = text.count(\"a\") + text.count(\"A\")\n",
    "vowel_e = text.count(\"e\") + text.count(\"E\")\n",
    "vowel_i = text.count(\"i\") + text.count(\"I\")\n",
    "vowel_o = text.count(\"o\") + text.count(\"O\")\n",
    "vowel_u = text.count(\"u\") + text.count(\"U\")\n",
    "\n",
    "# print result\n",
    "print (f\"\"\"Amount of vowels in this text:  \n",
    "{vowel_a} A's\n",
    "{vowel_e} E's\n",
    "{vowel_i} I's \n",
    "{vowel_o} O's \n",
    "{vowel_u} U's\"\"\")"
   ]
  },
  {
   "cell_type": "markdown",
   "metadata": {},
   "source": [
    "**Not ok: Partially Correct solution, but does not use string methods**\n",
    "\n",
    "Check: What is missing here?"
   ]
  },
  {
   "cell_type": "code",
   "execution_count": 33,
   "metadata": {},
   "outputs": [
    {
     "name": "stdout",
     "output_type": "stream",
     "text": [
      " a: 98\n",
      " e: 132 \n",
      " u: 53 \n",
      " o: 93 \n",
      " i: 74\n"
     ]
    }
   ],
   "source": [
    "a, e, i, o, u = 0, 0, 0, 0, 0\n",
    "for char in text:\n",
    "    if char == \"a\":\n",
    "        a += 1\n",
    "    elif char == \"e\":\n",
    "        e += 1\n",
    "    elif char == \"u\":\n",
    "        u += 1\n",
    "    elif char == \"o\":\n",
    "        o += 1\n",
    "    elif char == \"i\":\n",
    "        i += 1\n",
    "\n",
    "print(\" a: {}\\n e: {} \\n u: {} \\n o: {} \\n i: {}\".format(a, e, u, o, i))"
   ]
  },
  {
   "cell_type": "markdown",
   "metadata": {},
   "source": [
    "**Good**\n",
    "\n",
    "Interesting solution! Can you help with the questions?\n",
    "\n",
    "What does text.casefold do?\n",
    "\n",
    "What do the square brackets in count() mean?"
   ]
  },
  {
   "cell_type": "code",
   "execution_count": 145,
   "metadata": {},
   "outputs": [
    {
     "name": "stdout",
     "output_type": "stream",
     "text": [
      "11 9 10 11 10\n",
      "Number of a and A counted: 11 Number of e and E counted: 9 Number of i and I counted: 10 Number of o and O counted: 11 Number of u and U counted: 10\n"
     ]
    }
   ],
   "source": [
    "# your code here\n",
    "text_notcasesensitive = text.casefold() \n",
    "a_count = text_notcasesensitive.count('a'[::])\n",
    "e_count = text_notcasesensitive.count('e'[::])\n",
    "i_count = text_notcasesensitive.count('i'[::])\n",
    "o_count = text_notcasesensitive.count('o'[::])\n",
    "u_count = text_notcasesensitive.count('u'[::])\n",
    "print (a_count,e_count, i_count,o_count, u_count) # Question: I was not able to keep these in 1 print statement but print the values under each other. \\n command returned an error. How to do this?\n",
    "#A bit neater is to print what these numbers refer to:\n",
    "a_print=(\"Number of a and A counted:\")\n",
    "e_print=(\"Number of e and E counted:\")\n",
    "i_print=(\"Number of i and I counted:\")\n",
    "o_print=(\"Number of o and O counted:\")\n",
    "u_print=(\"Number of u and U counted:\")\n",
    "print (a_print, a_count, e_print, e_count, i_print, i_count, o_print, o_count, u_print, u_count) # I was not able to keep these in 1 print statement but print the values under each other. \\n command returned an error. How to do this?"
   ]
  },
  {
   "cell_type": "code",
   "execution_count": 36,
   "metadata": {},
   "outputs": [
    {
     "name": "stdout",
     "output_type": "stream",
     "text": [
      "Help on built-in function casefold:\n",
      "\n",
      "casefold() method of builtins.str instance\n",
      "    Return a version of the string suitable for caseless comparisons.\n",
      "\n"
     ]
    }
   ],
   "source": [
    "help(text.casefold)"
   ]
  },
  {
   "cell_type": "code",
   "execution_count": 37,
   "metadata": {},
   "outputs": [
    {
     "name": "stdout",
     "output_type": "stream",
     "text": [
      "case irrelevant!\n"
     ]
    }
   ],
   "source": [
    "test = 'E'\n",
    "test_c = test.casefold()\n",
    "\n",
    "if test_c == 'e':\n",
    "    print('case irrelevant!')"
   ]
  },
  {
   "cell_type": "markdown",
   "metadata": {},
   "source": [
    "**Can you think of a simpler solution?**"
   ]
  },
  {
   "cell_type": "markdown",
   "metadata": {},
   "source": [
    "#### 4b. Printing the lexicon\n",
    "Have a good look at the internal representation of the string below. Use a combination of string methods (you will need at least 3 different ones and some will have to be used multiple times) in the correct order to remove punctuation and redundant whitespaces, and print each word in lowercase characters on a new line. The result should look like:\n",
    "\n",
    "```the  \n",
    "quick  \n",
    "brown  \n",
    "fox  \n",
    "jumps  \n",
    "etc.\n",
    "```"
   ]
  },
  {
   "cell_type": "code",
   "execution_count": 40,
   "metadata": {},
   "outputs": [
    {
     "name": "stdout",
     "output_type": "stream",
     "text": [
      "           The quick, brown fox jumps over a lazy dog.\tDJs flock by when MTV ax quiz prog. \n",
      "Junk MTV quiz graced by fox whelps.\tBawds jog, flick quartz, vex nymphs. \n",
      "Waltz, bad nymph, for quick jigs vex!\tFox nymphs grab quick-jived waltz. \n",
      "Brick quiz whangs jumpy veldt fox.       \n",
      "\n",
      "'           The quick, brown fox jumps over a lazy dog.\\tDJs flock by when MTV ax quiz prog. \\nJunk MTV quiz graced by fox whelps.\\tBawds jog, flick quartz, vex nymphs. \\nWaltz, bad nymph, for quick jigs vex!\\tFox nymphs grab quick-jived waltz. \\nBrick quiz whangs jumpy veldt fox.       '\n"
     ]
    }
   ],
   "source": [
    "text = \"\"\"           The quick, brown fox jumps over a lazy dog.\\tDJs flock by when MTV ax quiz prog. \n",
    "Junk MTV quiz graced by fox whelps.\\tBawds jog, flick quartz, vex nymphs. \n",
    "Waltz, bad nymph, for quick jigs vex!\\tFox nymphs grab quick-jived waltz. \n",
    "Brick quiz whangs jumpy veldt fox.       \"\"\"\n",
    "\n",
    "print(text)\n",
    "print()\n",
    "print(repr(text))"
   ]
  },
  {
   "cell_type": "code",
   "execution_count": 221,
   "metadata": {},
   "outputs": [],
   "source": [
    "my_text = 'some words here!!!????!!'\n",
    "#help(my_text.replace)"
   ]
  },
  {
   "cell_type": "code",
   "execution_count": 224,
   "metadata": {},
   "outputs": [
    {
     "name": "stdout",
     "output_type": "stream",
     "text": [
      "['some', 'words', 'here']\n"
     ]
    }
   ],
   "source": [
    "my_text = my_text.replace('!', '') \n",
    "my_text =  my_text.replace('?', '') \n",
    "\n",
    "my_words = my_text.split(' ')\n",
    "print(my_words)"
   ]
  },
  {
   "cell_type": "code",
   "execution_count": 213,
   "metadata": {},
   "outputs": [
    {
     "name": "stdout",
     "output_type": "stream",
     "text": [
      "this is another text\n"
     ]
    }
   ],
   "source": [
    "my_other_text = 'this is another text!!!!'\n",
    "my_new_string = my_other_text.replace('!', '')\n",
    "print(my_new_string)"
   ]
  },
  {
   "cell_type": "code",
   "execution_count": 239,
   "metadata": {},
   "outputs": [
    {
     "name": "stdout",
     "output_type": "stream",
     "text": [
      "blablaba\n",
      "some \twords here.\n"
     ]
    }
   ],
   "source": [
    "my_string = 'some \\twords here.'\n",
    "my_string.replace('\\t', '')\n",
    "print('blablaba')\n",
    "print(my_string)"
   ]
  },
  {
   "cell_type": "code",
   "execution_count": 233,
   "metadata": {},
   "outputs": [
    {
     "name": "stdout",
     "output_type": "stream",
     "text": [
      "some words here.\n"
     ]
    }
   ],
   "source": [
    "my_string = 'some words here.'\n",
    "my_string.split()\n",
    "print(my_string)"
   ]
  },
  {
   "cell_type": "code",
   "execution_count": 240,
   "metadata": {},
   "outputs": [
    {
     "name": "stdout",
     "output_type": "stream",
     "text": [
      "Help on method_descriptor:\n",
      "\n",
      "replace(self, old, new, count=-1, /)\n",
      "    Return a copy with all occurrences of substring old replaced by new.\n",
      "    \n",
      "      count\n",
      "        Maximum number of occurrences to replace.\n",
      "        -1 (the default value) means replace all occurrences.\n",
      "    \n",
      "    If the optional argument count is given, only the first count occurrences are\n",
      "    replaced.\n",
      "\n"
     ]
    }
   ],
   "source": [
    "help(str.replace)"
   ]
  },
  {
   "cell_type": "markdown",
   "metadata": {},
   "source": [
    "**Good**"
   ]
  },
  {
   "cell_type": "code",
   "execution_count": 146,
   "metadata": {},
   "outputs": [
    {
     "name": "stdout",
     "output_type": "stream",
     "text": [
      "the\n",
      "quick\n",
      "brown\n",
      "fox\n",
      "jumps\n",
      "over\n",
      "a\n",
      "lazy\n",
      "dog\n",
      "djs\n",
      "flock\n",
      "by\n",
      "when\n",
      "mtv\n",
      "ax\n",
      "quiz\n",
      "prog\n",
      "junk\n",
      "mtv\n",
      "quiz\n",
      "graced\n",
      "by\n",
      "fox\n",
      "whelps\n",
      "bawds\n",
      "jog\n",
      "flick\n",
      "quartz\n",
      "vex\n",
      "nymphs\n",
      "waltz\n",
      "bad\n",
      "nymph\n",
      "for\n",
      "quick\n",
      "jigs\n",
      "vex!\n",
      "fox\n",
      "nymphs\n",
      "grab\n",
      "quick-jived\n",
      "waltz\n",
      "brick\n",
      "quiz\n",
      "whangs\n",
      "jumpy\n",
      "veldt\n",
      "fox\n"
     ]
    }
   ],
   "source": [
    "text = text.lstrip() # what does this do?\n",
    "text = text.rstrip() # what does this do?\n",
    "text = text.replace('\\t', ' ')\n",
    "text = text.replace('\\n', ' ')\n",
    "text = text.replace(',', '')\n",
    "text = text.replace('.', '')\n",
    "text = text.lower()\n",
    "text = text.replace('  ', ' ')\n",
    "text = text.replace(' ', '\\n')\n",
    "print(text)"
   ]
  },
  {
   "cell_type": "markdown",
   "metadata": {},
   "source": [
    "**Also good, but the for-loop is not necessary**"
   ]
  },
  {
   "cell_type": "code",
   "execution_count": 41,
   "metadata": {},
   "outputs": [
    {
     "name": "stdout",
     "output_type": "stream",
     "text": [
      "the\n",
      "quick\n",
      "brown\n",
      "fox\n",
      "jumps\n",
      "over\n",
      "a\n",
      "lazy\n",
      "dogdjs\n",
      "flock\n",
      "by\n",
      "when\n",
      "mtv\n",
      "ax\n",
      "quiz\n",
      "prog\n",
      "junk\n",
      "mtv\n",
      "quiz\n",
      "graced\n",
      "by\n",
      "fox\n",
      "whelpsbawds\n",
      "jog\n",
      "flick\n",
      "quartz\n",
      "vex\n",
      "nymphs\n",
      "waltz\n",
      "bad\n",
      "nymph\n",
      "for\n",
      "quick\n",
      "jigs\n",
      "vexfox\n",
      "nymphs\n",
      "grab\n",
      "quick-jived\n",
      "waltz\n",
      "brick\n",
      "quiz\n",
      "whangs\n",
      "jumpy\n",
      "veldt\n",
      "fox\n"
     ]
    }
   ],
   "source": [
    "text = \"\"\"           The quick, brown fox jumps over a lazy dog.\\tDJs flock by when MTV ax quiz prog. \n",
    "Junk MTV quiz graced by fox whelps.\\tBawds jog, flick quartz, vex nymphs. \n",
    "Waltz, bad nymph, for quick jigs vex!\\tFox nymphs grab quick-jived waltz. \n",
    "Brick quiz whangs jumpy veldt fox.       \"\"\"\n",
    "\n",
    "text = text.lower()\n",
    "text = text.rstrip(\" \")\n",
    "text = text.lstrip(\" \")\n",
    "text = text.replace(\".\", \"\")\n",
    "text = text.replace(\",\", \"\")\n",
    "text = text.replace(\"!\", \"\")\n",
    "text = text.replace(\"\\t\", \"\")\n",
    "text = text.replace(\"\\n\", \"\")\n",
    "\n",
    "words = text.split()\n",
    "for word in words:\n",
    "    print (word)\n",
    "#alternativly, text = text.replace(\" \", \"\\n\") print (text) also works\n",
    "#I'm not sure if compunded words like \"quick-jived\", should also be rendered into single words or not."
   ]
  },
  {
   "cell_type": "markdown",
   "metadata": {},
   "source": [
    "**OK, but hard to read and not complete**\n",
    "\n",
    "--> What is missing"
   ]
  },
  {
   "cell_type": "code",
   "execution_count": 42,
   "metadata": {},
   "outputs": [
    {
     "name": "stdout",
     "output_type": "stream",
     "text": [
      "the\n",
      "quick\n",
      "brown\n",
      "fox\n",
      "jumps\n",
      "over\n",
      "a\n",
      "lazy\n",
      "dog.\n",
      "djs\n",
      "flock\n",
      "by\n",
      "when\n",
      "mtv\n",
      "ax\n",
      "quiz\n",
      "prog.\n",
      "junk\n",
      "mtv\n",
      "quiz\n",
      "graced\n",
      "by\n",
      "fox\n",
      "whelps.\n",
      "bawds\n",
      "jog\n",
      "flick\n",
      "quartz\n",
      "vex\n",
      "nymphs.\n",
      "waltz\n",
      "bad\n",
      "nymph\n",
      "for\n",
      "quick\n",
      "jigs\n",
      "vex!\n",
      "fox\n",
      "nymphs\n",
      "grab\n",
      "quick-jived\n",
      "waltz.\n",
      "brick\n",
      "quiz\n",
      "whangs\n",
      "jumpy\n",
      "veldt\n",
      "fox.\n"
     ]
    }
   ],
   "source": [
    "text = \"\"\"           The quick, brown fox jumps over a lazy dog.\\tDJs flock by when MTV ax quiz prog. \n",
    "Junk MTV quiz graced by fox whelps.\\tBawds jog, flick quartz, vex nymphs. \n",
    "Waltz, bad nymph, for quick jigs vex!\\tFox nymphs grab quick-jived waltz. \n",
    "Brick quiz whangs jumpy veldt fox.       \"\"\"\n",
    "text = text.strip().replace(\"\\n\",\"\").replace(\"\\t\", \" \").replace(\",\",\"\").lower().replace(\" \",\"\\n\")\n",
    "\n",
    "print(text)"
   ]
  },
  {
   "cell_type": "markdown",
   "metadata": {},
   "source": [
    "#### 4c. Passwords\n",
    "\n",
    "Write a program that asks a user for a password and checks some simple requirements of a password. If necessary, print out the following warnings (use if-statements):\n",
    "\n",
    "1. Your password should contain at least 6 characters.\n",
    "2. Your password should contain no more than 12 characters.\n",
    "3. Your password only contains alphabetic characters! Please also use digits and/or special characters.\n",
    "4. Your password only contains digits! Please also use alphabetic and/or special characters.\n",
    "5. Your password should contain at least one special character.\n",
    "6. Your password contains only lowercase letters! Please also use uppercase letters.\n",
    "7. Your password contains only uppercase letters! Please also use lowercase letters."
   ]
  },
  {
   "cell_type": "markdown",
   "metadata": {},
   "source": [
    "**Pay attention to:**\n",
    "\n",
    "* string methods - exploit the power of what the standard library has to offer!\n",
    "* boolean expressions - combine in the right way\n",
    "* user-friendliness: if-if or if-elif?"
   ]
  },
  {
   "cell_type": "markdown",
   "metadata": {},
   "source": [
    "**Ok, but not the most user-friendly option:**\n",
    "\n",
    "* If vs elif?\n",
    "* Readability: how to check booleans?"
   ]
  },
  {
   "cell_type": "code",
   "execution_count": 164,
   "metadata": {},
   "outputs": [
    {
     "data": {
      "text/plain": [
       "['__add__',\n",
       " '__class__',\n",
       " '__contains__',\n",
       " '__delattr__',\n",
       " '__dir__',\n",
       " '__doc__',\n",
       " '__eq__',\n",
       " '__format__',\n",
       " '__ge__',\n",
       " '__getattribute__',\n",
       " '__getitem__',\n",
       " '__getnewargs__',\n",
       " '__gt__',\n",
       " '__hash__',\n",
       " '__init__',\n",
       " '__init_subclass__',\n",
       " '__iter__',\n",
       " '__le__',\n",
       " '__len__',\n",
       " '__lt__',\n",
       " '__mod__',\n",
       " '__mul__',\n",
       " '__ne__',\n",
       " '__new__',\n",
       " '__reduce__',\n",
       " '__reduce_ex__',\n",
       " '__repr__',\n",
       " '__rmod__',\n",
       " '__rmul__',\n",
       " '__setattr__',\n",
       " '__sizeof__',\n",
       " '__str__',\n",
       " '__subclasshook__',\n",
       " 'capitalize',\n",
       " 'casefold',\n",
       " 'center',\n",
       " 'count',\n",
       " 'encode',\n",
       " 'endswith',\n",
       " 'expandtabs',\n",
       " 'find',\n",
       " 'format',\n",
       " 'format_map',\n",
       " 'index',\n",
       " 'isalnum',\n",
       " 'isalpha',\n",
       " 'isascii',\n",
       " 'isdecimal',\n",
       " 'isdigit',\n",
       " 'isidentifier',\n",
       " 'islower',\n",
       " 'isnumeric',\n",
       " 'isprintable',\n",
       " 'isspace',\n",
       " 'istitle',\n",
       " 'isupper',\n",
       " 'join',\n",
       " 'ljust',\n",
       " 'lower',\n",
       " 'lstrip',\n",
       " 'maketrans',\n",
       " 'partition',\n",
       " 'removeprefix',\n",
       " 'removesuffix',\n",
       " 'replace',\n",
       " 'rfind',\n",
       " 'rindex',\n",
       " 'rjust',\n",
       " 'rpartition',\n",
       " 'rsplit',\n",
       " 'rstrip',\n",
       " 'split',\n",
       " 'splitlines',\n",
       " 'startswith',\n",
       " 'strip',\n",
       " 'swapcase',\n",
       " 'title',\n",
       " 'translate',\n",
       " 'upper',\n",
       " 'zfill']"
      ]
     },
     "execution_count": 164,
     "metadata": {},
     "output_type": "execute_result"
    }
   ],
   "source": [
    "password = 'test'\n",
    "dir(str)"
   ]
  },
  {
   "cell_type": "code",
   "execution_count": 166,
   "metadata": {},
   "outputs": [
    {
     "name": "stdout",
     "output_type": "stream",
     "text": [
      "Help on method_descriptor:\n",
      "\n",
      "isalpha(self, /)\n",
      "    Return True if the string is an alphabetic string, False otherwise.\n",
      "    \n",
      "    A string is alphabetic if all characters in the string are alphabetic and there\n",
      "    is at least one character in the string.\n",
      "\n"
     ]
    }
   ],
   "source": [
    "help(str.isalpha)"
   ]
  },
  {
   "cell_type": "code",
   "execution_count": 176,
   "metadata": {},
   "outputs": [],
   "source": [
    "# Your password should contain at least 6 characters.\n",
    "password = 'testte'\n",
    "\n",
    "if len(password) < 6:\n",
    "    print('Your password should contain at least 6 characters.')"
   ]
  },
  {
   "cell_type": "code",
   "execution_count": 171,
   "metadata": {},
   "outputs": [
    {
     "name": "stdout",
     "output_type": "stream",
     "text": [
      "False\n"
     ]
    }
   ],
   "source": [
    "test = '4'\n",
    "print(test.isalpha())"
   ]
  },
  {
   "cell_type": "code",
   "execution_count": 195,
   "metadata": {},
   "outputs": [
    {
     "name": "stdin",
     "output_type": "stream",
     "text": [
      "Type a password: test\n"
     ]
    },
    {
     "name": "stdout",
     "output_type": "stream",
     "text": [
      "your password should contain at least 6 characters\n",
      "Password must contain at least one special character\n"
     ]
    }
   ],
   "source": [
    "password=input('Type a password:')\n",
    "if len(password)<6:\n",
    "    print('your password should contain at least 6 characters')\n",
    "elif len(password)>12:\n",
    "     print('your password should contain no more than 12 characters')\n",
    "elif password.isalpha()==1:\n",
    "     print('your password only contains alphabetic characters! Please also use digits and/or special characters.')\n",
    "elif password.isnumeric()==1:\n",
    "     print('Your password only contains digits! Please also use alphabetic and/or special characters.')\n",
    "elif password.lower()==1:\n",
    "     print('Your password contains only lowercase letters! Please also use uppercase letters.')\n",
    "if password.isalnum() == 1:\n",
    "    print(\"Password must contain at least one special character\")\n",
    "elif password.upper()==1:\n",
    "    print('Your password contains only uppercase letters! Please also use lowercase letters.')\n",
    "else:\n",
    "    print(\"it's a good password\")\n"
   ]
  },
  {
   "cell_type": "markdown",
   "metadata": {},
   "source": [
    "**Ok, but unnecessarily complex**\n",
    "\n",
    "Is this necessary? How can we simplify it?\n",
    "\n",
    "Does it follow the instructions?\n",
    "\n",
    "\"Your password only contains alphabetic characters! Please also use digits and/or special characters.\"\n",
    "\n",
    "--> password = 'passw3rd' is ok for this\n",
    "\n",
    "```\n",
    "if not (any(not chars.isalnum() for chars in password)):\n",
    "    print(\"Your password should contain at least one special character.\")\n",
    "    \n",
    "```"
   ]
  },
  {
   "cell_type": "code",
   "execution_count": 194,
   "metadata": {},
   "outputs": [
    {
     "name": "stdout",
     "output_type": "stream",
     "text": [
      "Your password should contain at least 6 characters.\n",
      "Your password only contains alphabetic characters! Please also use digits and/or special characters.\n",
      "Your password should contain at least one special character.\n",
      "Your password contains only lowercase letters! Please also use uppercase letters.\n"
     ]
    }
   ],
   "source": [
    "# your code here\n",
    "password = \"test\"\n",
    "if len(password)<6:\n",
    "    print(\"Your password should contain at least 6 characters.\")\n",
    "if len(password)>12:\n",
    "    print(\"Your password should contain no more than 12 characters.\")\n",
    "if password.isalpha():\n",
    "    print(\"Your password only contains alphabetic characters! Please also use digits and/or special characters.\")\n",
    "if password.isdigit():\n",
    "    print(\"Your password only contains digits! Please also use alphabetic and/or special characters.\")\n",
    "if not (any(not chars.isalnum() for chars in password)):\n",
    "    print(\"Your password should contain at least one special character.\")\n",
    "if password.islower():\n",
    "    print(\"Your password contains only lowercase letters! Please also use uppercase letters.\")\n",
    "if password.isupper():\n",
    "    print(\"Your password contains only uppercase letters! Please also use lowercase letters.\")"
   ]
  },
  {
   "cell_type": "code",
   "execution_count": 67,
   "metadata": {},
   "outputs": [
    {
     "name": "stdout",
     "output_type": "stream",
     "text": [
      "Your password should contain at least one special character.\n"
     ]
    }
   ],
   "source": [
    "password = 'test5'\n",
    "\n",
    "if not (any(not chars.isalnum() for chars in password)):\n",
    "    print(\"Your password should contain at least one special character.\")"
   ]
  },
  {
   "cell_type": "code",
   "execution_count": 200,
   "metadata": {},
   "outputs": [],
   "source": [
    "password = 'te st'\n",
    "if password.isalnum():\n",
    "    print(\"Your password should contain at least one special character.\")"
   ]
  },
  {
   "cell_type": "code",
   "execution_count": 193,
   "metadata": {},
   "outputs": [
    {
     "name": "stdout",
     "output_type": "stream",
     "text": [
      "Your password should contain at least one special character.\n"
     ]
    }
   ],
   "source": [
    "password = 'test'\n",
    "if password.isalnum():\n",
    "    print(\"Your password should contain at least one special character.\")"
   ]
  },
  {
   "cell_type": "code",
   "execution_count": 189,
   "metadata": {},
   "outputs": [
    {
     "data": {
      "text/plain": [
       "True"
      ]
     },
     "execution_count": 189,
     "metadata": {},
     "output_type": "execute_result"
    }
   ],
   "source": [
    "test = 'test5'\n",
    "test.isalnum()"
   ]
  },
  {
   "cell_type": "code",
   "execution_count": 182,
   "metadata": {},
   "outputs": [
    {
     "name": "stdout",
     "output_type": "stream",
     "text": [
      "Help on built-in function isalnum:\n",
      "\n",
      "isalnum() method of builtins.str instance\n",
      "    Return True if the string is an alpha-numeric string, False otherwise.\n",
      "    \n",
      "    A string is alpha-numeric if all characters in the string are alpha-numeric and\n",
      "    there is at least one character in the string.\n",
      "\n"
     ]
    }
   ],
   "source": [
    "help(test.isalnum)"
   ]
  },
  {
   "cell_type": "markdown",
   "metadata": {},
   "source": [
    "**Complete solution**"
   ]
  },
  {
   "cell_type": "code",
   "execution_count": 71,
   "metadata": {},
   "outputs": [
    {
     "name": "stdin",
     "output_type": "stream",
     "text": [
      "Please enter your new password:  test5\n"
     ]
    },
    {
     "name": "stdout",
     "output_type": "stream",
     "text": [
      "Password must contain 6 characters\n",
      "Password must contain at least one special character\n",
      "Password contains only lowercase letters! Please also use uppercase letters\n"
     ]
    }
   ],
   "source": [
    "\n",
    "password = input(\"Please enter your new password: \")\n",
    "\n",
    "#1 - check length (too short)\n",
    "if len(password) < 6:\n",
    "    print(\"Password must contain 6 characters\")\n",
    "    \n",
    "#2 - check length (too long)\n",
    "if len(password) > 12:\n",
    "    print(\"Password must not contain more than 12 characters\")\n",
    "    \n",
    "#3 - check if only alphabetic\n",
    "if password.isalpha() == 1 and password.isalnum():\n",
    "    print(\"Password only contains alphabetic characters! Please also use digits and/or special characters\")\n",
    "\n",
    "#4 - check if only numeric\n",
    "if password.isnumeric() == 1:\n",
    "    print(\"Password only contains digits! Please also use alphabetic charachters and/or special characters\")\n",
    "    \n",
    "#5 - check if there are special characters\n",
    "if password.isalnum() == 1:\n",
    "    print(\"Password must contain at least one special character\")\n",
    "\n",
    "#6 - check if only lowercase\n",
    "if password.lower() == password:\n",
    "    print(\"Password contains only lowercase letters! Please also use uppercase letters\")\n",
    "    \n",
    "#7 - check if only uppercase\n",
    "if password.upper() == password:\n",
    "    print(\"Password contains only uppercase letters! Please also use lowercase letters\")"
   ]
  },
  {
   "cell_type": "markdown",
   "metadata": {},
   "source": [
    "## Exercise 5: Boolean Logic and Conditions"
   ]
  },
  {
   "cell_type": "markdown",
   "metadata": {},
   "source": [
    "#### 5a. Speeding\n",
    "\n",
    "Write code to solve the following scenario:\n",
    "\n",
    "You are driving a little too fast, and a police officer stops you. Write code to compute and print the result, encoded as a string: 'no ticket', 'small ticket', 'big ticket'. If speed is 60 or less, the result is 'no ticket'. If speed is between 61 and 80 inclusive, the result is 'small ticket'. If speed is 81 or more, the result is 'big ticket'. Unless it is your birthday -- on that day, your speed can be 5 higher in all cases."
   ]
  },
  {
   "cell_type": "markdown",
   "metadata": {},
   "source": [
    "**Good**\n",
    "\n",
    "Can we shorten this?"
   ]
  },
  {
   "cell_type": "code",
   "execution_count": 78,
   "metadata": {},
   "outputs": [
    {
     "name": "stdin",
     "output_type": "stream",
     "text": [
      "What speed are you driving at?  65\n",
      "May I ask, is today your birthday? (y/n):  n\n"
     ]
    },
    {
     "name": "stdout",
     "output_type": "stream",
     "text": [
      "small ticket\n"
     ]
    }
   ],
   "source": [
    "speed = int(input(\"What speed are you driving at? \"))\n",
    "is_bday = input(\"May I ask, is today your birthday? (y/n): \")\n",
    "\n",
    "if is_bday == 'y':\n",
    "    if speed <= 65:\n",
    "        print(\"no ticket\")\n",
    "    elif speed <= 85:\n",
    "        print(\"small ticket\")\n",
    "    else:\n",
    "        print(\"big ticket\")\n",
    "elif is_bday == 'n':\n",
    "    if speed <= 60:\n",
    "        print(\"no ticket\")\n",
    "    elif speed <= 80:\n",
    "        print(\"small ticket\")\n",
    "    else:\n",
    "        print(\"big ticket\")"
   ]
  },
  {
   "cell_type": "markdown",
   "metadata": {},
   "source": [
    "**Short solution**"
   ]
  },
  {
   "cell_type": "code",
   "execution_count": 82,
   "metadata": {},
   "outputs": [
    {
     "name": "stdout",
     "output_type": "stream",
     "text": [
      "small ticket\n"
     ]
    }
   ],
   "source": [
    "speed = 78\n",
    "birthday = False\n",
    "\n",
    "if birthday:\n",
    "    speed = speed - 5\n",
    "    \n",
    "if speed >= 81:\n",
    "    result = 'big ticket'\n",
    "elif speed >= 61:\n",
    "    result = 'small ticket'\n",
    "elif speed <= 60:\n",
    "    result = 'no ticket'\n",
    "    \n",
    "\n",
    "print(result)"
   ]
  },
  {
   "cell_type": "markdown",
   "metadata": {},
   "source": [
    "**Would this work?**\n",
    "\n",
    "Does it give the correct output? Could if go wrong?\n",
    "\n",
    "Try speed above 80"
   ]
  },
  {
   "cell_type": "code",
   "execution_count": 131,
   "metadata": {},
   "outputs": [
    {
     "name": "stdout",
     "output_type": "stream",
     "text": [
      "small ticket\n"
     ]
    }
   ],
   "source": [
    "speed = 81\n",
    "birthday = False\n",
    "\n",
    "if birthday:\n",
    "    speed = speed - 5\n",
    "    \n",
    "if speed >= 81:\n",
    "    result = 'big ticket'\n",
    "    #print(result)\n",
    "if speed >= 61:\n",
    "    result = 'small ticket'\n",
    "    #print(result)\n",
    "if speed <= 60:\n",
    "    result = 'no ticket'\n",
    "    #print(result)\n",
    "    \n",
    "\n",
    "print(result)"
   ]
  },
  {
   "cell_type": "markdown",
   "metadata": {},
   "source": [
    "#### 5b. Alarm clock\n",
    "\n",
    "Write code to set you alarm clock! Given the day of the week and information about whether you are currently on vacation or not, your code should print the time you want to be woken up following these constraints: \n",
    "\n",
    "Weekdays, the alarm should be \"7:00\" and on the weekend it should be \"10:00\". Unless we are on vacation -- then on weekdays it should be \"10:00\" and weekends it should be \"off\".\n",
    "\n",
    "\n",
    "Encode the weeks days as ints in the following way: 0=Sun, 1=Mon, 2=Tue, ...6=Sat. Encode the vacation infromation as boolean. Your code should assign the correct time to a variable as a string (following this format: \"7:00\") and print it.\n",
    "\n",
    "Note: Encoding the days as an integer helps you with defining conditions. You can check whether the week day is in a certain interval (instead of writing code for every single day). "
   ]
  },
  {
   "cell_type": "code",
   "execution_count": null,
   "metadata": {},
   "outputs": [],
   "source": [
    "weekday = input('specify weekday')\n",
    "\n",
    "# also ok - sorry for the typing ;-) "
   ]
  },
  {
   "cell_type": "markdown",
   "metadata": {},
   "source": [
    "**Good**\n",
    "\n",
    "--> Why use integers for the week days? Consider the solution below."
   ]
  },
  {
   "cell_type": "code",
   "execution_count": 248,
   "metadata": {},
   "outputs": [
    {
     "name": "stdout",
     "output_type": "stream",
     "text": [
      "Happy Tuesday\n",
      "7:00\n"
     ]
    }
   ],
   "source": [
    "weekday = 2\n",
    "# 0=Sunday, 1=Monday, 2=Tuesday, 3=Wednesday, 4=Thursday, 5=Friday, 6=Saturday\n",
    "vacation = False\n",
    "time = \"\"\n",
    "\n",
    "if vacation == False:\n",
    "    \n",
    "    #if weekday > 0 and weekday < 6:\n",
    "    if 0 < weekday < 3:\n",
    "        time = \"7:00\"\n",
    "        if weekday == 2:\n",
    "            print(\"Happy Tuesday\")\n",
    "    elif 3 < 6:\n",
    "        time = '8:00'\n",
    "    else:\n",
    "        time = \"10:00\"\n",
    "    \n",
    "        \n",
    "else:\n",
    "    if weekday > 0 and weekday < 6:\n",
    "        time = \"10:00\"\n",
    "    else:\n",
    "        time = \"off\"\n",
    "        \n",
    "print(time)"
   ]
  },
  {
   "cell_type": "markdown",
   "metadata": {},
   "source": [
    "**Does this work?**\n",
    "\n",
    "--> What is missing?\n",
    "\n",
    "Tip: Try weekend during vacation (should be off)"
   ]
  },
  {
   "cell_type": "code",
   "execution_count": 105,
   "metadata": {},
   "outputs": [
    {
     "name": "stdout",
     "output_type": "stream",
     "text": [
      "Wake up at 10:00\n"
     ]
    }
   ],
   "source": [
    "today = 6\n",
    "vacation = 'yes'\n",
    "\n",
    "seven = '7:00'\n",
    "ten = '10:00'\n",
    "\n",
    "\n",
    "if today != 0 and today != 6 and vacation == 'no':\n",
    "    print('Wake up at', seven)\n",
    "else:\n",
    "    print('Wake up at', ten)"
   ]
  },
  {
   "cell_type": "markdown",
   "metadata": {},
   "source": [
    "**Start, but not quite there**"
   ]
  },
  {
   "cell_type": "code",
   "execution_count": 106,
   "metadata": {},
   "outputs": [
    {
     "name": "stdin",
     "output_type": "stream",
     "text": [
      " sunday\n"
     ]
    },
    {
     "name": "stdout",
     "output_type": "stream",
     "text": [
      "10:00\n"
     ]
    }
   ],
   "source": [
    "# your code here\n",
    "day = input()\n",
    "if day == 'monday':\n",
    "    print('7:00')\n",
    "if day == 'tuesday':\n",
    "    print('7:00')\n",
    "if day == 'wednesday':\n",
    "    print('7:00')\n",
    "if day == 'thursday':\n",
    "    print('7:00')\n",
    "if day == 'friday':\n",
    "    print('7:00')\n",
    "if day == 'saturday':\n",
    "    print('10:00')\n",
    "if day == 'sunday':\n",
    "    print('10:00')"
   ]
  },
  {
   "cell_type": "markdown",
   "metadata": {},
   "source": [
    "#### 5c. Parcel delivery\n",
    "The required postage for an  international parcel delivery service is calculated based on item weight and country of destination:\n",
    "\n",
    "\n",
    "| Tariff zone | 0 - 2 kg | 2 - 5 kg | 5 - 10 kg | 10 - 20 kg | 20 - 30 kg |\n",
    "|-------------|----------|----------|-----------|------------|------------|\n",
    "|EUR 1 | € 13.00 | € 19.50 | € 25.00 | € 34.00 | € 45.00 | \n",
    "|EUR 2 | € 18.50 | € 25.00 | € 31.00 | € 40.00 | € 55.00 | \n",
    "|World | € 24.30 | € 34.30 | € 58.30 | € 105.30 | - | \n",
    "\n",
    "Ask a user for the `weight` and `zone`. Use (nested) `if`-statements to find the required postage based on these variables. Assign the result to a variable `postage` and print the result using a full sentence:\n",
    "\n",
    "`The price of sending a [...] kg parcel to the [...] zone is € [...].`"
   ]
  },
  {
   "cell_type": "markdown",
   "metadata": {},
   "source": [
    "**Good**\n",
    "\n",
    "\n",
    "Tiny improvement possible\n",
    "\n",
    "--> Can you find the problem?\n",
    "\n",
    "Tip: \n",
    "first test 20 kg in EUR 1, then test 40 kg in zone EUR 1"
   ]
  },
  {
   "cell_type": "code",
   "execution_count": 148,
   "metadata": {},
   "outputs": [
    {
     "name": "stdin",
     "output_type": "stream",
     "text": [
      "what is your weight please? 40\n",
      "what is your zone please? EUR 1\n"
     ]
    },
    {
     "name": "stdout",
     "output_type": "stream",
     "text": [
      "The price of sending a 40.0 kg parcel to the EUR 1 zone is € 34.0.\n"
     ]
    }
   ],
   "source": [
    "# your code here\n",
    "weight = float(input('what is your weight please?'))\n",
    "zone = input('what is your zone please?')\n",
    "\n",
    "if zone == \"EUR 1\":\n",
    "    if weight <= 2:\n",
    "        postage = 13.00\n",
    "    elif weight <= 5:\n",
    "        postage = 19.50\n",
    "    elif weight <= 10:\n",
    "        postage = 25.00\n",
    "    elif weight <= 20:\n",
    "        postage = 34.00\n",
    "    elif weight <= 30:\n",
    "        postage = 45\n",
    "\n",
    "elif zone == \"EUR 2\":\n",
    "    if weight <= 2:\n",
    "        postage = 18.50\n",
    "    elif weight <= 5:\n",
    "        postage = 25.00\n",
    "    elif weight <= 10:\n",
    "        postage = 31.00\n",
    "    elif weight <= 20:\n",
    "        postage = 40.00\n",
    "    elif weight <= 30:\n",
    "        postage = 55.00\n",
    "\n",
    "elif zone == \"World\":\n",
    "    if weight <= 2:\n",
    "        postage = 24.30\n",
    "    elif weight <= 5:\n",
    "        postage = 34.30\n",
    "    elif weight <= 10:\n",
    "        postage = 58.30\n",
    "    elif weight <= 20:\n",
    "        postage = 105.30\n",
    "    elif weight <= 30:\n",
    "        postage = \"not possible\"\n",
    "\n",
    "price = f'The price of sending a {weight} kg parcel to the {zone} zone is € {postage}.'\n",
    "print(price)"
   ]
  },
  {
   "cell_type": "markdown",
   "metadata": {},
   "source": [
    "**Can you fix it?**"
   ]
  },
  {
   "cell_type": "code",
   "execution_count": 123,
   "metadata": {},
   "outputs": [
    {
     "name": "stdout",
     "output_type": "stream",
     "text": [
      "25.0\n"
     ]
    }
   ],
   "source": [
    "# your code here\n",
    "weight = 40\n",
    "zone = 'EUR 1'\n",
    "\n",
    "if zone == \"EUR 1\":\n",
    "    if weight <= 2:\n",
    "        postage = 13.00\n",
    "        print(postage)\n",
    "    elif weight <= 5:\n",
    "        postage = 19.50\n",
    "        print(postage)\n",
    "    elif weight <= 10:\n",
    "        postage = 25.00\n",
    "        print(postage)\n",
    "    elif weight <= 20:\n",
    "        postage = 34.00\n",
    "        print(postage)\n",
    "    elif weight <= 30:\n",
    "        postage = 45\n",
    "        print(postage)\n",
    "print(postage)"
   ]
  },
  {
   "cell_type": "markdown",
   "metadata": {},
   "source": [
    "**Why nested if-conditions are useful:**"
   ]
  },
  {
   "cell_type": "code",
   "execution_count": null,
   "metadata": {},
   "outputs": [],
   "source": [
    "weight = input(\"what is the weight of your package: \")\n",
    "print (weight)\n",
    "\n",
    "zone = input(\"what is the country of destination: \")\n",
    "print (zone)\n",
    "\n",
    "if weight <=2 and zone \"Eur 1\":\n",
    "    postage = 13\n",
    "    \n",
    "if weight <=2 and zone \"Eur 2\":\n",
    "    postage = 18.50\n",
    "    \n",
    "if weight <=2 and zone \"World\":\n",
    "    postage = 24.30\n",
    "    \n",
    "    \n",
    "print (f\"The price of sending a {weight} kg parcel to the {zone} is $ {postage})\n",
    "    "
   ]
  }
 ],
 "metadata": {
  "kernelspec": {
   "display_name": "Python 3 (ipykernel)",
   "language": "python",
   "name": "python3"
  },
  "language_info": {
   "codemirror_mode": {
    "name": "ipython",
    "version": 3
   },
   "file_extension": ".py",
   "mimetype": "text/x-python",
   "name": "python",
   "nbconvert_exporter": "python",
   "pygments_lexer": "ipython3",
   "version": "3.9.12"
  }
 },
 "nbformat": 4,
 "nbformat_minor": 4
}
